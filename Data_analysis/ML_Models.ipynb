{
 "cells": [
  {
   "cell_type": "markdown",
   "metadata": {},
   "source": [
    "# Machine Learning Models"
   ]
  },
  {
   "cell_type": "markdown",
   "metadata": {},
   "source": [
    "In this notebook we will use the data available to make sentiment analysis and predictive models around the satisfaction of the clients according to the use of the E-Commerce and the reviews of the purchases in order to improve the UX by the ofert available at the Marketplace.\n",
    "\n",
    "**References:**\n",
    "- [NLP](https://www.kaggle.com/code/thiagopanini/e-commerce-sentiment-analysis-eda-viz-nlp)\n",
    "- [Customer Satisfaction Prediction](https://www.kaggle.com/code/khakim17/custumer-satisfaction-prediction-and-analysist)"
   ]
  },
  {
   "cell_type": "code",
   "execution_count": null,
   "metadata": {},
   "outputs": [
    {
     "name": "stdout",
     "output_type": "stream",
     "text": [
      "Requirement already satisfied: nltk in ./venv/lib/python3.9/site-packages (3.7)\n",
      "Requirement already satisfied: sklearn in ./venv/lib/python3.9/site-packages (0.0)\n",
      "Requirement already satisfied: joblib in ./venv/lib/python3.9/site-packages (1.1.0)\n",
      "Requirement already satisfied: tqdm in ./venv/lib/python3.9/site-packages (from nltk) (4.64.0)\n",
      "Requirement already satisfied: regex>=2021.8.3 in ./venv/lib/python3.9/site-packages (from nltk) (2022.6.2)\n",
      "Requirement already satisfied: click in ./venv/lib/python3.9/site-packages (from nltk) (8.1.3)\n",
      "Requirement already satisfied: scikit-learn in ./venv/lib/python3.9/site-packages (from sklearn) (1.1.1)\n",
      "Requirement already satisfied: numpy>=1.17.3 in ./venv/lib/python3.9/site-packages (from scikit-learn->sklearn) (1.22.4)\n",
      "Requirement already satisfied: threadpoolctl>=2.0.0 in ./venv/lib/python3.9/site-packages (from scikit-learn->sklearn) (3.1.0)\n",
      "Requirement already satisfied: scipy>=1.3.2 in ./venv/lib/python3.9/site-packages (from scikit-learn->sklearn) (1.8.1)\n"
     ]
    }
   ],
   "source": [
    "!pip install nltk sklearn joblib"
   ]
  },
  {
   "cell_type": "code",
   "execution_count": null,
   "metadata": {},
   "outputs": [
    {
     "name": "stderr",
     "output_type": "stream",
     "text": [
      "[nltk_data] Downloading package rslp to /home/alexrods/nltk_data...\n",
      "[nltk_data]   Package rslp is already up-to-date!\n"
     ]
    }
   ],
   "source": [
    "import pandas as pd\n",
    "import numpy as np\n",
    "import matplotlib\n",
    "import matplotlib.pyplot as plt\n",
    "import seaborn as sns\n",
    "\n",
    "# DataPrep\n",
    "import re\n",
    "import nltk\n",
    "nltk.download('rslp')\n",
    "from nltk.corpus import stopwords\n",
    "from nltk.stem import RSLPStemmer\n",
    "from nltk.data import load\n",
    "from nltk.stem.api import StemmerI\n",
    "\n",
    "\n",
    "#Model Training\n",
    "from sklearn.feature_extraction.text import CountVectorizer, TfidfVectorizer\n",
    "from sklearn.base import BaseEstimator, TransformerMixin\n",
    "from sklearn.pipeline import Pipeline\n",
    "from sklearn.model_selection import train_test_split\n",
    "from sklearn.linear_model import LogisticRegression\n",
    "from sklearn.naive_bayes import GaussianNB"
   ]
  },
  {
   "cell_type": "code",
   "execution_count": null,
   "metadata": {},
   "outputs": [],
   "source": [
    "reviews_df = pd.read_csv('datasets/order_reviews.csv')"
   ]
  },
  {
   "cell_type": "code",
   "execution_count": null,
   "metadata": {},
   "outputs": [
    {
     "name": "stdout",
     "output_type": "stream",
     "text": [
      "Dataset shape: (40977, 2)\n"
     ]
    },
    {
     "data": {
      "text/html": [
       "<div>\n",
       "<style scoped>\n",
       "    .dataframe tbody tr th:only-of-type {\n",
       "        vertical-align: middle;\n",
       "    }\n",
       "\n",
       "    .dataframe tbody tr th {\n",
       "        vertical-align: top;\n",
       "    }\n",
       "\n",
       "    .dataframe thead th {\n",
       "        text-align: right;\n",
       "    }\n",
       "</style>\n",
       "<table border=\"1\" class=\"dataframe\">\n",
       "  <thead>\n",
       "    <tr style=\"text-align: right;\">\n",
       "      <th></th>\n",
       "      <th>score</th>\n",
       "      <th>comment</th>\n",
       "    </tr>\n",
       "  </thead>\n",
       "  <tbody>\n",
       "    <tr>\n",
       "      <th>0</th>\n",
       "      <td>5</td>\n",
       "      <td>Recebi bem antes do prazo estipulado.</td>\n",
       "    </tr>\n",
       "    <tr>\n",
       "      <th>1</th>\n",
       "      <td>5</td>\n",
       "      <td>Parabéns lojas lannister adorei comprar pela I...</td>\n",
       "    </tr>\n",
       "    <tr>\n",
       "      <th>2</th>\n",
       "      <td>4</td>\n",
       "      <td>aparelho eficiente. no site a marca do aparelh...</td>\n",
       "    </tr>\n",
       "    <tr>\n",
       "      <th>3</th>\n",
       "      <td>4</td>\n",
       "      <td>Mas um pouco ,travando...pelo valor ta Boa.\\n</td>\n",
       "    </tr>\n",
       "    <tr>\n",
       "      <th>4</th>\n",
       "      <td>5</td>\n",
       "      <td>Vendedor confiável, produto ok e entrega antes...</td>\n",
       "    </tr>\n",
       "  </tbody>\n",
       "</table>\n",
       "</div>"
      ],
      "text/plain": [
       "   score                                            comment\n",
       "0      5              Recebi bem antes do prazo estipulado.\n",
       "1      5  Parabéns lojas lannister adorei comprar pela I...\n",
       "2      4  aparelho eficiente. no site a marca do aparelh...\n",
       "3      4      Mas um pouco ,travando...pelo valor ta Boa.\\n\n",
       "4      5  Vendedor confiável, produto ok e entrega antes..."
      ]
     },
     "execution_count": 6,
     "metadata": {},
     "output_type": "execute_result"
    }
   ],
   "source": [
    "df_comments = reviews_df.loc[:, ['review_score', 'review_comment_message']]\n",
    "df_comments = df_comments.dropna(subset=['review_comment_message'])\n",
    "df_comments = df_comments.reset_index(drop=True)\n",
    "print(f'Dataset shape: {df_comments.shape}')\n",
    "df_comments.columns = ['score', 'comment']\n",
    "df_comments.head()"
   ]
  },
  {
   "cell_type": "markdown",
   "metadata": {},
   "source": [
    "## Cleaning the reviews with RegEx"
   ]
  },
  {
   "cell_type": "markdown",
   "metadata": {},
   "source": [
    "### Creating the Stemmer"
   ]
  },
  {
   "cell_type": "code",
   "execution_count": null,
   "metadata": {},
   "outputs": [],
   "source": [
    "class RSLPStemmer(StemmerI):\n",
    "    \"\"\"\n",
    "    A stemmer for Portuguese.\n",
    "\n",
    "        >>> from nltk.stem import RSLPStemmer\n",
    "        >>> st = RSLPStemmer()\n",
    "        >>> # opening lines of Erico Verissimo's \"Música ao Longe\"\n",
    "        >>> text = '''\n",
    "        ... Clarissa risca com giz no quadro-negro a paisagem que os alunos\n",
    "        ... devem copiar . Uma casinha de porta e janela , em cima duma\n",
    "        ... coxilha .'''\n",
    "        >>> for token in text.split():\n",
    "        ...     print(st.stem(token))\n",
    "        clariss risc com giz no quadro-negr a pais que os alun dev copi .\n",
    "        uma cas de port e janel , em cim dum coxilh .\n",
    "    \"\"\"\n",
    "\n",
    "    def __init__(self):\n",
    "        self._model = []\n",
    "\n",
    "        self._model.append(self.read_rule(\"step0.pt\"))\n",
    "        self._model.append(self.read_rule(\"step1.pt\"))\n",
    "        self._model.append(self.read_rule(\"step2.pt\"))\n",
    "        self._model.append(self.read_rule(\"step3.pt\"))\n",
    "        self._model.append(self.read_rule(\"step4.pt\"))\n",
    "        self._model.append(self.read_rule(\"step5.pt\"))\n",
    "        self._model.append(self.read_rule(\"step6.pt\"))\n",
    "\n",
    "\n",
    "    def read_rule(self, filename):\n",
    "        rules = load(\"nltk:stemmers/rslp/\" + filename, format=\"raw\").decode(\"utf8\")\n",
    "        lines = rules.split(\"\\n\")\n",
    "\n",
    "        lines = [line for line in lines if line != \"\"]  # remove blank lines\n",
    "        lines = [line for line in lines if line[0] != \"#\"]  # remove comments\n",
    "\n",
    "        # NOTE: a simple but ugly hack to make this parser happy with double '\\t's\n",
    "        lines = [line.replace(\"\\t\\t\", \"\\t\") for line in lines]\n",
    "\n",
    "        # parse rules\n",
    "        rules = []\n",
    "        for line in lines:\n",
    "            rule = []\n",
    "            tokens = line.split(\"\\t\")\n",
    "\n",
    "            # text to be searched for at the end of the string\n",
    "            rule.append(tokens[0][1:-1])  # remove quotes\n",
    "\n",
    "            # minimum stem size to perform the replacement\n",
    "            rule.append(int(tokens[1]))\n",
    "\n",
    "            # text to be replaced into\n",
    "            rule.append(tokens[2][1:-1])  # remove quotes\n",
    "\n",
    "            # exceptions to this rule\n",
    "            rule.append([token[1:-1] for token in tokens[3].split(\",\")])\n",
    "\n",
    "            # append to the results\n",
    "            rules.append(rule)\n",
    "\n",
    "        return rules\n",
    "\n",
    "\n",
    "    def stem(self, word):\n",
    "        word = word.lower()\n",
    "\n",
    "        # the word ends in 's'? apply rule for plural reduction\n",
    "        if word[-1] == \"s\":\n",
    "            word = self.apply_rule(word, 0)\n",
    "\n",
    "        # the word ends in 'a'? apply rule for feminine reduction\n",
    "        if word[-1] == \"a\":\n",
    "            word = self.apply_rule(word, 1)\n",
    "\n",
    "        # augmentative reduction\n",
    "        word = self.apply_rule(word, 3)\n",
    "\n",
    "        # adverb reduction\n",
    "        word = self.apply_rule(word, 2)\n",
    "\n",
    "        # noun reduction\n",
    "        prev_word = word\n",
    "        word = self.apply_rule(word, 4)\n",
    "        if word == prev_word:\n",
    "            # verb reduction\n",
    "            prev_word = word\n",
    "            word = self.apply_rule(word, 5)\n",
    "            if word == prev_word:\n",
    "                # vowel removal\n",
    "                word = self.apply_rule(word, 6)\n",
    "\n",
    "        return word\n",
    "\n",
    "\n",
    "    def apply_rule(self, word, rule_index):\n",
    "        rules = self._model[rule_index]\n",
    "        for rule in rules:\n",
    "            suffix_length = len(rule[0])\n",
    "            if word[-suffix_length:] == rule[0]:  # if suffix matches\n",
    "                if len(word) >= suffix_length + rule[1]:  # if we have minimum size\n",
    "                    if word not in rule[3]:  # if not an exception\n",
    "                        word = word[:-suffix_length] + rule[2]\n",
    "                        break\n",
    "\n",
    "        return word"
   ]
  },
  {
   "cell_type": "markdown",
   "metadata": {},
   "source": [
    "### Functions to clean the data with RegEx"
   ]
  },
  {
   "cell_type": "code",
   "execution_count": null,
   "metadata": {},
   "outputs": [],
   "source": [
    "def print_step_result(df_before,df_after, idx_list):\n",
    "    \"\"\"\n",
    "    Args:\n",
    "    ----------\n",
    "    df_before: dataframe before preprocessing [type: dataframe]\n",
    "    df_after: dataframe after preprocessing [type: dataframe]\n",
    "    idx_list: list with the index of dataframes to compare [type: list]\n",
    "    \"\"\"\n",
    "    for i in idx_list:\n",
    "        print(f'{i}')\n",
    "        print(f'Before:\\n{df_before[i]}')\n",
    "        print(f'After:\\n{df_after[i]}')\n",
    "        print('\\n')\n",
    "def re_breakline(text_list):\n",
    "    \"\"\"\n",
    "    Args:\n",
    "    ----------\n",
    "    text_list: list object with text content to be prepared [type: list]\n",
    "    \"\"\"\n",
    "    \n",
    "    # Applying regex\n",
    "    return [re.sub('[\\n\\r]', ' ', r) for r in text_list]\n",
    "\n",
    "def re_hiperlinks(text_list):\n",
    "    \"\"\"\n",
    "    Args:\n",
    "    ----------\n",
    "    text_list: list object with text content to be prepared [type: list]\n",
    "    \"\"\"\n",
    "    \n",
    "    # Applying regex\n",
    "    pattern = 'http[s]?://(?:[a-zA-Z]|[0-9]|[$-_@.&+]|[!*\\(\\),]|(?:%[0-9a-fA-F][0-9a-fA-F]))+'\n",
    "    return [re.sub(pattern, ' link ', r) for r in text_list]\n",
    "\n",
    "def re_dates(text_list):\n",
    "    \"\"\"\n",
    "    Args:\n",
    "    ----------\n",
    "    text_list: list object with text content to be prepared [type: list]\n",
    "    \"\"\"\n",
    "    \n",
    "    # Applying regex\n",
    "    pattern = '([0-2][0-9]|(3)[0-1])(\\/|\\.)(((0)[0-9])|((1)[0-2]))(\\/|\\.)\\d{2,4}'\n",
    "    return [re.sub(pattern, ' date ', r) for r in text_list]\n",
    "\n",
    "def re_money(text_list):\n",
    "    \"\"\"\n",
    "    Args:\n",
    "    ----------\n",
    "    text_list: list object with text content to be prepared [type: list]\n",
    "    \"\"\"\n",
    "    \n",
    "    # Applying regex\n",
    "    pattern = '[R]{0,1}\\$[ ]{0,}\\d+(,|\\.)\\d+'\n",
    "    return [re.sub(pattern, ' dinheiro ', r) for r in text_list]\n",
    "\n",
    "def re_numbers(text_list):\n",
    "    \"\"\"\n",
    "    Args:\n",
    "    ----------\n",
    "    text_series: list object with text content to be prepared [type: list]\n",
    "    \"\"\"\n",
    "    \n",
    "    # Applying regex\n",
    "    return [re.sub('[0-9]+', ' numero ', r) for r in text_list]\n",
    "\n",
    "def re_negation(text_list):\n",
    "    \"\"\"\n",
    "    Args:\n",
    "    ----------\n",
    "    text_series: list object with text content to be prepared [type: list]\n",
    "    \"\"\"\n",
    "    \n",
    "    # Applying regex\n",
    "    return [re.sub('([nN][ãÃaA][oO]|[ñÑ]| [nN] )', ' negação ', r) for r in text_list]\n",
    "\n",
    "def re_special_chars(text_list):\n",
    "    \"\"\"\n",
    "    Args:\n",
    "    ----------\n",
    "    text_series: list object with text content to be prepared [type: list]\n",
    "    \"\"\"\n",
    "    \n",
    "    # Applying regex\n",
    "    return [re.sub('\\W', ' ', r) for r in text_list]\n",
    "\n",
    "def re_whitespaces(text_list):\n",
    "    \"\"\"\n",
    "    Args:\n",
    "    ----------\n",
    "    text_series: list object with text content to be prepared [type: list]\n",
    "    \"\"\"\n",
    "    \n",
    "    # Applying regex\n",
    "    white_spaces = [re.sub('\\s+', ' ', r) for r in text_list]\n",
    "    white_spaces_end = [re.sub('[ \\t]+$', '', r) for r in white_spaces]\n",
    "    return white_spaces_end\n",
    "\n",
    "# Defining a function to remove the stopwords and to lower the comments\n",
    "def stopwords_removal(text, cached_stopwords=stopwords.words('portuguese')):\n",
    "    \"\"\"\n",
    "    Args:\n",
    "    ----------\n",
    "    text: list object where the stopwords will be removed [type: list]\n",
    "    cached_stopwords: stopwords to be applied on the process [type: list, default: stopwords.words('portuguese')]\n",
    "    \"\"\"\n",
    "    \n",
    "    return [c.lower() for c in text.split() if c.lower() not in cached_stopwords]\n",
    "\n",
    "# Defining a function to remove the stopwords and to lower the comments\n",
    "def stemming_process(text, stemmer=RSLPStemmer()):\n",
    "    \"\"\"\n",
    "    Args:\n",
    "    ----------\n",
    "    text: list object where the stopwords will be removed [type: list]\n",
    "    stemmer: type of stemmer to be applied [type: class, default: RSLPStemmer()]\n",
    "    \"\"\"\n",
    "    \n",
    "    return [stemmer.stem(c) for c in text.split()]"
   ]
  },
  {
   "cell_type": "markdown",
   "metadata": {},
   "source": [
    "### Corpus Features Extraction"
   ]
  },
  {
   "cell_type": "code",
   "execution_count": null,
   "metadata": {},
   "outputs": [],
   "source": [
    "def extract_features_from_corpus(corpus, vectorizer, df=False):\n",
    "    \"\"\"\n",
    "    Args\n",
    "    ------------\n",
    "    text: text to be transformed into a document-term matrix [type: string]\n",
    "    vectorizer: engine to be used in the transformation [type: object]\n",
    "    \"\"\"\n",
    "\n",
    "    # Extracting features\n",
    "    corpus_features = vectorizer.fit_transform(corpus).toarray()\n",
    "    features_names = vectorizer.get_feature_names()\n",
    "\n",
    "    # Transforming into a dataframe to give interpetability to the process\n",
    "    df_corpus_features = None\n",
    "    if df:\n",
    "        df_corpus_features = pd.DataFrame(corpus_features, columns=features_names)\n",
    "\n",
    "    return corpus_features, df_corpus_features"
   ]
  },
  {
   "cell_type": "markdown",
   "metadata": {},
   "source": [
    "### Text Viz"
   ]
  },
  {
   "cell_type": "code",
   "execution_count": null,
   "metadata": {},
   "outputs": [],
   "source": [
    "def format_spines(ax, right_border=True):\n",
    "    \"\"\"\n",
    "    This function sets up borders from an axis and personalize colors\n",
    "\n",
    "    Input:\n",
    "        Axis and a flag for deciding or not to plot the right border\n",
    "    Returns:\n",
    "        Plot configuration\n",
    "    \"\"\"\n",
    "    # Setting up colors\n",
    "    ax.spines['bottom'].set_color('#CCCCCC')\n",
    "    ax.spines['left'].set_color('#CCCCCC')\n",
    "    ax.spines['top'].set_visible(False)\n",
    "    if right_border:\n",
    "        ax.spines['right'].set_color('#CCCCCC')\n",
    "    else:\n",
    "        ax.spines['right'].set_color('#FFFFFF')\n",
    "    ax.patch.set_facecolor('#FFFFFF')\n",
    "\n",
    "# Classe para plotagem dos rótulos dos dados em gráficos de barras\n",
    "# Referência: https://towardsdatascience.com/annotating-bar-charts-and-other-matplolib-techniques-cecb54315015\n",
    "#Alias types to reduce typing, no pun intended\n",
    "\n",
    "#Patch = matplotlib.patches.Patch\n",
    "#PosVal = Tuple[float, Tuple[float, float]]\n",
    "#Axis = matplotlib.axes.Axes\n",
    "#PosValFunc = Callable[[Patch], PosVal]\n",
    "\n",
    "def single_countplot(df, ax, x=None, y=None, top=None, order=True, hue=False, palette='plasma',\n",
    "                     width=0.75, sub_width=0.3, sub_size=12):\n",
    "    \"\"\"\n",
    "    Parâmetros\n",
    "    ----------\n",
    "    classifiers: conjunto de classificadores em forma de dicionário [dict]\n",
    "    X: array com os dados a serem utilizados no treinamento [np.array]\n",
    "    y: array com o vetor target do modelo [np.array]\n",
    "\n",
    "    Retorno\n",
    "    -------\n",
    "    None\n",
    "    \"\"\"\n",
    "\n",
    "    # Verificando plotagem por quebra de alguma variável categórica\n",
    "    ncount = len(df)\n",
    "    if x:\n",
    "        col = x\n",
    "    else:\n",
    "        col = y\n",
    "\n",
    "    # Verificando a plotagem de top categorias\n",
    "    if top is not None:\n",
    "        cat_count = df[col].value_counts()\n",
    "        top_categories = cat_count[:top].index\n",
    "        df = df[df[col].isin(top_categories)]\n",
    "\n",
    "    # Validando demais argumentos e plotando gráfico\n",
    "    if hue != False:\n",
    "        if order:\n",
    "            sns.countplot(x=x, y=y, data=df, palette=palette, ax=ax, order=df[col].value_counts().index, hue=hue)\n",
    "        else:\n",
    "            sns.countplot(x=x, y=y, data=df, palette=palette, ax=ax, hue=hue)\n",
    "    else:\n",
    "        if order:\n",
    "            sns.countplot(x=x, y=y, data=df, palette=palette, ax=ax, order=df[col].value_counts().index)\n",
    "        else:\n",
    "            sns.countplot(x=x, y=y, data=df, palette=palette, ax=ax)\n",
    "\n",
    "    # Formatando eixos\n",
    "    format_spines(ax, right_border=False)\n",
    "\n",
    "    # Inserindo rótulo de percentual\n",
    "    if x:\n",
    "        for p in ax.patches:\n",
    "            x = p.get_bbox().get_points()[:, 0]\n",
    "            y = p.get_bbox().get_points()[1, 1]\n",
    "            ax.annotate('{}\\n{:.1f}%'.format(int(y), 100. * y / ncount), (x.mean(), y), ha='center', va='bottom')\n",
    "    else:\n",
    "        for p in ax.patches:\n",
    "            x = p.get_bbox().get_points()[1, 0]\n",
    "            y = p.get_bbox().get_points()[:, 1]\n",
    "            ax.annotate('{} ({:.1f}%)'.format(int(x), 100. * x / ncount), (x, y.mean()), va='center')\n",
    "\n",
    "\n",
    "def donut_plot(df, col, ax, label_names=None, text='', colors=['crimson', 'navy'], circle_radius=0.8,\n",
    "            title=f'Donut Chart', flag_ruido=0):\n",
    "    \"\"\"\n",
    "    Etapas:\n",
    "        1. definição de funções úteis para mostrar rótulos em valor absoluto e porcentagem\n",
    "        2. criação de figura e círculo central de raio pré-definido\n",
    "        3. plotagem do gráfico de pizza e adição do círculo central\n",
    "        4. configuração final da plotagem\n",
    "\n",
    "    Argumentos:\n",
    "        df -- DataFrame alvo da análise [pandas.DataFrame]\n",
    "        col -- coluna do DataFrame a ser analisada [string]\n",
    "        label_names -- nomes customizados a serem plotados como labels [list]\n",
    "        text -- texto central a ser posicionado [string / default: '']\n",
    "        colors -- cores das entradas [list / default: ['crimson', 'navy']]\n",
    "        figsize -- dimensões da plotagem [tupla / default: (8, 8)]\n",
    "        circle_radius -- raio do círculo central [float / default: 0.8]\n",
    "\n",
    "    Retorno:\n",
    "        None\n",
    "    \"\"\"\n",
    "\n",
    "    # Retorno dos valores e definição da figura\n",
    "    values = df[col].value_counts().values\n",
    "    if label_names is None:\n",
    "        label_names = df[col].value_counts().index\n",
    "\n",
    "    # Verificando parâmetro de supressão de alguma categoria da análise\n",
    "    if flag_ruido > 0:\n",
    "        values = values[:-flag_ruido]\n",
    "        label_names = label_names[:-flag_ruido]\n",
    "\n",
    "    # Plotando gráfico de rosca\n",
    "    center_circle = plt.Circle((0, 0), circle_radius, color='white')\n",
    "    ax.pie(values, labels=label_names, colors=colors, autopct=make_autopct(values))\n",
    "    ax.add_artist(center_circle)\n",
    "\n",
    "    # Configurando argumentos do texto central\n",
    "    kwargs = dict(size=20, fontweight='bold', va='center')\n",
    "    ax.text(0, 0, text, ha='center', **kwargs)\n",
    "    ax.set_title(title, size=14, color='dimgrey')\n",
    "\n",
    "\n",
    "def make_autopct(values):\n",
    "    \"\"\"\n",
    "    Etapas:\n",
    "        1. definição de função para formatação dos rótulos\n",
    "\n",
    "    Argumentos:\n",
    "        values -- valores extraídos da função value_counts() da coluna de análise [list]\n",
    "\n",
    "    Retorno:\n",
    "        my_autopct -- string formatada para plotagem dos rótulos\n",
    "    \"\"\"\n",
    "\n",
    "    def my_autopct(pct):\n",
    "        total = sum(values)\n",
    "        val = int(round(pct * total / 100.0))\n",
    "\n",
    "        return '{p:.1f}%\\n({v:d})'.format(p=pct, v=val)\n",
    "\n",
    "    return my_autopct\n",
    "\n",
    "\n",
    "def ngrams_count(corpus, ngram_range, n=-1, cached_stopwords=stopwords.words('portuguese')):\n",
    "    \"\"\"\n",
    "    Args\n",
    "    ----------\n",
    "    corpus: text to be analysed [type: pd.DataFrame]\n",
    "    ngram_range: type of n gram to be used on analysis [type: tuple]\n",
    "    n: top limit of ngrams to be shown [type: int, default: -1]\n",
    "    \"\"\"\n",
    "\n",
    "    # Using CountVectorizer to build a bag of words using the given corpus\n",
    "    vectorizer = CountVectorizer(stop_words=cached_stopwords, ngram_range=ngram_range).fit(corpus)\n",
    "    bag_of_words = vectorizer.transform(corpus)\n",
    "    sum_words = bag_of_words.sum(axis=0)\n",
    "    words_freq = [(word, sum_words[0, idx]) for word, idx in vectorizer.vocabulary_.items()]\n",
    "    words_freq = sorted(words_freq, key=lambda x: x[1], reverse=True)\n",
    "    total_list = words_freq[:n]\n",
    "\n",
    "    # Returning a DataFrame with the ngrams count\n",
    "    count_df = pd.DataFrame(total_list, columns=['ngram', 'count'])\n",
    "    return count_df"
   ]
  },
  {
   "cell_type": "markdown",
   "metadata": {},
   "source": [
    "### Data prep Pipeline"
   ]
  },
  {
   "cell_type": "code",
   "execution_count": null,
   "metadata": {},
   "outputs": [],
   "source": [
    "# [TEXT PREP] Classe para aplicar uma série de funções RegEx definidas em um dicionário\n",
    "class ApplyRegex(BaseEstimator, TransformerMixin):\n",
    "\n",
    "    def __init__(self, regex_transformers):\n",
    "        self.regex_transformers = regex_transformers\n",
    "\n",
    "    def fit(self, X, y=None):\n",
    "        return self\n",
    "\n",
    "    def transform(self, X, y=None):\n",
    "        # Applying all regex functions in the regex_transformers dictionary\n",
    "        for regex_name, regex_function in self.regex_transformers.items():\n",
    "            X = regex_function(X)\n",
    "\n",
    "        return X\n",
    "\n",
    "\n",
    "# [TEXT PREP] Classe para aplicar a remoção de stopwords em um corpus\n",
    "class StopWordsRemoval(BaseEstimator, TransformerMixin):\n",
    "\n",
    "    def __init__(self, text_stopwords):\n",
    "        self.text_stopwords = text_stopwords\n",
    "\n",
    "    def fit(self, X, y=None):\n",
    "        return self\n",
    "\n",
    "    def transform(self, X, y=None):\n",
    "        return [' '.join(stopwords_removal(comment, self.text_stopwords)) for comment in X]\n",
    "\n",
    "\n",
    "# [TEXT PREP] Classe para aplicar o processo de stemming em um corpus\n",
    "class StemmingProcess(BaseEstimator, TransformerMixin):\n",
    "\n",
    "    def __init__(self, stemmer):\n",
    "        self.stemmer = stemmer\n",
    "\n",
    "    def fit(self, X, y=None):\n",
    "        return self\n",
    "\n",
    "    def transform(self, X, y=None):\n",
    "        return [' '.join(stemming_process(comment, self.stemmer)) for comment in X]\n",
    "\n",
    "\n",
    "# [TEXT PREP] Classe para extração de features de um corpus (vocabulário / bag of words / TF-IDF)\n",
    "class TextFeatureExtraction(BaseEstimator, TransformerMixin):\n",
    "\n",
    "    def __init__(self, vectorizer, train=True):\n",
    "        self.vectorizer = vectorizer\n",
    "        self.train = train\n",
    "\n",
    "    def fit(self, X, y=None):\n",
    "        return self\n",
    "\n",
    "    def transform(self, X, y=None):\n",
    "        if self.train:\n",
    "            return self.vectorizer.fit_transform(X).toarray()\n",
    "        else:\n",
    "            return self.vectorizer.transform(X)"
   ]
  },
  {
   "cell_type": "markdown",
   "metadata": {},
   "source": [
    "### Utilities for sentiment analysis"
   ]
  },
  {
   "cell_type": "code",
   "execution_count": null,
   "metadata": {},
   "outputs": [],
   "source": [
    "# Defining a function to plot the sentiment of a given phrase\n",
    "def sentiment_analysis(text, pipeline, vectorizer, model):\n",
    "    \"\"\"\n",
    "    Args\n",
    "    -----------\n",
    "    text: text string / phrase / review comment to be analysed [type: string]\n",
    "    pipeline: text prep pipeline built for preparing the corpus [type: sklearn.Pipeline]\n",
    "    model: classification model trained to recognize positive and negative sentiment [type: model]\n",
    "    \"\"\"\n",
    "\n",
    "    # Applying the pipeline\n",
    "    if type(text) is not list:\n",
    "        text = [text]\n",
    "    text_prep = pipeline.fit_transform(text)\n",
    "    matrix = vectorizer.transform(text_prep)\n",
    "\n",
    "    # Predicting sentiment\n",
    "    pred = model.predict(matrix)\n",
    "    proba = model.predict_proba(matrix)\n",
    "\n",
    "    # Plotting the sentiment and its score\n",
    "    fig, ax = plt.subplots(figsize=(5, 3))\n",
    "    if pred[0] == 1:\n",
    "        text = 'Positive'\n",
    "        class_proba = 100 * round(proba[0][1], 2)\n",
    "        color = 'seagreen'\n",
    "    else:\n",
    "        text = 'Negative'\n",
    "        class_proba = 100 * round(proba[0][0], 2)\n",
    "        color = 'crimson'\n",
    "    ax.text(0.5, 0.5, text, fontsize=50, ha='center', color=color)\n",
    "    ax.text(0.5, 0.20, str(class_proba) + '%', fontsize=14, ha='center')\n",
    "    ax.axis('off')\n",
    "    ax.set_title('Sentiment Analysis', fontsize=14)\n",
    "    plt.show()"
   ]
  },
  {
   "cell_type": "markdown",
   "metadata": {},
   "source": [
    "### Cleaning process and results verification "
   ]
  },
  {
   "cell_type": "code",
   "execution_count": null,
   "metadata": {},
   "outputs": [],
   "source": [
    "# Creating a list of comment reviews\n",
    "reviews = list(df_comments['comment'].values)\n",
    "\n",
    "reviews_breakline = re_breakline(reviews)\n",
    "df_comments['re_breakline'] = reviews_breakline\n",
    "# Verifying results\n",
    "#print_step_result(reviews, reviews_breakline, idx_list=[48])\n",
    "\n",
    "reviews_hiperlinks = re_hiperlinks(reviews_breakline)\n",
    "df_comments['re_hiperlinks'] = reviews_hiperlinks\n",
    "#print_step_result(reviews_breakline, reviews_hiperlinks, idx_list=[10607])\n",
    "\n",
    "reviews_dates = re_dates(reviews_hiperlinks)\n",
    "df_comments['re_dates'] = reviews_dates\n",
    "# Verifying results\n",
    "#print_step_result(reviews_hiperlinks, reviews_dates, idx_list=[26161, 40729, 40901])\n",
    "\n",
    "reviews_money = re_money(reviews_dates)\n",
    "df_comments['re_money'] = reviews_money\n",
    "# Verifying results\n",
    "#print_step_result(reviews_dates, reviews_money, idx_list=[25533, 32667, 32370])\n",
    "\n",
    "reviews_numbers = re_numbers(reviews_money)\n",
    "df_comments['re_numbers'] = reviews_numbers\n",
    "# Verifying results\n",
    "#print_step_result(reviews_money, reviews_numbers, idx_list=[68])\n",
    "\n",
    "reviews_negation = re_negation(reviews_numbers)\n",
    "df_comments['re_negation'] = reviews_negation\n",
    "# Verifying results\n",
    "#print_step_result(reviews_numbers, reviews_negation, idx_list=[4703, 4549, 4773, 4820])\n",
    "\n",
    "reviews_special_chars = re_special_chars(reviews_negation)\n",
    "df_comments['re_special_chars'] = reviews_special_chars\n",
    "# Verifying results\n",
    "#print_step_result(reviews_negation, reviews_special_chars, idx_list=[45, 1165, 17579])\n",
    "\n",
    "reviews_whitespaces = re_whitespaces(reviews_special_chars)\n",
    "df_comments['re_whitespaces'] = reviews_whitespaces\n",
    "# Verifying results\n",
    "#print_step_result(reviews_special_chars, reviews_whitespaces, idx_list=[66, 121, 5602])\n",
    "\n",
    "reviews_stopwords = [' '.join(stopwords_removal(review)) for review in reviews_whitespaces]\n",
    "df_comments['stopwords_removed'] = reviews_stopwords\n",
    "# Verifying results\n",
    "#print_step_result(reviews_whitespaces, reviews_stopwords, idx_list=[108, 13646, 6563])\n",
    "\n",
    "reviews_stemmer = [' '.join(stemming_process(review)) for review in reviews_stopwords]\n",
    "df_comments['stemming'] = reviews_stemmer\n",
    "# Verifying results\n",
    "#print_step_result(reviews_stopwords, reviews_stemmer, idx_list=[0, 45, -1])\n"
   ]
  },
  {
   "cell_type": "code",
   "execution_count": null,
   "metadata": {},
   "outputs": [
    {
     "data": {
      "text/plain": [
       "[29272]"
      ]
     },
     "execution_count": 14,
     "metadata": {},
     "output_type": "execute_result"
    }
   ],
   "source": [
    "# this list comprehension helps us to check reviews with complex words to test the regex, returning a list of indexes\n",
    "[reviews_hiperlinks.index(s) for s in reviews_hiperlinks if \" 😡 \" in s]"
   ]
  },
  {
   "cell_type": "markdown",
   "metadata": {},
   "source": [
    "### Labelling Data"
   ]
  },
  {
   "cell_type": "code",
   "execution_count": null,
   "metadata": {},
   "outputs": [
    {
     "data": {
      "image/png": "[encoded data removed]",
      "text/plain": [
       "<Figure size 720x360 with 1 Axes>"
      ]
     },
     "metadata": {
      "needs_background": "light"
     },
     "output_type": "display_data"
    }
   ],
   "source": [
    "g, ax = plt.subplots(figsize=(10, 5))\n",
    "single_countplot(x='score', df=df_comments, ax=ax)"
   ]
  },
  {
   "cell_type": "code",
   "execution_count": null,
   "metadata": {},
   "outputs": [
    {
     "data": {
      "image/png": "[encoded data removed]",
      "text/plain": [
       "<Figure size 504x504 with 1 Axes>"
      ]
     },
     "metadata": {},
     "output_type": "display_data"
    }
   ],
   "source": [
    "# Labelling data\n",
    "score_map = {\n",
    "    1: 'negative',\n",
    "    2: 'negative',\n",
    "    3: 'positive',\n",
    "    4: 'positive',\n",
    "    5: 'positive'\n",
    "}\n",
    "df_comments['sentiment_label'] = df_comments['score'].map(score_map)\n",
    "\n",
    "# Verifying results\n",
    "fig, ax = plt.subplots(figsize=(7, 7))\n",
    "donut_plot(df_comments.query('sentiment_label in (\"positive\", \"negative\")'), 'sentiment_label', \n",
    "           label_names=df_comments.query('sentiment_label in (\"positive\", \"negative\")')['sentiment_label'].value_counts().index,\n",
    "           ax=ax, colors=['darkslateblue', 'crimson'])"
   ]
  },
  {
   "cell_type": "markdown",
   "metadata": {},
   "source": [
    "### n-grams Viz"
   ]
  },
  {
   "cell_type": "code",
   "execution_count": null,
   "metadata": {},
   "outputs": [],
   "source": [
    "def ngrams_count(corpus, ngram_range, n=-1, cached_stopwords=stopwords.words('portuguese')):\n",
    "    \"\"\"\n",
    "    Args\n",
    "    ----------\n",
    "    corpus: text to be analysed [type: pd.DataFrame]\n",
    "    ngram_range: type of n gram to be used on analysis [type: tuple]\n",
    "    n: top limit of ngrams to be shown [type: int, default: -1]\n",
    "    \"\"\"\n",
    "    \n",
    "    # Using CountVectorizer to build a bag of words using the given corpus\n",
    "    vectorizer = CountVectorizer(stop_words=cached_stopwords, ngram_range=ngram_range).fit(corpus)\n",
    "    bag_of_words = vectorizer.transform(corpus)\n",
    "    sum_words = bag_of_words.sum(axis=0)\n",
    "    words_freq = [(word, sum_words[0, idx]) for word, idx in vectorizer.vocabulary_.items()]\n",
    "    words_freq = sorted(words_freq, key=lambda x: x[1], reverse=True)\n",
    "    total_list = words_freq[:n]\n",
    "    \n",
    "    # Returning a DataFrame with the ngrams count\n",
    "    count_df = pd.DataFrame(total_list, columns=['ngram', 'count'])\n",
    "    return count_df"
   ]
  },
  {
   "cell_type": "code",
   "execution_count": null,
   "metadata": {},
   "outputs": [],
   "source": [
    "# Splitting the corpus into positive and negative comments\n",
    "positive_comments = df_comments.query('sentiment_label == \"positive\"')['stemming']\n",
    "negative_comments = df_comments.query('sentiment_label == \"negative\"')['stemming']\n",
    "\n",
    "# Extracting the top 10 unigrams by sentiment\n",
    "unigrams_pos = ngrams_count(positive_comments, (1, 1), 10)\n",
    "unigrams_neg = ngrams_count(negative_comments, (1, 1), 10)\n",
    "\n",
    "# Extracting the top 10 unigrams by sentiment\n",
    "bigrams_pos = ngrams_count(positive_comments, (2, 2), 10)\n",
    "bigrams_neg = ngrams_count(negative_comments, (2, 2), 10)\n",
    "\n",
    "# Extracting the top 10 unigrams by sentiment\n",
    "trigrams_pos = ngrams_count(positive_comments, (3, 3), 10)\n",
    "trigrams_neg = ngrams_count(negative_comments, (3, 3), 10)"
   ]
  },
  {
   "cell_type": "code",
   "execution_count": null,
   "metadata": {},
   "outputs": [
    {
     "data": {
      "image/png": "[encoded data removed]",
      "text/plain": [
       "<Figure size 1080x1296 with 6 Axes>"
      ]
     },
     "metadata": {
      "needs_background": "light"
     },
     "output_type": "display_data"
    }
   ],
   "source": [
    "# Joining everything in a python dictionary to make the plots easier\n",
    "ngram_dict_plot = {\n",
    "    'Top Unigrams on Positive Comments': unigrams_pos,\n",
    "    'Top Unigrams on Negative Comments': unigrams_neg,\n",
    "    'Top Bigrams on Positive Comments': bigrams_pos,\n",
    "    'Top Bigrams on Negative Comments': bigrams_neg,\n",
    "    'Top Trigrams on Positive Comments': trigrams_pos,\n",
    "    'Top Trigrams on Negative Comments': trigrams_neg,\n",
    "}\n",
    "\n",
    "# Plotting the ngrams analysis\n",
    "fig, axs = plt.subplots(nrows=3, ncols=2, figsize=(15, 18))\n",
    "i, j = 0, 0\n",
    "colors = ['Blues_d', 'Reds_d']\n",
    "for title, ngram_data in ngram_dict_plot.items():\n",
    "    ax = axs[i, j]\n",
    "    sns.barplot(x='count', y='ngram', data=ngram_data, ax=ax, palette=colors[j])\n",
    "    \n",
    "    # Customizing plots\n",
    "    format_spines(ax, right_border=False)\n",
    "    ax.set_title(title, size=14)\n",
    "    ax.set_ylabel('')\n",
    "    ax.set_xlabel('')\n",
    "    \n",
    "    # Incrementing the index\n",
    "    j += 1\n",
    "    if j == 2:\n",
    "        j = 0\n",
    "        i += 1\n",
    "plt.tight_layout()\n",
    "plt.show()"
   ]
  },
  {
   "cell_type": "markdown",
   "metadata": {},
   "source": [
    "## Pipeline"
   ]
  },
  {
   "cell_type": "code",
   "execution_count": null,
   "metadata": {},
   "outputs": [],
   "source": [
    "# Class for regular expressions application\n",
    "class ApplyRegex(BaseEstimator, TransformerMixin):\n",
    "    \n",
    "    def __init__(self, regex_transformers):\n",
    "        self.regex_transformers = regex_transformers\n",
    "        \n",
    "    def fit(self, X, y=None):\n",
    "        return self\n",
    "    \n",
    "    def transform(self, X, y=None):\n",
    "        # Applying all regex functions in the regex_transformers dictionary\n",
    "        for regex_name, regex_function in self.regex_transformers.items():\n",
    "            X = regex_function(X)\n",
    "            \n",
    "        return X\n",
    "\n",
    "# Class for stopwords removal from the corpus\n",
    "class StopWordsRemoval(BaseEstimator, TransformerMixin):\n",
    "    \n",
    "    def __init__(self, text_stopwords):\n",
    "        self.text_stopwords = text_stopwords\n",
    "    def fit(self, X, y=None):\n",
    "        return self\n",
    "    \n",
    "    def transform(self, X, y=None):\n",
    "        return [' '.join(stopwords_removal(comment, self.text_stopwords)) for comment in X]\n",
    "\n",
    "# Class for apply the stemming process\n",
    "class StemmingProcess(BaseEstimator, TransformerMixin):\n",
    "    \n",
    "    def __init__(self, stemmer):\n",
    "        self.stemmer = stemmer\n",
    "    \n",
    "    def fit(self, X, y=None):\n",
    "        return self\n",
    "    \n",
    "    def transform(self, X, y=None):\n",
    "        return [' '.join(stemming_process(comment, self.stemmer)) for comment in X]\n",
    "    \n",
    "# Class for extracting features from corpus\n",
    "class TextFeatureExtraction(BaseEstimator, TransformerMixin):\n",
    "    \n",
    "    def __init__(self, vectorizer):\n",
    "        self.vectorizer = vectorizer\n",
    "        \n",
    "    def fit(self, X, y=None):\n",
    "        return self\n",
    "    \n",
    "    def transform(self, X, y=None):\n",
    "        return self.vectorizer.fit_transform(X).toarray()"
   ]
  },
  {
   "cell_type": "code",
   "execution_count": null,
   "metadata": {},
   "outputs": [],
   "source": [
    "# Defining regex transformers to be applied\n",
    "regex_transformers = {\n",
    "    'break_line': re_breakline,\n",
    "    'hiperlinks': re_hiperlinks,\n",
    "    'dates': re_dates,\n",
    "    'money': re_money,\n",
    "    'numbers': re_numbers,\n",
    "    'negation': re_negation,\n",
    "    'special_chars': re_special_chars,\n",
    "    'whitespaces': re_whitespaces\n",
    "}\n",
    "\n",
    "# Defining the vectorizer to extract features from text\n",
    "vectorizer = TfidfVectorizer(max_features=300, min_df=7, max_df=0.8, stop_words=stopwords.words('portuguese'))\n",
    "\n",
    "# Building the Pipeline\n",
    "text_pipeline = Pipeline([\n",
    "    ('regex', ApplyRegex(regex_transformers)),\n",
    "    ('stopwords', StopWordsRemoval(stopwords.words('portuguese'))),\n",
    "    ('stemming', StemmingProcess(RSLPStemmer())),\n",
    "    ('text_features', TextFeatureExtraction(vectorizer))\n",
    "])"
   ]
  },
  {
   "cell_type": "code",
   "execution_count": null,
   "metadata": {},
   "outputs": [
    {
     "name": "stdout",
     "output_type": "stream",
     "text": [
      "Length of X_train_processed: 32781 - Length of one element: 300\n",
      "Length of X_test_processed: 8196 - Length of one element: 300\n"
     ]
    }
   ],
   "source": [
    "# Defining X and y \n",
    "idx_reviews = reviews_df['review_comment_message'].dropna().index\n",
    "score = reviews_df['review_score'][idx_reviews].map(score_map)\n",
    "\n",
    "# Splitting into train and test sets\n",
    "X = list(reviews_df['review_comment_message'][idx_reviews].values)\n",
    "y = score.apply(lambda x: 1 if x == 'positive' else 0).values\n",
    "\n",
    "# Applying the pipeline and splitting the data\n",
    "X_processed = text_pipeline.fit_transform(X)\n",
    "X_train, X_test, y_train, y_test = train_test_split(X_processed, y, test_size=.20, random_state=42)\n",
    "\n",
    "# Verifying results\n",
    "print(f'Length of X_train_processed: {len(X_train)} - Length of one element: {len(X_train[0])}')\n",
    "print(f'Length of X_test_processed: {len(X_test)} - Length of one element: {len(X_test[0])}')"
   ]
  },
  {
   "cell_type": "markdown",
   "metadata": {},
   "source": [
    "## Sentiment Classification"
   ]
  },
  {
   "cell_type": "markdown",
   "metadata": {},
   "source": [
    "### ML Functions\n",
    "this has to be an independent module"
   ]
  },
  {
   "cell_type": "code",
   "execution_count": null,
   "metadata": {},
   "outputs": [],
   "source": [
    "import pandas as pd\n",
    "import numpy as np\n",
    "import itertools\n",
    "import time\n",
    "from datetime import datetime\n",
    "import matplotlib.pyplot as plt\n",
    "import seaborn as sns\n",
    "from sklearn.model_selection import RandomizedSearchCV, cross_val_score, cross_val_predict, learning_curve\n",
    "from sklearn.metrics import roc_auc_score, accuracy_score, precision_score, recall_score, f1_score, roc_curve, confusion_matrix\n",
    "#import shap\n",
    "\n",
    "from sklearn.cluster import KMeans\n",
    "\n",
    "\n",
    "\"\"\"\n",
    "-----------------------------------\n",
    "-------- 1. CLASSIFICATION --------\n",
    "     1.1 Classifiers Analysis\n",
    "-----------------------------------\n",
    "\"\"\"\n",
    "\n",
    "\n",
    "class BinaryClassifiersAnalysis:\n",
    "    \"\"\"\n",
    "    This class makes the work on training binary classifiers easier by bringing useful functions for training,\n",
    "    purposing search on hyperparameters space, evaluating metrics and much more\n",
    "    \"\"\"\n",
    "\n",
    "    def __init__(self):\n",
    "        self.classifiers_info = {}\n",
    "\n",
    "    def fit(self, classifiers, X, y, approach='', random_search=False, scoring='roc_auc', cv=5, verbose=5, n_jobs=-1):\n",
    "        \"\"\"\n",
    "        This function receives information from classifiers to be trained, the data to be used on training and other\n",
    "        parameters for fitting the model to the data.\n",
    "\n",
    "        Parameters\n",
    "        ----------\n",
    "        :param classifiers: dictionary containing estimators and hyperparameters inner dict [type: dict]\n",
    "        :param X: object containing features already prepared for training the model [type: np.array]\n",
    "        :param y: object containing the model target variable [type: np.array]\n",
    "        :param approach: string to be added on model's name as sufix for identifying purposes [type: string, default: '']\n",
    "        :param random_search: guides the application of Randomized Search on training [type: bool, default: True]\n",
    "        :param scoring: scoring metric to be optimized on random search [type: string, default: 'roc_auc']\n",
    "        :param cv: K-folds used on random search cross-validation [type: int, default: 5]\n",
    "        :param verbose: verbose param from RandomizedSearchCV [type: int, default: 5]\n",
    "        :param n_jobs: n_jobs param from RandomizedSarchCV [type: int, default: -1]\n",
    "\n",
    "        Return\n",
    "        ------\n",
    "        This method don't return anything but it fills some class attributes like self.classifiers_info dict\n",
    "\n",
    "        Application\n",
    "        -----------\n",
    "        # Creating dictionary object for storing models information\n",
    "        set_classifiers = {\n",
    "            'ModelName': {\n",
    "                'model': ClassifierEstimator(),\n",
    "                'params': clf_dict_params\n",
    "            }\n",
    "        }\n",
    "        trainer = BinaryClassifierAnalysis()\n",
    "        trainer.fit(set_classifiers, X_train_prep, y_train, random_search=True, cv=5)\n",
    "        \"\"\"\n",
    "\n",
    "        # Iterating trough every model in the dictionary of classifiers\n",
    "        for model_name, model_info in classifiers.items():\n",
    "            clf_key = model_name + approach\n",
    "            print(f'Training model {clf_key}\\n')\n",
    "\n",
    "            # Creating an empty dict for storing model information\n",
    "            self.classifiers_info[clf_key] = {}\n",
    "\n",
    "            # Application of RandomizedSearchCV\n",
    "            if random_search:\n",
    "                rnd_search = RandomizedSearchCV(model_info['model'], model_info['params'], scoring=scoring, cv=cv,\n",
    "                                                verbose=verbose, random_state=42, n_jobs=n_jobs)\n",
    "                rnd_search.fit(X, y)\n",
    "\n",
    "                # Saving the best estimator into the model's dict\n",
    "                self.classifiers_info[clf_key]['estimator'] = rnd_search.best_estimator_\n",
    "            else:\n",
    "                self.classifiers_info[clf_key]['estimator'] = model_info['model'].fit(X, y)\n",
    "\n",
    "    def compute_train_performance(self, model_name, estimator, X, y, cv=5):\n",
    "        \"\"\"\n",
    "        This function applies cross validation to retrieve useful metrics for the classification model.\n",
    "        In practice, this function would be called by another one (usually with compute_test_performance as well)\n",
    "\n",
    "        Parameters\n",
    "        ----------\n",
    "        :param model_name: key-string that identifies a model at self.classifiers_info dict [type: string]\n",
    "        :param estimator:\n",
    "        :param X: object containing features already prepared for training the model [type: np.array]\n",
    "        :param y: object containing the model target variable [type: np.array]\n",
    "        :param cv: k-folds for cross validation application on training evaluation\n",
    "\n",
    "        Return\n",
    "        ------\n",
    "        :return train_performance: DataFrame containing model metrics calculated using cross validation\n",
    "\n",
    "        Application\n",
    "        -----------\n",
    "        # Evaluating training performance using cross-validation\n",
    "        df_performances = trainer.compute_train_performance('DecisionTrees', trained_model, X_train, y_train, cv=5)\n",
    "        \"\"\"\n",
    "\n",
    "        # Computing metrics using cross validation\n",
    "        t0 = time.time()\n",
    "        accuracy = cross_val_score(estimator, X, y, cv=cv, scoring='accuracy').mean()\n",
    "        precision = cross_val_score(estimator, X, y, cv=cv, scoring='precision').mean()\n",
    "        recall = cross_val_score(estimator, X, y, cv=cv, scoring='recall').mean()\n",
    "        f1 = cross_val_score(estimator, X, y, cv=cv, scoring='f1').mean()\n",
    "\n",
    "        # Probas for calculating AUC\n",
    "        try:\n",
    "            y_scores = cross_val_predict(estimator, X, y, cv=cv, method='decision_function')\n",
    "        except:\n",
    "            # Tree based models don't have 'decision_function()' method, but 'predict_proba()'\n",
    "            y_probas = cross_val_predict(estimator, X, y, cv=cv, method='predict_proba')\n",
    "            y_scores = y_probas[:, 1]\n",
    "        auc = roc_auc_score(y, y_scores)\n",
    "\n",
    "        # Saving scores on self.classifiers_info dictionary\n",
    "        self.classifiers_info[model_name]['train_scores'] = y_scores\n",
    "\n",
    "        # Creating a DataFrame with metrics\n",
    "        t1 = time.time()\n",
    "        delta_time = t1 - t0\n",
    "        train_performance = {}\n",
    "        train_performance['model'] = model_name\n",
    "        train_performance['approach'] = f'Treino {cv} K-folds'\n",
    "        train_performance['acc'] = round(accuracy, 4)\n",
    "        train_performance['precision'] = round(precision, 4)\n",
    "        train_performance['recall'] = round(recall, 4)\n",
    "        train_performance['f1'] = round(f1, 4)\n",
    "        train_performance['auc'] = round(auc, 4)\n",
    "        train_performance['total_time'] = round(delta_time, 3)\n",
    "\n",
    "        return pd.DataFrame(train_performance, index=train_performance.keys()).reset_index(drop=True).loc[:0, :]\n",
    "\n",
    "    def compute_test_performance(self, model_name, estimator, X, y):\n",
    "        \"\"\"\n",
    "        This function retrieves metrics from the trained model on test data.\n",
    "        In practice, this function would be called by another one (usually with compute_train_performance as well)\n",
    "\n",
    "        Parameters\n",
    "        ----------\n",
    "        :param model_name: key-string that identifies a model at self.classifiers_info dict [type: string]\n",
    "        :param estimator:\n",
    "        :param X: object containing features already prepared for training the model [type: np.array]\n",
    "        :param y: object containing the model target variable [type: np.array]\n",
    "\n",
    "        Return\n",
    "        ------\n",
    "        :return test_performance: DataFrame containing model metrics calculated on test data\n",
    "\n",
    "        Application\n",
    "        -----------\n",
    "        # Evaluating test data performance\n",
    "        df_performances = trainer.compute_test_performance('DecisionTrees', trained_model, X_train, y_train)\n",
    "        \"\"\"\n",
    "\n",
    "        # Predicting data using the trained model and computing probabilities\n",
    "        t0 = time.time()\n",
    "        y_pred = estimator.predict(X)\n",
    "        y_proba = estimator.predict_proba(X)\n",
    "        y_scores = y_proba[:, 1]\n",
    "\n",
    "        # Retrieving metrics using test data\n",
    "        accuracy = accuracy_score(y, y_pred)\n",
    "        precision = precision_score(y, y_pred)\n",
    "        recall = recall_score(y, y_pred)\n",
    "        f1 = f1_score(y, y_pred)\n",
    "        auc = roc_auc_score(y, y_scores)\n",
    "\n",
    "        # Saving probabilities on treined classifiers dictionary\n",
    "        self.classifiers_info[model_name]['test_scores'] = y_scores\n",
    "\n",
    "        # Creating a DataFrame with metrics\n",
    "        t1 = time.time()\n",
    "        delta_time = t1 - t0\n",
    "        test_performance = {}\n",
    "        test_performance['model'] = model_name\n",
    "        test_performance['approach'] = f'Teste'\n",
    "        test_performance['acc'] = round(accuracy, 4)\n",
    "        test_performance['precision'] = round(precision, 4)\n",
    "        test_performance['recall'] = round(recall, 4)\n",
    "        test_performance['f1'] = round(f1, 4)\n",
    "        test_performance['auc'] = round(auc, 4)\n",
    "        test_performance['total_time'] = round(delta_time, 3)\n",
    "\n",
    "        return pd.DataFrame(test_performance, index=test_performance.keys()).reset_index(drop=True).loc[:0, :]\n",
    "\n",
    "    def evaluate_performance(self, X_train, y_train, X_test, y_test, cv=5, save=False, overwrite=True,\n",
    "                             performances_filepath='model_performances.csv'):\n",
    "        \"\"\"\n",
    "        This function centralizes the evaluating metric process by calling train and test evaluation functions.\n",
    "\n",
    "        Parameters\n",
    "        ----------\n",
    "        :param X_train: training data to be used on evaluation [np.array]\n",
    "        :param y_train: training target variable to be used on evaluation [type: np.array]\n",
    "        :param X_test: testing data to be used on evaluation [np.array]\n",
    "        :param y_test: testing target variable to be used on evaluation [type: np.array]\n",
    "        :param cv: K-folds used on cross validation step [type: int, default: 5]\n",
    "        :param save: flag that guides saving the final DataFrame with metrics [type: bool, default: False]\n",
    "        :param overwrite: flag that guides the overwriting of a saved metrics file [type: bool, default: True]\n",
    "        :param performances_filepath: path reference for saving model performances dataset [type: string,\n",
    "                                                                        default: 'model_performances.csv']\n",
    "\n",
    "        Return\n",
    "        ------\n",
    "        :return df_performance: DataFrame containing model metrics calculated on training and test data\n",
    "\n",
    "        Application\n",
    "        -----------\n",
    "        # Evaluating performance on training and testint\n",
    "        df_performance = trainer.evaluate_performance(X_train, y_train, X_test, y_test, save=True)\n",
    "        \"\"\"\n",
    "\n",
    "        # Iterating over each trained classifier at classifiers_info dictionary\n",
    "        df_performances = pd.DataFrame({})\n",
    "        for model_name, model_info in self.classifiers_info.items():\n",
    "\n",
    "            # Validating if the model was already trained (the key 'train_performance' will be at model_info dict if so)\n",
    "            if 'train_performance' in model_info.keys():\n",
    "                df_performances = df_performances.append(model_info['train_performance'])\n",
    "                df_performances = df_performances.append(model_info['test_performance'])\n",
    "                continue\n",
    "\n",
    "            # Returning the estimator for calling the evaluation functions\n",
    "            print(f'Evaluating model {model_name}\\n')\n",
    "            estimator = model_info['estimator']\n",
    "\n",
    "            # Retrieving training and testing metrics by calling inner functions\n",
    "            train_performance = self.compute_train_performance(model_name, estimator, X_train, y_train, cv=cv)\n",
    "            test_performance = self.compute_test_performance(model_name, estimator, X_test, y_test)\n",
    "\n",
    "            # Putting results on model's dictionary (classifiers_info)\n",
    "            self.classifiers_info[model_name]['train_performance'] = train_performance\n",
    "            self.classifiers_info[model_name]['test_performance'] = test_performance\n",
    "\n",
    "            # Building and unique DataFrame with performances retrieved\n",
    "            model_performance = train_performance.append(test_performance)\n",
    "            df_performances = df_performances.append(model_performance)\n",
    "\n",
    "            # Saving some attributes on model_info dictionary for further access\n",
    "            model_data = {\n",
    "                'X_train': X_train,\n",
    "                'y_train': y_train,\n",
    "                'X_test': X_test,\n",
    "                'y_test': y_test\n",
    "            }\n",
    "            model_info['model_data'] = model_data\n",
    "\n",
    "        # Saving the metrics file if applicable\n",
    "        if save:\n",
    "            # Adding information of measuring and execution time\n",
    "            cols_performance = list(df_performances.columns)\n",
    "            df_performances['anomesdia'] = datetime.now().strftime('%Y%m%d')\n",
    "            df_performances['anomesdia_datetime'] = datetime.now()\n",
    "            df_performances = df_performances.loc[:, ['anomesdia', 'anomesdia_datetime'] + cols_performance]\n",
    "\n",
    "            # Validating overwriting or append on data already saved\n",
    "            if overwrite:\n",
    "                df_performances.to_csv(performances_filepath, index=False)\n",
    "            else:\n",
    "                try:\n",
    "                    # If overwrite is False, tries reading existing metrics data and applying append on it\n",
    "                    log_performances = pd.read_csv(performances_filepath)\n",
    "                    full_performances = log_performances.append(df_performances)\n",
    "                    full_performances.to_csv(performances_filepath, index=False)\n",
    "                except FileNotFoundError:\n",
    "                    print('Log de performances do modelo não existente no caminho especificado. Salvando apenas o atual.')\n",
    "                    df_performances.to_csv(performances_filepath, index=False)\n",
    "\n",
    "        return df_performances\n",
    "\n",
    "    def feature_importance_analysis(self, features, specific_model=None, graph=True, ax=None, top_n=30,\n",
    "                                    palette='viridis', save=False, features_filepath='features_info.csv'):\n",
    "        \"\"\"\n",
    "        This function retrieves the feature importance from a given model. It can also build a bar chart\n",
    "        for top_n most important features and plot it on the notebook.\n",
    "\n",
    "        Paramters\n",
    "        ---------\n",
    "        :param features: list of model features used on training [type: list]\n",
    "        :param specific_model: information that guides the returning of feature importance for a specific model*\n",
    "        :param graph: flag that guides bar chart plotting at the end of execution [type: bool, default: True]\n",
    "        :param ax: axis for plotting the bar chart [type: matplotlib.axes, default: None]\n",
    "        :param top_n: parameter for showing up just top most important features [type: int, default: 30]\n",
    "        :param palette: color configuration for feature importance bar chart [type: string, default: 'viridis']\n",
    "        :param save: flag for saving the dataset returned [type: bool, default: False]\n",
    "        :param features_filepath: path for saving the feature iportance dataset [type: string, default: 'features_info.csv']\n",
    "\n",
    "        Returns\n",
    "        -------\n",
    "        :return: model_feature_importance: pandas DataFrame with feature importances extracted by trained models\n",
    "        \"\"\"\n",
    "\n",
    "        # Iterating over each trained classifiers on classifiers_info dictionary\n",
    "        feat_imp = pd.DataFrame({})\n",
    "        all_feat_imp = pd.DataFrame({})\n",
    "        for model_name, model_info in self.classifiers_info.items():\n",
    "            # Creating a pandas DataFrame with model feature importance\n",
    "            try:\n",
    "                importances = model_info['estimator'].feature_importances_\n",
    "            except:\n",
    "                # If the given model doesn't have the feature_importances_ method, just continue for the next\n",
    "                continue\n",
    "            # Preparing the dataset with useful information\n",
    "            feat_imp['feature'] = features\n",
    "            feat_imp['importance'] = importances\n",
    "            feat_imp['anomesdia'] = datetime.now().strftime('%Y%m')\n",
    "            feat_imp['anomesdia_datetime'] = datetime.now()\n",
    "            feat_imp.sort_values(by='importance', ascending=False, inplace=True)\n",
    "            feat_imp.reset_index(drop=True, inplace=True)\n",
    "\n",
    "            # Saving the feature iportance at model's dictionary (classifiers_info)\n",
    "            self.classifiers_info[model_name]['feature_importances'] = feat_imp\n",
    "            all_feat_imp = all_feat_imp.append(feat_imp)\n",
    "            all_feat_imp['model'] = model_name\n",
    "\n",
    "        # Retrieving feature importance for a specific model\n",
    "        if specific_model is not None:\n",
    "            try:\n",
    "                model_feature_importance = self.classifiers_info[specific_model]['feature_importances']\n",
    "                if graph:\n",
    "                    # Plotting the bar chart\n",
    "                    sns.barplot(x='importance', y='feature', data=model_feature_importance.iloc[:top_n, :],\n",
    "                                ax=ax, palette=palette)\n",
    "                    format_spines(ax, right_border=False)\n",
    "                    ax.set_title(f'Top {top_n} {specific_model} Features mais Relevantes', size=14, color='dimgrey')\n",
    "\n",
    "                # Saving features for a specific model\n",
    "                if save:\n",
    "                    model_feature_importance['model'] = specific_model\n",
    "                    order_cols = ['anomesdia', 'anomesdia_datetime', 'model', 'feature', 'importance']\n",
    "                    model_feature_importance = model_feature_importance.loc[:, order_cols]\n",
    "                    model_feature_importance.to_csv(features_filepath, index=False)\n",
    "                return model_feature_importance\n",
    "\n",
    "            except:\n",
    "                # Exception raised if the \"specific_model\" param doesn't match with any model's dictionary key\n",
    "                print(f'Classificador {specific_model} não existente nas chaves de classificadores treinados.')\n",
    "                print(f'Opções possíveis: {list(self.classifiers_info.keys())}')\n",
    "                return None\n",
    "\n",
    "        else:\n",
    "            # Validating feature importance saving if not passing specific_model param\n",
    "            if save:\n",
    "                order_cols = ['anomesdia', 'anomedia_datetime', 'model', 'feature', 'importance']\n",
    "                all_feat_imp = all_feat_imp.loc[:, order_cols]\n",
    "                all_feat_imp.to_csv(features_filepath, index=False)\n",
    "            return all_feat_imp\n",
    "\n",
    "        # Non-matching param combination (it can't be possible plotting bar chart for all models)\n",
    "        if graph and specific_model is None:\n",
    "            print('Por favor, escolha um modelo específico para visualizar o gráfico das feature importances')\n",
    "            return None\n",
    "\n",
    "    def plot_roc_curve(self, figsize=(16, 6)):\n",
    "        \"\"\"\n",
    "        This function iterates over each estimator in classifiers_info dictionary and plots the ROC Curve for\n",
    "        each one for training (first axis) and testing data (second axis)\n",
    "\n",
    "        Paramaters\n",
    "        ----------\n",
    "        :param figsize: figure size for the plot [type: tuple, default: (16, 6)]\n",
    "\n",
    "        Returns\n",
    "        -------\n",
    "        This function doesn't return anything but the matplotlib plot for ROC Curve\n",
    "\n",
    "        Application\n",
    "        -----------\n",
    "        trainer.plot_roc_curve()\n",
    "        \"\"\"\n",
    "\n",
    "        # Creating matplotlib figure and axis for ROC Curve plot\n",
    "        fig, axs = plt.subplots(ncols=2, figsize=figsize)\n",
    "\n",
    "        # Iterating over trained models\n",
    "        for model_name, model_info in self.classifiers_info.items():\n",
    "            # Returning y data for the model (training and testing)\n",
    "            y_train = model_info['model_data']['y_train']\n",
    "            y_test = model_info['model_data']['y_test']\n",
    "\n",
    "            # Returning scores already calculated after performance evaluation\n",
    "            train_scores = model_info['train_scores']\n",
    "            test_scores = model_info['test_scores']\n",
    "\n",
    "            # Calculating false positives and true positives rate\n",
    "            train_fpr, train_tpr, train_thresholds = roc_curve(y_train, train_scores)\n",
    "            test_fpr, test_tpr, test_thresholds = roc_curve(y_test, test_scores)\n",
    "\n",
    "            # Returning the auc metric for training and testing already calculated after model evaluation\n",
    "            train_auc = model_info['train_performance']['auc'].values[0]\n",
    "            test_auc = model_info['test_performance']['auc'].values[0]\n",
    "\n",
    "            # Plotting graph (training data)\n",
    "            plt.subplot(1, 2, 1)\n",
    "            plt.plot(train_fpr, train_tpr, linewidth=2, label=f'{model_name} auc={train_auc}')\n",
    "            plt.plot([0, 1], [0, 1], 'k--')\n",
    "            plt.axis([-0.02, 1.02, -0.02, 1.02])\n",
    "            plt.xlabel('False Positive Rate')\n",
    "            plt.ylabel('True Positive Rate')\n",
    "            plt.title(f'ROC Curve - Train Data')\n",
    "            plt.legend()\n",
    "\n",
    "            # Plotting graph (testing data)\n",
    "            plt.subplot(1, 2, 2)\n",
    "            plt.plot(test_fpr, test_tpr, linewidth=2, label=f'{model_name} auc={test_auc}')\n",
    "            plt.plot([0, 1], [0, 1], 'k--')\n",
    "            plt.axis([-0.02, 1.02, -0.02, 1.02])\n",
    "            plt.xlabel('False Positive Rate')\n",
    "            plt.ylabel('True Positive Rate')\n",
    "            plt.title(f'ROC Curve - Test Data', size=12)\n",
    "            plt.legend()\n",
    "\n",
    "        plt.show()\n",
    "\n",
    "    def custom_confusion_matrix(self, model_name, y_true, y_pred, classes, cmap, normalize=False):\n",
    "        \"\"\"\n",
    "        This function is used for plotting and customizing a confusion matrix for a specific model. In practice,\n",
    "        this function can be called by a top level one for plotting matrix for many models.\n",
    "\n",
    "        Parameters\n",
    "        ----------\n",
    "        :param model_name: key reference for extracting model's estimator from classifiers_dict [type: string]\n",
    "        :param y_true: label reference for the target variable [type: np.array]\n",
    "        :param y_pred: array of predictions given by the respective model [type: np.array]\n",
    "        :param classes: alias for classes [type: string]\n",
    "        :param cmap: this parameters guides the colorway for the matrix [type: matplotlib.colormap]\n",
    "        :param normalize: normalizes the entries for the matrix [type: bool, default: False]\n",
    "\n",
    "        Returns\n",
    "        -------\n",
    "        :return: This functions doesn't return any object besides of plotting the confusion matrix\n",
    "\n",
    "        Application\n",
    "        -----------\n",
    "        Please refer to the self.plot_confusion_matrix() function\n",
    "\n",
    "        \"\"\"\n",
    "\n",
    "        # Returning a confusion matrix given the labels and predictions passed as args\n",
    "        conf_mx = confusion_matrix(y_true, y_pred)\n",
    "\n",
    "        # Plotando matriz\n",
    "        plt.imshow(conf_mx, interpolation='nearest', cmap=cmap)\n",
    "        plt.colorbar()\n",
    "        tick_marks = np.arange(len(classes))\n",
    "\n",
    "        # Customizando eixos\n",
    "        plt.xticks(tick_marks, classes, rotation=45)\n",
    "        plt.yticks(tick_marks, classes)\n",
    "\n",
    "        # Customizando entradas\n",
    "        fmt = '.2f' if normalize else 'd'\n",
    "        thresh = conf_mx.max() / 2.\n",
    "        for i, j in itertools.product(range(conf_mx.shape[0]), range(conf_mx.shape[1])):\n",
    "            plt.text(j, i, format(conf_mx[i, j]),\n",
    "                     horizontalalignment='center',\n",
    "                     color='white' if conf_mx[i, j] > thresh else 'black')\n",
    "        plt.ylabel('True Label')\n",
    "        plt.xlabel('Predicted Label')\n",
    "        plt.title(f'{model_name}\\nConfusion Matrix', size=12)\n",
    "\n",
    "    def plot_confusion_matrix(self, classes, normalize=False, cmap=plt.cm.Blues):\n",
    "        \"\"\"\n",
    "        This function plots a confusion matrix for training and testing data for each classifier at\n",
    "        self.classifiers_dict dictionary\n",
    "\n",
    "        Parameters\n",
    "        ----------\n",
    "        :param classes: labels for the target variable [type: string]\n",
    "        :param normalize: flag that guides the normalization of matrix values [type: bool, default: False]\n",
    "        :param cmap: param that colorizes the matrix [type: plt.cm, default: plt.cm.Blues]\n",
    "\n",
    "        Returns\n",
    "        -------\n",
    "        This function doesn't return anything but the matplotlib plot for confusion matrix\n",
    "        \"\"\"\n",
    "\n",
    "        # Defining parameters for ploting\n",
    "        k = 1\n",
    "        nrows = len(self.classifiers_info.keys())\n",
    "        fig = plt.figure(figsize=(10, nrows * 4))\n",
    "        sns.set(style='white', palette='muted', color_codes=True)\n",
    "\n",
    "        # Iterating over each classifier\n",
    "        for model_name, model_info in self.classifiers_info.items():\n",
    "            # Returning data from each model\n",
    "            X_train = model_info['model_data']['X_train']\n",
    "            y_train = model_info['model_data']['y_train']\n",
    "            X_test = model_info['model_data']['X_test']\n",
    "            y_test = model_info['model_data']['y_test']\n",
    "\n",
    "            # Making predictions for training (cross validation) and testing for returning confusion matrix\n",
    "            train_pred = cross_val_predict(model_info['estimator'], X_train, y_train, cv=5)\n",
    "            test_pred = model_info['estimator'].predict(X_test)\n",
    "\n",
    "            # Plotting matrix (training data)\n",
    "            plt.subplot(nrows, 2, k)\n",
    "            self.custom_confusion_matrix(model_name + ' Train', y_train, train_pred, classes=classes, cmap=cmap,\n",
    "                                         normalize=normalize)\n",
    "            k += 1\n",
    "\n",
    "            # Plotting matrix (testing data)\n",
    "            plt.subplot(nrows, 2, k)\n",
    "            self.custom_confusion_matrix(model_name + ' Test', y_test, test_pred, classes=classes, cmap=plt.cm.Greens,\n",
    "                                         normalize=normalize)\n",
    "            k += 1\n",
    "\n",
    "        plt.tight_layout()\n",
    "        plt.show()\n",
    "\n",
    "    def plot_learning_curve(self, model_name, ax, ylim=None, cv=5, n_jobs=1, train_sizes=np.linspace(.1, 1.0, 10)):\n",
    "        \"\"\"\n",
    "        This function calculates and plots the learning curve for a trained model\n",
    "\n",
    "        Parameters\n",
    "        ----------\n",
    "        :param model_name: Key reference for extracting an estimator from classifiers_dict dictionary [type: string]\n",
    "        :param ax: axis reference for plotting the learning curve [type: matplotlib.axis]\n",
    "        :param ylim: configuration of the limit on plot vertical axis [type: int, default: None]\n",
    "        :param cv: k-folds used on cross validation [type: int, default: 5]\n",
    "        :param n_jobs: number of cores used on retrieving the learning curve params [type: int, default: 1]\n",
    "        :param train_sizes: array that guides the steps bins used on learning curve [type: np.array,\n",
    "                                                                                    default:np.linspace(.1, 1.0, 10)]\n",
    "\n",
    "        Returns\n",
    "        -------\n",
    "        This function doesn't return anything but the matplotlib plot for the learning curve\n",
    "\n",
    "        Application\n",
    "        -----------\n",
    "        # Plotting the learning curve for a specific model\n",
    "        fig, ax = plt.subplots(figsize=(16, 6))\n",
    "        trainer.plot_learning_curve(model_name='LightGBM', ax=ax)\n",
    "        \"\"\"\n",
    "\n",
    "        # Returning the model to be evaluated\n",
    "        try:\n",
    "            model = self.classifiers_info[model_name]\n",
    "        except:\n",
    "            print(f'Classificador {model_name} não foi treinado.')\n",
    "            print(f'Opções possíveis: {list(self.classifiers_info.keys())}')\n",
    "            return None\n",
    "\n",
    "        # Returning useful data for the model\n",
    "        X_train = model['model_data']['X_train']\n",
    "        y_train = model['model_data']['y_train']\n",
    "\n",
    "        # Calling the learning curve model for retrieving the scores for training and validation\n",
    "        train_sizes, train_scores, val_scores = learning_curve(model['estimator'], X_train, y_train, cv=cv,\n",
    "                                                               n_jobs=n_jobs, train_sizes=train_sizes)\n",
    "\n",
    "        # Computing averages and standard deviation (training and validation)\n",
    "        train_scores_mean = np.mean(train_scores, axis=1)\n",
    "        train_scores_std = np.std(train_scores, axis=1)\n",
    "        val_scores_mean = np.mean(val_scores, axis=1)\n",
    "        val_scores_std = np.std(val_scores, axis=1)\n",
    "\n",
    "        # Results on training data\n",
    "        ax.plot(train_sizes, train_scores_mean, 'o-', color='navy', label='Training Score')\n",
    "        ax.fill_between(train_sizes, (train_scores_mean - train_scores_std), (train_scores_mean + train_scores_std),\n",
    "                        alpha=0.1, color='blue')\n",
    "\n",
    "        # Results on cross validation\n",
    "        ax.plot(train_sizes, val_scores_mean, 'o-', color='red', label='Cross Val Score')\n",
    "        ax.fill_between(train_sizes, (val_scores_mean - val_scores_std), (val_scores_mean + val_scores_std),\n",
    "                        alpha=0.1, color='crimson')\n",
    "\n",
    "        # Customizing graph\n",
    "        ax.set_title(f'Model {model_name} - Learning Curve', size=14)\n",
    "        ax.set_xlabel('Training size (m)')\n",
    "        ax.set_ylabel('Score')\n",
    "        ax.grid(True)\n",
    "        ax.legend(loc='best')\n",
    "\n",
    "    def plot_score_distribution(self, model_name, shade=False):\n",
    "        \"\"\"\n",
    "        This function plots a kdeplot for training and testing data splitting by target class\n",
    "\n",
    "        Parameters\n",
    "        ----------\n",
    "        :param model_name: key reference for the trained model [type: string]\n",
    "        :param shade: shade param for seaborn's kdeplot [type: bool, default: False]\n",
    "\n",
    "        Returns\n",
    "        -------\n",
    "        This function doesn't return anything but the matplotlib plot for the score distribution\n",
    "\n",
    "        Application\n",
    "        -----------\n",
    "        # Ploting scores distribution for a model\n",
    "        plot_score_distribution(model_name='LightGBM', shade=True)\n",
    "        \"\"\"\n",
    "\n",
    "        # Returning the model to be evaluated\n",
    "        try:\n",
    "            model = self.classifiers_info[model_name]\n",
    "        except:\n",
    "            print(f'Classificador {model_name} não foi treinado.')\n",
    "            print(f'Opções possíveis: {list(self.classifiers_info.keys())}')\n",
    "            return None\n",
    "\n",
    "        # Retrieving y array for training and testing data\n",
    "        y_train = model['model_data']['y_train']\n",
    "        y_test = model['model_data']['y_test']\n",
    "\n",
    "        # Retrieving training and testing scores\n",
    "        train_scores = model['train_scores']\n",
    "        test_scores = model['test_scores']\n",
    "\n",
    "        # Plotting scores distribution\n",
    "        fig, axs = plt.subplots(nrows=1, ncols=2, figsize=(16, 5))\n",
    "        sns.kdeplot(train_scores[y_train == 1], ax=axs[0], label='y=1', shade=shade, color='darkslateblue')\n",
    "        sns.kdeplot(train_scores[y_train == 0], ax=axs[0], label='y=0', shade=shade, color='crimson')\n",
    "        sns.kdeplot(test_scores[y_test == 1], ax=axs[1], label='y=1', shade=shade, color='darkslateblue')\n",
    "        sns.kdeplot(test_scores[y_test == 0], ax=axs[1], label='y=0', shade=shade, color='crimson')\n",
    "\n",
    "        # Customizing plots\n",
    "        format_spines(axs[0], right_border=False)\n",
    "        format_spines(axs[1], right_border=False)\n",
    "        axs[0].set_title('Score Distribution - Training Data', size=12, color='dimgrey')\n",
    "        axs[1].set_title('Score Distribution - Testing Data', size=12, color='dimgrey')\n",
    "        plt.suptitle(f'Score Distribution: a Probability Approach for {model_name}\\n', size=14, color='black')\n",
    "        plt.show()\n",
    "\n",
    "    def plot_score_bins(self, model_name, bin_range):\n",
    "        \"\"\"\n",
    "        This function plots a score distribution based on quantity of each class in a specific bin_range set\n",
    "\n",
    "        Parameters\n",
    "        ----------\n",
    "        :param model_name: key reference for the trained model [type: string]\n",
    "        :param bin_range: defines a range of splitting the bins array [type: float]\n",
    "\n",
    "        Returns\n",
    "        -------\n",
    "        This function doesn't return anything but the matplotlib plot for the score bins distribution\n",
    "\n",
    "        Application\n",
    "        -----------\n",
    "        # Ploting scores distribution for a model in another approach\n",
    "        plot_score_bins(model_name='LightGBM', bin_range=0.1)\n",
    "        \"\"\"\n",
    "\n",
    "        # Returning the model to be evaluated\n",
    "        try:\n",
    "            model = self.classifiers_info[model_name]\n",
    "        except:\n",
    "            print(f'Classificador {model_name} não foi treinado.')\n",
    "            print(f'Opções possíveis: {list(self.classifiers_info.keys())}')\n",
    "            return None\n",
    "\n",
    "        # Creating the bins array\n",
    "        bins = np.arange(0, 1.01, bin_range)\n",
    "        bins_labels = [str(round(list(bins)[i - 1], 2)) + ' a ' + str(round(list(bins)[i], 2)) for i in range(len(bins))\n",
    "                       if i > 0]\n",
    "\n",
    "        # Retrieving the train scores and creating a DataFrame\n",
    "        train_scores = model['train_scores']\n",
    "        y_train = model['model_data']['y_train']\n",
    "        df_train_scores = pd.DataFrame({})\n",
    "        df_train_scores['scores'] = train_scores\n",
    "        df_train_scores['target'] = y_train\n",
    "        df_train_scores['faixa'] = pd.cut(train_scores, bins, labels=bins_labels)\n",
    "\n",
    "        # Computing the distribution for each bin\n",
    "        df_train_rate = pd.crosstab(df_train_scores['faixa'], df_train_scores['target'])\n",
    "        df_train_percent = df_train_rate.div(df_train_rate.sum(1).astype(float), axis=0)\n",
    "\n",
    "        # Retrieving the test scores and creating a DataFrame\n",
    "        test_scores = model['test_scores']\n",
    "        y_test = model['y_test']\n",
    "        df_test_scores = pd.DataFrame({})\n",
    "        df_test_scores['scores'] = test_scores\n",
    "        df_test_scores['target'] = y_test\n",
    "        df_test_scores['faixa'] = pd.cut(test_scores, bins, labels=bins_labels)\n",
    "\n",
    "        # Computing the distribution for each bin\n",
    "        df_test_rate = pd.crosstab(df_test_scores['faixa'], df_test_scores['target'])\n",
    "        df_test_percent = df_test_rate.div(df_test_rate.sum(1).astype(float), axis=0)\n",
    "\n",
    "        # Defining figure for plotting\n",
    "        fig, axs = plt.subplots(nrows=2, ncols=2, figsize=(16, 12))\n",
    "\n",
    "        # Plotting the bar chart for each bin\n",
    "        for df_scores, ax in zip([df_train_scores, df_test_scores], [axs[0, 0], axs[0, 1]]):\n",
    "            sns.countplot(x='faixa', data=df_scores, hue='target', ax=ax, palette=['darkslateblue', 'crimson'])\n",
    "            AnnotateBars(n_dec=0, color='dimgrey').vertical(ax)\n",
    "            ax.legend(loc='upper right')\n",
    "            format_spines(ax, right_border=False)\n",
    "\n",
    "        # Plotting percentage for each class in each bin\n",
    "        for df_percent, ax in zip([df_train_percent, df_test_percent], [axs[1, 0], axs[1, 1]]):\n",
    "            df_percent.plot(kind='bar', ax=ax, stacked=True, color=['darkslateblue', 'crimson'], width=0.6)\n",
    "\n",
    "            # Customizing plots\n",
    "            for p in ax.patches:\n",
    "                # Collecting params for labeling\n",
    "                height = p.get_height()\n",
    "                width = p.get_width()\n",
    "                x = p.get_x()\n",
    "                y = p.get_y()\n",
    "\n",
    "                # Formatting params and putting into the graph\n",
    "                label_text = f'{round(100 * height, 1)}%'\n",
    "                label_x = x + width - 0.30\n",
    "                label_y = y + height / 2\n",
    "                ax.text(label_x, label_y, label_text, ha='center', va='center', color='white',\n",
    "                        fontweight='bold', size=10)\n",
    "            format_spines(ax, right_border=False)\n",
    "\n",
    "        # Final definitions\n",
    "        axs[0, 0].set_title('Quantity of each Class by Range - Train', size=12, color='dimgrey')\n",
    "        axs[0, 1].set_title('Quantity of each Class by Range - Test', size=12, color='dimgrey')\n",
    "        axs[1, 0].set_title('Percentage of each Class by Range - Train', size=12, color='dimgrey')\n",
    "        axs[1, 1].set_title('Percentage of each Class by Range - Test', size=12, color='dimgrey')\n",
    "        plt.suptitle(f'Score Distribution by Range - {model_name}\\n', size=14, color='black')\n",
    "        plt.tight_layout()\n",
    "        plt.show()\n",
    "\n",
    "    def shap_analysis(self, model_name, features):\n",
    "        \"\"\"\n",
    "        This function brings a shap analysis for each feature into the model\n",
    "\n",
    "        Parameters\n",
    "        ----------\n",
    "        :param model_name: key reference for the trained model [type: string]\n",
    "        :param features: features list for the model [type: list]\n",
    "\n",
    "        Returns\n",
    "        -------\n",
    "        This function doesn't return anything but the shap plot analysis\n",
    "\n",
    "        Application\n",
    "        -----------\n",
    "        # Executing a shap analysis\n",
    "        trainer.shap_analysis(model_name='LightGBM')\n",
    "        \"\"\"\n",
    "\n",
    "        # Returning the model to be evaluated\n",
    "        try:\n",
    "            model = self.classifiers_info[model_name]\n",
    "        except:\n",
    "            print(f'Classificador {model_name} não foi treinado.')\n",
    "            print(f'Opções possíveis: {list(self.classifiers_info.keys())}')\n",
    "            return None\n",
    "\n",
    "        # Retrieving training data\n",
    "        X_train = model['X_train']\n",
    "\n",
    "        # Applying shap approach\n",
    "        explainer = shap.TreeExplainer(model)\n",
    "        df_train = pd.DataFrame(X_train, columns=features)\n",
    "        shap_values = explainer.shap_values(df_train)\n",
    "\n",
    "        # Plotting a summary plot using shap\n",
    "        shap.summary_plot(shap_values[1], df_train)\n",
    "\n",
    "\n",
    "def cross_val_performance(estimator, X, y, cv=5):\n",
    "    \"\"\"\n",
    "    This function applies cross validation to retrieve useful metrics for the classification model.\n",
    "    In practice, this function would be called by another one (usually with compute_test_performance as well)\n",
    "\n",
    "    Parameters\n",
    "    ----------\n",
    "    :param estimator: a trained model to be used on evaluation [type: model]\n",
    "    :param X: object containing features already prepared for training the model [type: np.array]\n",
    "    :param y: object containing the model target variable [type: np.array]\n",
    "    :param cv: k-folds for cross validation application on training evaluation\n",
    "\n",
    "    Return\n",
    "    ------\n",
    "    :return train_performance: DataFrame containing model metrics calculated using cross validation\n",
    "\n",
    "    Application\n",
    "    -----------\n",
    "    # Evaluating training performance using cross-validation\n",
    "    df_performances = trainer.compute_train_performance('DecisionTrees', trained_model, X_train, y_train, cv=5)\n",
    "    \"\"\"\n",
    "\n",
    "    # Computing metrics using cross validation\n",
    "    t0 = time.time()\n",
    "    accuracy = cross_val_score(estimator, X, y, cv=cv, scoring='accuracy').mean()\n",
    "    precision = cross_val_score(estimator, X, y, cv=cv, scoring='precision').mean()\n",
    "    recall = cross_val_score(estimator, X, y, cv=cv, scoring='recall').mean()\n",
    "    f1 = cross_val_score(estimator, X, y, cv=cv, scoring='f1').mean()\n",
    "\n",
    "    # Probas for calculating AUC\n",
    "    try:\n",
    "        y_scores = cross_val_predict(estimator, X, y, cv=cv, method='decision_function')\n",
    "    except:\n",
    "        # Tree based models don't have 'decision_function()' method, but 'predict_proba()'\n",
    "        y_probas = cross_val_predict(estimator, X, y, cv=cv, method='predict_proba')\n",
    "        y_scores = y_probas[:, 1]\n",
    "    auc = roc_auc_score(y, y_scores)\n",
    "\n",
    "    # Creating a DataFrame with metrics\n",
    "    t1 = time.time()\n",
    "    delta_time = t1 - t0\n",
    "    train_performance = {}\n",
    "    train_performance['model'] = estimator.__class__.__name__\n",
    "    train_performance['approach'] = 'Final Model'\n",
    "    train_performance['acc'] = round(accuracy, 4)\n",
    "    train_performance['precision'] = round(precision, 4)\n",
    "    train_performance['recall'] = round(recall, 4)\n",
    "    train_performance['f1'] = round(f1, 4)\n",
    "    train_performance['auc'] = round(auc, 4)\n",
    "    train_performance['total_time'] = round(delta_time, 3)\n",
    "    df_performance = pd.DataFrame(train_performance, index=train_performance.keys()).reset_index(drop=True).loc[:0, :]\n",
    "\n",
    "    # Adding information of measuring and execution time\n",
    "    cols_performance = list(df_performance.columns)\n",
    "    df_performance['anomesdia'] = datetime.now().strftime('%Y%m%d')\n",
    "    df_performance['anomesdia_datetime'] = datetime.now()\n",
    "    df_performance = df_performance.loc[:, ['anomesdia', 'anomesdia_datetime'] + cols_performance]\n",
    "\n",
    "    return df_performance\n",
    "    \n",
    "\n",
    "\"\"\"\n",
    "-----------------------------------\n",
    "---------- 2. CLUSTERING ----------\n",
    "-----------------------------------\n",
    "\"\"\"\n",
    "\n",
    "\n",
    "def elbow_method_kmeans(df, K_min, K_max, figsize=(16, 6)):\n",
    "    \"\"\"\n",
    "    This function applies the elbow method using K-means clustering algorithm in order to select the best number of\n",
    "    k clusters for the task\n",
    "\n",
    "    Parameters\n",
    "    ----------\n",
    "    :param df: DataFrame with data to be clustered [type: pd.DataFrame]\n",
    "    :param K_min: minimum index of K to be evaluated on elbow method [type: int]\n",
    "    :param K_max: maximum index of K to be evaluated on elbow method [type: int]\n",
    "    :param figsize: figure dimension for the matplotlib plot [type: tuple, default: (16, 5)]\n",
    "\n",
    "    Returns\n",
    "    -------\n",
    "    :return: This function doesn't return anything but the elbow method plot for further analysis\n",
    "\n",
    "    Application\n",
    "    -----------\n",
    "    # Looking at the elbow graphic for selection the best k number of clusters\n",
    "    elbow_method_kmeans(df=data, K_min=1, K_max=8)\n",
    "    \"\"\"\n",
    "\n",
    "    # Training differente K-Means models for each number of flusters in range K_min, K_max\n",
    "    square_dist = []\n",
    "    for k in range(K_min, K_max+1):\n",
    "        km = KMeans(n_clusters=k)\n",
    "        km.fit(df)\n",
    "        # Computing and keeping the square distances for each model configuration\n",
    "        square_dist.append(km.inertia_)\n",
    "\n",
    "    # Plotting elbow analysis\n",
    "    fig, ax = plt.subplots(figsize=figsize)\n",
    "    sns.lineplot(x=range(K_min, K_max), y=square_dist, color='cornflowerblue', marker='o')\n",
    "\n",
    "    # Customizing the graph\n",
    "    format_spines(ax, right_border=False)\n",
    "    ax.set_title('Elbow Method - KMeans Model', size=14, color='dimgrey')\n",
    "    ax.set_xlabel('Total of Clusters (K)')\n",
    "    ax.set_ylabel('Euclidian Distance')\n",
    "    plt.show()\n",
    "\n",
    "\n",
    "def plot_kmeans_clusters_2d(df, k_means, figsize=(16, 6), cmap='viridis'):\n",
    "    \"\"\"\n",
    "    This function plots and customizes a 2D result from a trained K-means algorithm\n",
    "\n",
    "    Parameters\n",
    "    ----------\n",
    "    :param df: DataFrame with the two columns used on training the K-means algorithm [type: pd.DataFrame]\n",
    "    :param kmeans: trained K-means model [type: model]\n",
    "    :param figsize: figure dimension for the plot [type: tuple, default: (16, 6)]\n",
    "    :param cmap: param for coloring the plot with a specific palette [type: string, default: 'viridis]\n",
    "\n",
    "    Returns\n",
    "    -------\n",
    "    :return: This function doesn't return anything but the K-means algorithm plot\n",
    "\n",
    "    Application\n",
    "    -----------\n",
    "    # Visualizing the kmeans result on a trained 2D model data\n",
    "    model = KMeans(n_clusters=3)\n",
    "    cluster_data = df.loc[:, two_columns_list]\n",
    "    k_means.fit(cluster_data)\n",
    "    plot_kmeans_clusters_2d(cluster_data, model)\n",
    "    \"\"\"\n",
    "\n",
    "    # Computing y_kmeans and centers\n",
    "    y_kmeans = k_means.predict(df)\n",
    "    centers = k_means.cluster_centers_\n",
    "\n",
    "    # REtrieving values and defining layout\n",
    "    variaveis = df.columns\n",
    "    X = df.values\n",
    "    sns.set(style='white', palette='muted', color_codes=True)\n",
    "\n",
    "    # Plotting the scatterplot chart\n",
    "    fig, ax = plt.subplots(figsize=figsize)\n",
    "    ax.scatter(X[:, 0], X[:, 1], c=y_kmeans, s=50, cmap=cmap)\n",
    "    ax.scatter(centers[:, 0], centers[:, 1], c='black', s=200, alpha=0.5)\n",
    "\n",
    "    # Customizing the graph\n",
    "    ax.set_title(f'K_Means aplicado entre {variaveis[0].upper()} e {variaveis[1].upper()}', size=14, color='dimgrey')\n",
    "    format_spines(ax, right_border=False)\n",
    "    ax.set_xlabel(variaveis[0])\n",
    "    ax.set_ylabel(variaveis[1])\n",
    "    plt.show()"
   ]
  },
  {
   "cell_type": "markdown",
   "metadata": {},
   "source": [
    "### Model Training"
   ]
  },
  {
   "cell_type": "code",
   "execution_count": null,
   "metadata": {},
   "outputs": [],
   "source": [
    "# Logistic Regression hyperparameters\n",
    "logreg_param_grid = {\n",
    "    'C': np.linspace(0.1, 10, 20),\n",
    "    'penalty': ['l1', 'l2'],\n",
    "    'class_weight': ['balanced', None],\n",
    "    'random_state': [42],\n",
    "    'solver': ['liblinear']\n",
    "}\n",
    "\n",
    "# Setting up the classifiers\n",
    "set_classifiers = {\n",
    "    'LogisticRegression': {\n",
    "        'model': LogisticRegression(),\n",
    "        'params': logreg_param_grid\n",
    "    },\n",
    "    'Naive Bayes': {\n",
    "        'model': GaussianNB(),\n",
    "        'params': {}\n",
    "    }\n",
    "}"
   ]
  },
  {
   "cell_type": "code",
   "execution_count": null,
   "metadata": {},
   "outputs": [
    {
     "name": "stdout",
     "output_type": "stream",
     "text": [
      "Training model LogisticRegression\n",
      "\n",
      "Fitting 5 folds for each of 10 candidates, totalling 50 fits\n",
      "[CV 3/5] END C=3.747368421052632, class_weight=None, penalty=l1, random_state=42, solver=liblinear;, score=0.884 total time=   1.7s\n",
      "[CV 1/5] END C=3.747368421052632, class_weight=None, penalty=l1, random_state=42, solver=liblinear;, score=0.888 total time=   1.8s\n",
      "[CV 2/5] END C=3.747368421052632, class_weight=None, penalty=l1, random_state=42, solver=liblinear;, score=0.884 total time=   1.9s\n",
      "[CV 1/5] END C=0.1, class_weight=balanced, penalty=l1, random_state=42, solver=liblinear;, score=0.863 total time=   2.1s\n",
      "[CV 5/5] END C=3.747368421052632, class_weight=None, penalty=l1, random_state=42, solver=liblinear;, score=0.883 total time=   2.5s\n",
      "[CV 2/5] END C=0.1, class_weight=balanced, penalty=l1, random_state=42, solver=liblinear;, score=0.856 total time=   1.3s\n",
      "[CV 3/5] END C=0.1, class_weight=balanced, penalty=l1, random_state=42, solver=liblinear;, score=0.869 total time=   1.1s\n",
      "[CV 4/5] END C=0.1, class_weight=balanced, penalty=l1, random_state=42, solver=liblinear;, score=0.870 total time=   0.9s\n",
      "[CV 5/5] END C=0.1, class_weight=balanced, penalty=l1, random_state=42, solver=liblinear;, score=0.862 total time=   1.0s\n",
      "[CV 1/5] END C=2.7052631578947373, class_weight=None, penalty=l1, random_state=42, solver=liblinear;, score=0.887 total time=   2.0s\n",
      "[CV 4/5] END C=3.747368421052632, class_weight=None, penalty=l1, random_state=42, solver=liblinear;, score=0.891 total time=   2.4s\n",
      "[CV 2/5] END C=2.7052631578947373, class_weight=None, penalty=l1, random_state=42, solver=liblinear;, score=0.885 total time=   2.2s\n",
      "[CV 3/5] END C=2.7052631578947373, class_weight=None, penalty=l1, random_state=42, solver=liblinear;, score=0.884 total time=   2.2s\n",
      "[CV 4/5] END C=2.7052631578947373, class_weight=None, penalty=l1, random_state=42, solver=liblinear;, score=0.891 total time=   2.2s\n",
      "[CV 2/5] END C=3.747368421052632, class_weight=None, penalty=l2, random_state=42, solver=liblinear;, score=0.884 total time=   1.4s\n",
      "[CV 1/5] END C=3.747368421052632, class_weight=None, penalty=l2, random_state=42, solver=liblinear;, score=0.887 total time=   1.8s\n",
      "[CV 5/5] END C=2.7052631578947373, class_weight=None, penalty=l1, random_state=42, solver=liblinear;, score=0.882 total time=   2.0s\n",
      "[CV 5/5] END C=3.747368421052632, class_weight=None, penalty=l2, random_state=42, solver=liblinear;, score=0.882 total time=   1.2s\n",
      "[CV 3/5] END C=3.747368421052632, class_weight=None, penalty=l2, random_state=42, solver=liblinear;, score=0.885 total time=   1.3s\n",
      "[CV 4/5] END C=3.747368421052632, class_weight=None, penalty=l2, random_state=42, solver=liblinear;, score=0.891 total time=   1.5s\n",
      "[CV 1/5] END C=2.18421052631579, class_weight=None, penalty=l1, random_state=42, solver=liblinear;, score=0.888 total time=   1.5s\n",
      "[CV 2/5] END C=2.18421052631579, class_weight=None, penalty=l1, random_state=42, solver=liblinear;, score=0.885 total time=   1.3s\n",
      "[CV 3/5] END C=2.18421052631579, class_weight=None, penalty=l1, random_state=42, solver=liblinear;, score=0.884 total time=   1.3s\n",
      "[CV 4/5] END C=2.18421052631579, class_weight=None, penalty=l1, random_state=42, solver=liblinear;, score=0.890 total time=   1.4s\n",
      "[CV 5/5] END C=2.18421052631579, class_weight=None, penalty=l1, random_state=42, solver=liblinear;, score=0.882 total time=   1.8s\n",
      "[CV 1/5] END C=3.747368421052632, class_weight=balanced, penalty=l1, random_state=42, solver=liblinear;, score=0.871 total time=   1.6s\n",
      "[CV 2/5] END C=3.747368421052632, class_weight=balanced, penalty=l1, random_state=42, solver=liblinear;, score=0.868 total time=   1.7s\n",
      "[CV 3/5] END C=3.747368421052632, class_weight=balanced, penalty=l1, random_state=42, solver=liblinear;, score=0.872 total time=   1.8s\n",
      "[CV 4/5] END C=3.747368421052632, class_weight=balanced, penalty=l1, random_state=42, solver=liblinear;, score=0.875 total time=   1.4s\n",
      "[CV 5/5] END C=3.747368421052632, class_weight=balanced, penalty=l1, random_state=42, solver=liblinear;, score=0.870 total time=   1.4s\n",
      "[CV 1/5] END C=1.142105263157895, class_weight=None, penalty=l1, random_state=42, solver=liblinear;, score=0.888 total time=   1.5s\n",
      "[CV 3/5] END C=1.142105263157895, class_weight=None, penalty=l1, random_state=42, solver=liblinear;, score=0.884 total time=   1.3s\n",
      "[CV 2/5] END C=1.142105263157895, class_weight=None, penalty=l1, random_state=42, solver=liblinear;, score=0.886 total time=   1.6s\n",
      "[CV 4/5] END C=1.142105263157895, class_weight=None, penalty=l1, random_state=42, solver=liblinear;, score=0.889 total time=   1.2s\n",
      "[CV 5/5] END C=1.142105263157895, class_weight=None, penalty=l1, random_state=42, solver=liblinear;, score=0.881 total time=   1.5s\n",
      "[CV 1/5] END C=8.957894736842105, class_weight=None, penalty=l1, random_state=42, solver=liblinear;, score=0.888 total time=   1.7s\n",
      "[CV 2/5] END C=8.957894736842105, class_weight=None, penalty=l1, random_state=42, solver=liblinear;, score=0.884 total time=   1.7s\n",
      "[CV 3/5] END C=8.957894736842105, class_weight=None, penalty=l1, random_state=42, solver=liblinear;, score=0.884 total time=   1.6s\n",
      "[CV 4/5] END C=8.957894736842105, class_weight=None, penalty=l1, random_state=42, solver=liblinear;, score=0.890 total time=   1.4s\n",
      "[CV 1/5] END C=0.6210526315789474, class_weight=balanced, penalty=l1, random_state=42, solver=liblinear;, score=0.872 total time=   1.4s\n",
      "[CV 5/5] END C=8.957894736842105, class_weight=None, penalty=l1, random_state=42, solver=liblinear;, score=0.883 total time=   1.6s\n",
      "[CV 2/5] END C=0.6210526315789474, class_weight=balanced, penalty=l1, random_state=42, solver=liblinear;, score=0.869 total time=   1.3s\n",
      "[CV 3/5] END C=0.6210526315789474, class_weight=balanced, penalty=l1, random_state=42, solver=liblinear;, score=0.873 total time=   1.5s\n",
      "[CV 5/5] END C=0.6210526315789474, class_weight=balanced, penalty=l1, random_state=42, solver=liblinear;, score=0.869 total time=   1.5s\n",
      "[CV 4/5] END C=0.6210526315789474, class_weight=balanced, penalty=l1, random_state=42, solver=liblinear;, score=0.877 total time=   1.6s\n",
      "[CV 1/5] END C=1.6631578947368424, class_weight=balanced, penalty=l1, random_state=42, solver=liblinear;, score=0.871 total time=   1.7s\n",
      "[CV 2/5] END C=1.6631578947368424, class_weight=balanced, penalty=l1, random_state=42, solver=liblinear;, score=0.869 total time=   1.7s\n",
      "[CV 3/5] END C=1.6631578947368424, class_weight=balanced, penalty=l1, random_state=42, solver=liblinear;, score=0.872 total time=   1.3s\n",
      "[CV 4/5] END C=1.6631578947368424, class_weight=balanced, penalty=l1, random_state=42, solver=liblinear;, score=0.877 total time=   1.3s\n",
      "[CV 5/5] END C=1.6631578947368424, class_weight=balanced, penalty=l1, random_state=42, solver=liblinear;, score=0.870 total time=   1.1s\n",
      "Training model Naive Bayes\n",
      "\n"
     ]
    },
    {
     "name": "stderr",
     "output_type": "stream",
     "text": [
      "/mnt/c/Users/TOSHIBA/Desktop/Platzi/Master/data_modeling/brazilian-e-commerce/Data_analysis/venv/lib/python3.9/site-packages/sklearn/model_selection/_search.py:306: UserWarning: The total space of parameters 1 is smaller than n_iter=10. Running 1 iterations. For exhaustive searches, use GridSearchCV.\n",
      "  warnings.warn(\n"
     ]
    },
    {
     "name": "stdout",
     "output_type": "stream",
     "text": [
      "Fitting 5 folds for each of 1 candidates, totalling 5 fits\n",
      "[CV 3/5] END ..................................., score=0.835 total time=   4.7s\n",
      "[CV 4/5] END ..................................., score=0.835 total time=   4.7s\n",
      "[CV 2/5] END ..................................., score=0.843 total time=   4.8s\n",
      "[CV 1/5] END ..................................., score=0.835 total time=   5.1s\n",
      "[CV 5/5] END ..................................., score=0.832 total time=   1.3s\n"
     ]
    }
   ],
   "source": [
    "# Creating an object and training the classifiers\n",
    "clf_tool = BinaryClassifiersAnalysis()\n",
    "clf_tool.fit(set_classifiers, X_train, y_train, random_search=True, scoring='accuracy')"
   ]
  },
  {
   "cell_type": "code",
   "execution_count": 26,
   "metadata": {},
   "outputs": [
    {
     "name": "stdout",
     "output_type": "stream",
     "text": [
      "Evaluating model LogisticRegression\n",
      "\n"
     ]
    },
    {
     "name": "stderr",
     "output_type": "stream",
     "text": [
      "/tmp/ipykernel_701/740861747.py:245: FutureWarning: The frame.append method is deprecated and will be removed from pandas in a future version. Use pandas.concat instead.\n",
      "  model_performance = train_performance.append(test_performance)\n",
      "/tmp/ipykernel_701/740861747.py:246: FutureWarning: The frame.append method is deprecated and will be removed from pandas in a future version. Use pandas.concat instead.\n",
      "  df_performances = df_performances.append(model_performance)\n"
     ]
    },
    {
     "name": "stdout",
     "output_type": "stream",
     "text": [
      "Evaluating model Naive Bayes\n",
      "\n"
     ]
    },
    {
     "name": "stderr",
     "output_type": "stream",
     "text": [
      "/tmp/ipykernel_701/740861747.py:245: FutureWarning: The frame.append method is deprecated and will be removed from pandas in a future version. Use pandas.concat instead.\n",
      "  model_performance = train_performance.append(test_performance)\n",
      "/tmp/ipykernel_701/740861747.py:246: FutureWarning: The frame.append method is deprecated and will be removed from pandas in a future version. Use pandas.concat instead.\n",
      "  df_performances = df_performances.append(model_performance)\n"
     ]
    },
    {
     "data": {
      "text/html": [
       "<style type=\"text/css\">\n",
       "#T_98c94_row0_col2, #T_98c94_row0_col4, #T_98c94_row0_col5, #T_98c94_row0_col7, #T_98c94_row1_col6, #T_98c94_row3_col3 {\n",
       "  background-color: #08306b;\n",
       "  color: #f1f1f1;\n",
       "}\n",
       "#T_98c94_row0_col3, #T_98c94_row1_col7, #T_98c94_row2_col6, #T_98c94_row3_col2, #T_98c94_row3_col4, #T_98c94_row3_col5 {\n",
       "  background-color: #f7fbff;\n",
       "  color: #000000;\n",
       "}\n",
       "#T_98c94_row0_col6 {\n",
       "  background-color: #083370;\n",
       "  color: #f1f1f1;\n",
       "}\n",
       "#T_98c94_row1_col2, #T_98c94_row2_col7 {\n",
       "  background-color: #08326e;\n",
       "  color: #f1f1f1;\n",
       "}\n",
       "#T_98c94_row1_col3 {\n",
       "  background-color: #e7f1fa;\n",
       "  color: #000000;\n",
       "}\n",
       "#T_98c94_row1_col4 {\n",
       "  background-color: #083674;\n",
       "  color: #f1f1f1;\n",
       "}\n",
       "#T_98c94_row1_col5 {\n",
       "  background-color: #08316d;\n",
       "  color: #f1f1f1;\n",
       "}\n",
       "#T_98c94_row2_col2 {\n",
       "  background-color: #eff6fc;\n",
       "  color: #000000;\n",
       "}\n",
       "#T_98c94_row2_col3 {\n",
       "  background-color: #084387;\n",
       "  color: #f1f1f1;\n",
       "}\n",
       "#T_98c94_row2_col4 {\n",
       "  background-color: #f0f6fd;\n",
       "  color: #000000;\n",
       "}\n",
       "#T_98c94_row2_col5 {\n",
       "  background-color: #f2f7fd;\n",
       "  color: #000000;\n",
       "}\n",
       "#T_98c94_row3_col6 {\n",
       "  background-color: #ebf3fb;\n",
       "  color: #000000;\n",
       "}\n",
       "#T_98c94_row3_col7 {\n",
       "  background-color: #f5f9fe;\n",
       "  color: #000000;\n",
       "}\n",
       "</style>\n",
       "<table id=\"T_98c94\">\n",
       "  <thead>\n",
       "    <tr>\n",
       "      <th class=\"blank level0\" >&nbsp;</th>\n",
       "      <th id=\"T_98c94_level0_col0\" class=\"col_heading level0 col0\" >model</th>\n",
       "      <th id=\"T_98c94_level0_col1\" class=\"col_heading level0 col1\" >approach</th>\n",
       "      <th id=\"T_98c94_level0_col2\" class=\"col_heading level0 col2\" >acc</th>\n",
       "      <th id=\"T_98c94_level0_col3\" class=\"col_heading level0 col3\" >precision</th>\n",
       "      <th id=\"T_98c94_level0_col4\" class=\"col_heading level0 col4\" >recall</th>\n",
       "      <th id=\"T_98c94_level0_col5\" class=\"col_heading level0 col5\" >f1</th>\n",
       "      <th id=\"T_98c94_level0_col6\" class=\"col_heading level0 col6\" >auc</th>\n",
       "      <th id=\"T_98c94_level0_col7\" class=\"col_heading level0 col7\" >total_time</th>\n",
       "    </tr>\n",
       "  </thead>\n",
       "  <tbody>\n",
       "    <tr>\n",
       "      <th id=\"T_98c94_level0_row0\" class=\"row_heading level0 row0\" >0</th>\n",
       "      <td id=\"T_98c94_row0_col0\" class=\"data row0 col0\" >LogisticRegression</td>\n",
       "      <td id=\"T_98c94_row0_col1\" class=\"data row0 col1\" >Treino 5 K-folds</td>\n",
       "      <td id=\"T_98c94_row0_col2\" class=\"data row0 col2\" >0.886200</td>\n",
       "      <td id=\"T_98c94_row0_col3\" class=\"data row0 col3\" >0.922400</td>\n",
       "      <td id=\"T_98c94_row0_col4\" class=\"data row0 col4\" >0.922500</td>\n",
       "      <td id=\"T_98c94_row0_col5\" class=\"data row0 col5\" >0.922400</td>\n",
       "      <td id=\"T_98c94_row0_col6\" class=\"data row0 col6\" >0.943500</td>\n",
       "      <td id=\"T_98c94_row0_col7\" class=\"data row0 col7\" >21.677000</td>\n",
       "    </tr>\n",
       "    <tr>\n",
       "      <th id=\"T_98c94_level0_row1\" class=\"row_heading level0 row1\" >1</th>\n",
       "      <td id=\"T_98c94_row1_col0\" class=\"data row1 col0\" >LogisticRegression</td>\n",
       "      <td id=\"T_98c94_row1_col1\" class=\"data row1 col1\" >Teste</td>\n",
       "      <td id=\"T_98c94_row1_col2\" class=\"data row1 col2\" >0.885600</td>\n",
       "      <td id=\"T_98c94_row1_col3\" class=\"data row1 col3\" >0.924500</td>\n",
       "      <td id=\"T_98c94_row1_col4\" class=\"data row1 col4\" >0.919900</td>\n",
       "      <td id=\"T_98c94_row1_col5\" class=\"data row1 col5\" >0.922200</td>\n",
       "      <td id=\"T_98c94_row1_col6\" class=\"data row1 col6\" >0.944400</td>\n",
       "      <td id=\"T_98c94_row1_col7\" class=\"data row1 col7\" >0.092000</td>\n",
       "    </tr>\n",
       "    <tr>\n",
       "      <th id=\"T_98c94_level0_row2\" class=\"row_heading level0 row2\" >2</th>\n",
       "      <td id=\"T_98c94_row2_col0\" class=\"data row2 col0\" >Naive Bayes</td>\n",
       "      <td id=\"T_98c94_row2_col1\" class=\"data row2 col1\" >Treino 5 K-folds</td>\n",
       "      <td id=\"T_98c94_row2_col2\" class=\"data row2 col2\" >0.836100</td>\n",
       "      <td id=\"T_98c94_row2_col3\" class=\"data row2 col3\" >0.946100</td>\n",
       "      <td id=\"T_98c94_row2_col4\" class=\"data row2 col4\" >0.823600</td>\n",
       "      <td id=\"T_98c94_row2_col5\" class=\"data row2 col5\" >0.880500</td>\n",
       "      <td id=\"T_98c94_row2_col6\" class=\"data row2 col6\" >0.884300</td>\n",
       "      <td id=\"T_98c94_row2_col7\" class=\"data row2 col7\" >21.439000</td>\n",
       "    </tr>\n",
       "    <tr>\n",
       "      <th id=\"T_98c94_level0_row3\" class=\"row_heading level0 row3\" >3</th>\n",
       "      <td id=\"T_98c94_row3_col0\" class=\"data row3 col0\" >Naive Bayes</td>\n",
       "      <td id=\"T_98c94_row3_col1\" class=\"data row3 col1\" >Teste</td>\n",
       "      <td id=\"T_98c94_row3_col2\" class=\"data row3 col2\" >0.833900</td>\n",
       "      <td id=\"T_98c94_row3_col3\" class=\"data row3 col3\" >0.948000</td>\n",
       "      <td id=\"T_98c94_row3_col4\" class=\"data row3 col4\" >0.819900</td>\n",
       "      <td id=\"T_98c94_row3_col5\" class=\"data row3 col5\" >0.879300</td>\n",
       "      <td id=\"T_98c94_row3_col6\" class=\"data row3 col6\" >0.887900</td>\n",
       "      <td id=\"T_98c94_row3_col7\" class=\"data row3 col7\" >0.375000</td>\n",
       "    </tr>\n",
       "  </tbody>\n",
       "</table>\n"
      ],
      "text/plain": [
       "<pandas.io.formats.style.Styler at 0x7f96e6b18e80>"
      ]
     },
     "execution_count": 26,
     "metadata": {},
     "output_type": "execute_result"
    }
   ],
   "source": [
    "# Evaluating metrics\n",
    "df_performances = clf_tool.evaluate_performance(X_train, y_train, X_test, y_test, cv=5)\n",
    "df_performances.reset_index(drop=True).style.background_gradient(cmap='Blues')"
   ]
  },
  {
   "cell_type": "code",
   "execution_count": 27,
   "metadata": {},
   "outputs": [
    {
     "data": {
      "image/png": "[encoded data removed]",
      "text/plain": [
       "<Figure size 720x576 with 8 Axes>"
      ]
     },
     "metadata": {
      "needs_background": "light"
     },
     "output_type": "display_data"
    }
   ],
   "source": [
    "clf_tool.plot_confusion_matrix(classes=['Negative', 'Positive'])"
   ]
  },
  {
   "cell_type": "markdown",
   "metadata": {},
   "source": [
    "## Model Appliance"
   ]
  },
  {
   "cell_type": "code",
   "execution_count": 28,
   "metadata": {},
   "outputs": [],
   "source": [
    "# Defining a function to plot the sentiment of a given phrase\n",
    "def sentiment_analysis(text, pipeline, vectorizer, model):\n",
    "    \"\"\"\n",
    "    Args\n",
    "    -----------\n",
    "    text: text string / phrase / review comment to be analysed [type: string]\n",
    "    pipeline: text prep pipeline built for preparing the corpus [type: sklearn.Pipeline]\n",
    "    model: classification model trained to recognize positive and negative sentiment [type: model]\n",
    "    \"\"\"\n",
    "    \n",
    "    # Applying the pipeline\n",
    "    if type(text) is not list:\n",
    "        text = [text]\n",
    "    text_prep = pipeline.fit_transform(text)\n",
    "    matrix = vectorizer.transform(text_prep)\n",
    "    \n",
    "    # Predicting sentiment\n",
    "    pred = model.predict(matrix)\n",
    "    proba = model.predict_proba(matrix)\n",
    "    \n",
    "    # Plotting the sentiment and its score\n",
    "    fig, ax = plt.subplots(figsize=(5, 3))\n",
    "    if pred[0] == 1:\n",
    "        text = 'Positive'\n",
    "        class_proba = 100 * round(proba[0][1], 2)\n",
    "        color = 'seagreen'\n",
    "    else:\n",
    "        text = 'Negative'\n",
    "        class_proba = 100 * round(proba[0][0], 2)\n",
    "        color = 'crimson'\n",
    "    ax.text(0.5, 0.5, text, fontsize=50, ha='center', color=color)\n",
    "    ax.text(0.5, 0.20, str(class_proba) + '%', fontsize=14, ha='center')\n",
    "    ax.axis('off')\n",
    "    ax.set_title('Sentiment Analysis', fontsize=14)\n",
    "    plt.show()"
   ]
  },
  {
   "cell_type": "code",
   "execution_count": 29,
   "metadata": {},
   "outputs": [],
   "source": [
    "# Defining transformers for preparing the text input\n",
    "model = clf_tool.classifiers_info['LogisticRegression']['estimator']\n",
    "prod_pipeline = Pipeline([\n",
    "    ('regex', ApplyRegex(regex_transformers)),\n",
    "    ('stopwords', StopWordsRemoval(stopwords.words('portuguese'))),\n",
    "    ('stemming', StemmingProcess(RSLPStemmer()))\n",
    "])\n",
    "vectorizer = text_pipeline.named_steps['text_features'].vectorizer"
   ]
  },
  {
   "cell_type": "code",
   "execution_count": 30,
   "metadata": {},
   "outputs": [
    {
     "data": {
      "image/png": "[encoded data removed]",
      "text/plain": [
       "<Figure size 360x216 with 1 Axes>"
      ]
     },
     "metadata": {},
     "output_type": "display_data"
    }
   ],
   "source": [
    "comment = 'Péssimo !! 👎🏽👎🏽 Não compro nessa loja, a entrega atrasou e custou muito dinheiro! 😡'\n",
    "sentiment_analysis(comment, pipeline=prod_pipeline, vectorizer=vectorizer, model=model)"
   ]
  },
  {
   "cell_type": "code",
   "execution_count": 31,
   "metadata": {},
   "outputs": [
    {
     "data": {
      "image/png": "[encoded data removed]",
      "text/plain": [
       "<Figure size 360x216 with 1 Axes>"
      ]
     },
     "metadata": {},
     "output_type": "display_data"
    }
   ],
   "source": [
    "comment = 'Adorei e realmente cumpriu as expectativas. valor barato e Maravilhoso 💙'\n",
    "sentiment_analysis(comment, pipeline=prod_pipeline, vectorizer=vectorizer, model=model)"
   ]
  },
  {
   "cell_type": "code",
   "execution_count": 32,
   "metadata": {},
   "outputs": [
    {
     "data": {
      "image/png": "[encoded data removed]",
      "text/plain": [
       "<Figure size 360x216 with 1 Axes>"
      ]
     },
     "metadata": {},
     "output_type": "display_data"
    }
   ],
   "source": [
    "comment = 'Não sei gostei do produto. O custo foi barato mas veio com defeito. Se der sorte, vale a pena'\n",
    "sentiment_analysis(comment, pipeline=prod_pipeline, vectorizer=vectorizer, model=model)"
   ]
  },
  {
   "cell_type": "markdown",
   "metadata": {},
   "source": [
    "## Apply NLP model to External data"
   ]
  },
  {
   "cell_type": "markdown",
   "metadata": {},
   "source": [
    "### Custom Transformers"
   ]
  },
  {
   "cell_type": "code",
   "execution_count": 33,
   "metadata": {},
   "outputs": [],
   "source": [
    "\"\"\"\n",
    "This script is responsible for allocating custom function and classes to be used on a day to day work in python.\n",
    "The applications can be to simple optimized data reading or a custom transformer put into a ML pipeline.\n",
    "\n",
    "--- SUMMARY ---\n",
    "\n",
    "1. Custom Functions\n",
    "2. Custom Pipelines Transformers\n",
    "    2.1 Pre Processing Pipelines\n",
    "    2.2 Processing Pipelines\n",
    "\n",
    "\"\"\"\n",
    "\n",
    "# Importing libraries\n",
    "import pandas as pd\n",
    "import numpy as np\n",
    "from sklearn.base import BaseEstimator, TransformerMixin\n",
    "from sklearn.model_selection import train_test_split\n",
    "\n",
    "\n",
    "\"\"\"\n",
    "-----------------------------------\n",
    "------- 1. CUSTOM FUNCTIONS -------\n",
    "-----------------------------------\n",
    "\"\"\"\n",
    "\n",
    "\n",
    "def import_data(path, sep=',', optimized=True, n_lines=50, encoding='utf-8', usecols=None, verbose=True):\n",
    "    \"\"\"\n",
    "    This functions applies a csv reading in an optimized way, converting data types (float64 to float32 and\n",
    "    int 64 to int32), reducing script memory usage.\n",
    "\n",
    "    Parameters\n",
    "    ----------\n",
    "    :param path: path reference for importing the data [type: string]\n",
    "    :param sep: separator parameter for read_csv() method [type: string, default: ',']\n",
    "    :param optimized: boolean flag for reading data in an optimized way [type: bool, default: True]\n",
    "    :param n_lines: number of lines read during the data type optimization [type: int, default: 50]\n",
    "    :param encoding: encoding param for read_csv() method [type: string, default: 'utf-8']\n",
    "    :param verbose: the verbose arg allow communication between steps [type: bool, default: True]\n",
    "    :param usecols: columns to read - set None to read all the columns [type: list, default: None]\n",
    "\n",
    "    Return\n",
    "    ------\n",
    "    :return: df: file after the preparation steps [type: pd.DataFrame]\n",
    "\n",
    "    Application\n",
    "    -----------\n",
    "    # Reading the data and applying a data type conversion for optimizing the memory usage\n",
    "    df = import_data(filepath, optimized=True, n_lines=100)\n",
    "    \"\"\"\n",
    "\n",
    "    # Validating the optimized flag for optimizing memory usage\n",
    "    if optimized:\n",
    "        # Reading only the first rows of the data\n",
    "        df_raw = pd.read_csv(path, sep=sep, nrows=n_lines, encoding=encoding, usecols=usecols)\n",
    "        start_mem = df_raw.memory_usage().sum() / 1024 ** 2\n",
    "\n",
    "        # Columns were the optimization is applicable\n",
    "        float64_cols = [col for col, dtype in df_raw.dtypes.items() if dtype == 'float64']\n",
    "        int64_cols = [col for col, dtype in df_raw.dtypes.items() if dtype == 'int64']\n",
    "        total_opt = len(float64_cols) + len(int64_cols)\n",
    "        if verbose:\n",
    "            print(f'This dataset has {df_raw.shape[1]} columns, which {total_opt} is/are applicable to optimization.\\n')\n",
    "\n",
    "        # Optimizing data types: float64 to float32\n",
    "        for col in float64_cols:\n",
    "            df_raw[col] = df_raw[col].astype('float32')\n",
    "\n",
    "        # Optimizing data types: int64 to int32\n",
    "        for col in int64_cols:\n",
    "            df_raw[col] = df_raw[col].astype('int32')\n",
    "\n",
    "        # Looking at memory reduction\n",
    "        if verbose:\n",
    "            print('----------------------------------------------------')\n",
    "            print(f'Memory usage ({n_lines} lines): {start_mem:.4f} MB')\n",
    "            end_mem = df_raw.memory_usage().sum() / 1024 ** 2\n",
    "            print(f'Memory usage after optimization ({n_lines} lines): {end_mem:.4f} MB')\n",
    "            print('----------------------------------------------------')\n",
    "            mem_reduction = 100 * (1 - (end_mem / start_mem))\n",
    "            print(f'\\nReduction of {mem_reduction:.2f}% on memory usage\\n')\n",
    "\n",
    "        # Creating an object with new dtypes\n",
    "        dtypes = df_raw.dtypes\n",
    "        col_names = dtypes.index\n",
    "        types = [dtype.name for dtype in dtypes.values]\n",
    "        column_types = dict(zip(col_names, types))\n",
    "\n",
    "        # Trying to read the dataset with new types\n",
    "        try:\n",
    "            return pd.read_csv(path, sep=sep, dtype=column_types, encoding=encoding, usecols=usecols)\n",
    "        except ValueError as e1:\n",
    "            # Error cach during data reading with new data types\n",
    "            print(f'ValueError on data reading: {e1}')\n",
    "            print('The dataset will be read without optimization types.')\n",
    "            return pd.read_csv(path, sep=sep, encoding=encoding, usecols=usecols)\n",
    "    else:\n",
    "        # Reading the data without optimization\n",
    "        return pd.read_csv(path, sep=sep, encoding=encoding, usecols=usecols)\n",
    "\n",
    "\n",
    "def split_cat_num_data(df):\n",
    "    \"\"\"\n",
    "    This functions receives a DataFrame object and extracts numerical and categorical features from it\n",
    "\n",
    "    Parameters\n",
    "    ----------\n",
    "    :param df: DataFrame object where feature split would be extracted [type: pd.DataFrame]\n",
    "\n",
    "    Return\n",
    "    ------\n",
    "    :return: num_attribs, cat_attribs: lists with numerical and categorical features [type: list]\n",
    "\n",
    "    Application\n",
    "    -----------\n",
    "    # Extracting numerical and categorical features for a given DataFrame\n",
    "    num_cols, cat_cols = split_cat_num_data(df)\n",
    "    \"\"\"\n",
    "\n",
    "    # Splitting data attributes by data type\n",
    "    num_attribs = [col for col, dtype in df.dtypes.items() if dtype != 'object']\n",
    "    cat_attribs = [col for col, dtype in df.dtypes.items() if dtype == 'object']\n",
    "\n",
    "    return num_attribs, cat_attribs\n",
    "\n",
    "\n",
    "def calc_working_days(date_series1, date_series2, convert=True):\n",
    "    \"\"\"\n",
    "    This functions receives two date series as args and calculates the working days between each of its rows.\n",
    "\n",
    "    Parameters\n",
    "    ----------\n",
    "    :param date_series1: first date series to be used on working days calculation [type: pd.Series]\n",
    "    :param date_series2: second date series to subtract the first one [type: pd.Series]\n",
    "    :param convert: flag that guides the series conversions in datetime objects [type: bool, default: True]\n",
    "\n",
    "    Return\n",
    "    ------\n",
    "    :return: wd_list: list with working days calculations between two date series\n",
    "\n",
    "    Application\n",
    "    -----------\n",
    "    # Calculating the working days between two date series\n",
    "    working_days = calc_working_days(df['purchase_date'], df['delivered_date'], convert=True)\n",
    "    \"\"\"\n",
    "\n",
    "    # Auxiliar function for threating exceptions during the np.busday_count() function\n",
    "    def handle_working_day_calc(d1, d2):\n",
    "        try:\n",
    "            date_diff = np.busday_count(d1, d2)\n",
    "            return date_diff\n",
    "        except:\n",
    "            return np.NaN\n",
    "\n",
    "    # Applying conversion on series in datetime data\n",
    "    if convert:\n",
    "        date_series1 = pd.to_datetime(date_series1).values.astype('datetime64[D]')\n",
    "        date_series2 = pd.to_datetime(date_series2).values.astype('datetime64[D]')\n",
    "\n",
    "    # Building a list with working days calculations between the two dates\n",
    "    wd_list = [handle_working_day_calc(d1, d2) for d1, d2 in zip(date_series1, date_series2)]\n",
    "\n",
    "    return wd_list\n",
    "\n",
    "\n",
    "def indices_of_top_k(arr, k):\n",
    "    \"\"\"\n",
    "    This function selects the top k entries in an array based on its indices\n",
    "\n",
    "    Parameters\n",
    "    ----------\n",
    "    :param arr: numpy array (in practice we will feed it with model feature importance array) [type: np.array]\n",
    "    :param k: top features integer definition [type: int]\n",
    "\n",
    "    Return\n",
    "    ------\n",
    "    :return: sorted array with filtered input array based on k entries\n",
    "\n",
    "    Application\n",
    "    -----------\n",
    "\n",
    "    \"\"\"\n",
    "    return np.sort(np.argpartition(np.array(arr), -k)[-k:])\n",
    "\n",
    "\n",
    "\"\"\"\n",
    "-----------------------------------\n",
    "----- 2. CUSTOM TRANSFORMERS ------\n",
    "   2.1 Pre Processing Pipelines\n",
    "-----------------------------------\n",
    "\"\"\"\n",
    "\n",
    "\n",
    "class ColsFormatting(BaseEstimator, TransformerMixin):\n",
    "    \"\"\"\n",
    "    This class applies lower(), strip() and replace() method on a pandas DataFrame object.\n",
    "    It's not necessary to pass anything as args.\n",
    "\n",
    "    Return\n",
    "    ------\n",
    "    :return: df: pandas DataFrame after cols formatting [type: pd.DataFrame]\n",
    "\n",
    "    Application\n",
    "    -----------\n",
    "    cols_formatter = ColsFormatting()\n",
    "    df_custom = cols_formatter.fit_transform(df_old)\n",
    "    \"\"\"\n",
    "\n",
    "    def fit(self, df, y=None):\n",
    "        return self\n",
    "\n",
    "    def transform(self, df, y=None):\n",
    "        df.columns = [col.lower().strip().replace(' ', '_') for col in df.columns]\n",
    "        return df\n",
    "\n",
    "\n",
    "class FeatureSelection(BaseEstimator, TransformerMixin):\n",
    "    \"\"\"\n",
    "    This class filters a dataset based on a set of features passed as argument.\n",
    "\n",
    "    Parameters\n",
    "    ----------\n",
    "    :param features: set of features to be selected on a DataFrame [type: list]\n",
    "\n",
    "    Return\n",
    "    ------\n",
    "    :return: df: pandas DataFrame after filtering attributes [type: pd.DataFrame]\n",
    "\n",
    "    Application\n",
    "    -----------\n",
    "    selector = FeatureSelection(features=model_features)\n",
    "    df_filtered = selector.fit_transform(df)\n",
    "    \"\"\"\n",
    "\n",
    "    def __init__(self, features):\n",
    "        self.features = features\n",
    "\n",
    "    def fit(self, df, y=None):\n",
    "        return self\n",
    "\n",
    "    def transform(self, df, y=None):\n",
    "        return df[self.features]\n",
    "\n",
    "\n",
    "class TargetDefinition(BaseEstimator, TransformerMixin):\n",
    "    \"\"\"\n",
    "    This class transform a categorical target column into a numerical one base on a positive_class\n",
    "\n",
    "    Parameters\n",
    "    ----------\n",
    "    :param target_col: reference for the target column on the dataset [type: string]\n",
    "    :param pos_class: entry reference for positive class in the new target [type: string]\n",
    "    :param new_target_name: name of the new column created after the target mapping [type: string, default: 'target]\n",
    "\n",
    "    Return\n",
    "    ------\n",
    "    :return: df: pandas DataFrame after target mapping [pd.DataFrame]\n",
    "\n",
    "    Application\n",
    "    -----------\n",
    "    target_prep = TargetDefinition(target_col='class_target', pos_class='Some Category', new_target_name='target')\n",
    "    df = target_prep.fit_transform(df)\n",
    "    \"\"\"\n",
    "\n",
    "    def __init__(self, target_col, pos_class, new_target_name='target'):\n",
    "        self.target_col = target_col\n",
    "        self.pos_class = pos_class\n",
    "        self.new_target_name = new_target_name\n",
    "\n",
    "        # Sanity check: new_target_name may differ from target_col\n",
    "        if self.target_col == self.new_target_name:\n",
    "            print('[WARNING]')\n",
    "            print(f'New target column named {self.new_target_name} must differ from raw one named {self.target_col}')\n",
    "\n",
    "    def fit(self, df, y=None):\n",
    "        return self\n",
    "\n",
    "    def transform(self, df, y=None):\n",
    "        # Applying the new target rule based on positive class\n",
    "        df[self.new_target_name] = df[self.target_col].apply(lambda x: 1 if x == self.pos_class else 0)\n",
    "\n",
    "        # Dropping the old target column\n",
    "        return df.drop(self.target_col, axis=1)\n",
    "\n",
    "\n",
    "class DropDuplicates(BaseEstimator, TransformerMixin):\n",
    "    \"\"\"\n",
    "    This class filters a dataset based on a set of features passed as argument.\n",
    "    It's not necessary to pass anything as args.\n",
    "\n",
    "    Return\n",
    "    ------\n",
    "    :return: df: pandas DataFrame dropping duplicates [type: pd.DataFrame]\n",
    "\n",
    "    Application\n",
    "    -----------\n",
    "    dup_dropper = DropDuplicates()\n",
    "    df_nodup = dup_dropper.fit_transform(df)\n",
    "    \"\"\"\n",
    "\n",
    "    def fit(self, df, y=None):\n",
    "        return self\n",
    "\n",
    "    def transform(self, df, y=None):\n",
    "        return df.drop_duplicates()\n",
    "\n",
    "\n",
    "class SplitData(BaseEstimator, TransformerMixin):\n",
    "    \"\"\"\n",
    "    This class helps splitting data into training and testing and it can be used at the end of a pre_processing pipe.\n",
    "    In practice, the class applies the train_test_split() function from sklearn.model_selection module.\n",
    "\n",
    "    Parameters\n",
    "    ----------\n",
    "    :param target: reference of the target feature on the dataset [type: string]\n",
    "    :param test_size: test_size param of train_test_split() function [type: float, default: .20]\n",
    "    :param random_state: random_state param of train_test_split() function [type: int, default: 42]\n",
    "\n",
    "    X_: attribute associated with the features dataset before splitting [1]\n",
    "    y_: attribute associated with the target array before splitting [1]\n",
    "        [1] The X_ and y_ attributes are initialized right before splitting and can be retrieved later in the script.\n",
    "\n",
    "    Return\n",
    "    ------\n",
    "    :return: X_train: DataFrame for training data [type: pd.DataFrame]\n",
    "             X_test: DataFrame for testing data [type: pd.DataFrame]\n",
    "             y_train: array for training target data [type: np.array]\n",
    "             y_test: array for testing target data [type: np.array]\n",
    "\n",
    "    Application\n",
    "    -----------\n",
    "    splitter = SplitData(target='target')\n",
    "    X_train, X_test, y_train, y_test = splitter.fit_transform(df)\n",
    "    \"\"\"\n",
    "\n",
    "    def __init__(self, target, test_size=.20, random_state=42):\n",
    "        self.target = target\n",
    "        self.test_size = test_size\n",
    "        self.random_state = random_state\n",
    "\n",
    "    def fit(self, df, y=None):\n",
    "        return self\n",
    "\n",
    "    def transform(self, df, y=None):\n",
    "        # Returning X and y attributes (those can be retrieved in the future)\n",
    "        self.X_ = df.drop(self.target, axis=1)\n",
    "        self.y_ = df[self.target].values\n",
    "\n",
    "        return train_test_split(self.X_, self.y_, test_size=self.test_size, random_state=self.random_state)\n",
    "\n",
    "\n",
    "\"\"\"\n",
    "-----------------------------------\n",
    "----- 2. CUSTOM TRANSFORMERS ------\n",
    "    2.2 Preparation Pipelines\n",
    "-----------------------------------\n",
    "\"\"\"\n",
    "\n",
    "\n",
    "class DummiesEncoding(BaseEstimator, TransformerMixin):\n",
    "    \"\"\"\n",
    "    This class applies the encoding on categorical data using pandas get_dummies() method. It also retrieves the\n",
    "    features after the encoding so it can be used further on the script\n",
    "\n",
    "    Parameters\n",
    "    ----------\n",
    "    :param dummy_na: flag that guides the encoding of NaN values on categorical features [type: bool, default: True]\n",
    "\n",
    "    Return\n",
    "    ------\n",
    "    :return: X_dum: Dataframe object (with categorical features) after encoding [type: pd.DataFrame]\n",
    "\n",
    "    Application\n",
    "    -----------\n",
    "    encoder = DummiesEncoding(dummy_na=True)\n",
    "    X_encoded = encoder.fit_transform(df[cat_features])\n",
    "    \"\"\"\n",
    "\n",
    "    def __init__(self, dummy_na=True):\n",
    "        self.dummy_na = dummy_na\n",
    "\n",
    "    def fit(self, X, y=None):\n",
    "        return self\n",
    "\n",
    "    def transform(self, X, y=None):\n",
    "\n",
    "        # Saving features into class attribute\n",
    "        self.cat_features_ori = list(X.columns)\n",
    "\n",
    "        # Applying encoding with pandas get_dummies()\n",
    "        X_cat_dum = pd.get_dummies(X, dummy_na=self.dummy_na)\n",
    "\n",
    "        # Joining datasets and dropping original columns before encoding\n",
    "        X_dum = X.join(X_cat_dum)\n",
    "        X_dum = X_dum.drop(self.cat_features_ori, axis=1)\n",
    "\n",
    "        # Retrieving features after encoding\n",
    "        self.features_after_encoding = list(X_dum.columns)\n",
    "\n",
    "        return X_dum\n",
    "\n",
    "\n",
    "class FillNullData(BaseEstimator, TransformerMixin):\n",
    "    \"\"\"\n",
    "    This class fills null data. It's possible to select just some attributes to be filled with different values\n",
    "\n",
    "    Parameters\n",
    "    ----------\n",
    "    :param cols_to_fill: columns to be filled. Leave None if all the columns will be filled [type: list, default: None]\n",
    "    :param value_fill: value to be filled on the columns [type: int, default: 0]\n",
    "\n",
    "    Return\n",
    "    ------\n",
    "    :return: X: DataFrame object with NaN data filled [type: pd.DataFrame]\n",
    "\n",
    "    Application\n",
    "    -----------\n",
    "    filler = FillNullData(cols_to_fill=['colA', 'colB', 'colC'], value_fill=-999)\n",
    "    X_filled = filler.fit_transform(X)\n",
    "    \"\"\"\n",
    "\n",
    "    def __init__(self, cols_to_fill=None, value_fill=0):\n",
    "        self.cols_to_fill = cols_to_fill\n",
    "        self.value_fill = value_fill\n",
    "\n",
    "    def fit(self, X, y=None):\n",
    "        return self\n",
    "\n",
    "    def transform(self, X, y=None):\n",
    "        # Filling null data according to passed args\n",
    "        if self.cols_to_fill is not None:\n",
    "            X[self.cols_to_fill] = X[self.cols_to_fill].fillna(value=self.value_fill)\n",
    "            return X\n",
    "        else:\n",
    "            return X.fillna(value=self.value_fill)\n",
    "\n",
    "\n",
    "class DropNullData(BaseEstimator, TransformerMixin):\n",
    "    \"\"\"\n",
    "    This class drops null data. It's possible to select just some attributes to be filled with different values\n",
    "\n",
    "    Parameters\n",
    "    ----------\n",
    "    :param cols_dropna: columns to be filled. Leave None if all the columns will be filled [type: list, default: None]\n",
    "\n",
    "    Return\n",
    "    ------\n",
    "    :return: X: DataFrame object with NaN data filled [type: pd.DataFrame]\n",
    "\n",
    "    Application\n",
    "    -----------\n",
    "    null_dropper = DropNulldata(cols_to_fill=['colA', 'colB', 'colC'], value_fill=-999)\n",
    "    X = null_dropper.fit_transform(X)\n",
    "    \"\"\"\n",
    "\n",
    "    def __init__(self, cols_dropna=None):\n",
    "        self.cols_dropna = cols_dropna\n",
    "\n",
    "    def fit(self, X, y=None):\n",
    "        return self\n",
    "\n",
    "    def transform(self, X, y=None):\n",
    "        # Filling null data according to passed args\n",
    "        if self.cols_dropna is not None:\n",
    "            X[self.cols_dropna] = X[self.cols_dropna].dropna()\n",
    "            return X\n",
    "        else:\n",
    "            return X.dropna()\n",
    "\n",
    "\n",
    "class TopFeatureSelector(BaseEstimator, TransformerMixin):\n",
    "    \"\"\"\n",
    "    This class selects the top k most important features from a trained model\n",
    "\n",
    "    Parameters\n",
    "    ----------\n",
    "    :param feature_importance: array with feature importance given by a trained model [np.array]\n",
    "    :param k: integer that defines the top features to be filtered from the array [type: int]\n",
    "\n",
    "    Return\n",
    "    ------\n",
    "    :return: pandas DataFrame object filtered by the k important features [pd.DataFrame]\n",
    "\n",
    "    Application\n",
    "    -----------\n",
    "    feature_selector = TopFeatureSelector(feature_importance, k=10)\n",
    "    X_selected = feature_selector.fit_transform(X)\n",
    "    \"\"\"\n",
    "\n",
    "    def __init__(self, feature_importance, k):\n",
    "        self.feature_importance = feature_importance\n",
    "        self.k = k\n",
    "\n",
    "    def fit(self, X, y=None):\n",
    "        return self\n",
    "\n",
    "    def transform(self, X, y=None):\n",
    "        return X[:, indices_of_top_k(self.feature_importance, self.k)]"
   ]
  },
  {
   "cell_type": "markdown",
   "metadata": {},
   "source": [
    "### Load Data"
   ]
  },
  {
   "cell_type": "code",
   "execution_count": 34,
   "metadata": {},
   "outputs": [
    {
     "name": "stdout",
     "output_type": "stream",
     "text": [
      "This dataset has 3 columns, which 2 is/are applicable to optimization.\n",
      "\n",
      "----------------------------------------------------\n",
      "Memory usage (50 lines): 0.0013 MB\n",
      "Memory usage after optimization (50 lines): 0.0009 MB\n",
      "----------------------------------------------------\n",
      "\n",
      "Reduction of 30.12% on memory usage\n",
      "\n",
      "Dataset Shape:  (61572, 2)\n"
     ]
    }
   ],
   "source": [
    "df_ml = import_data('datasets/external_data.csv')\n",
    "df_ml.drop('Unnamed: 0', axis=1, inplace=True)\n",
    "df_ml.rename(columns= {'comment':'review_comment_message', 'score':'review_score'}, inplace=True)\n",
    "print('Dataset Shape: ', df_ml.shape)"
   ]
  },
  {
   "cell_type": "code",
   "execution_count": 35,
   "metadata": {},
   "outputs": [],
   "source": [
    "comment = ['Não sei gostei do produto. O custo foi barato mas veio com defeito. Se der sorte, vale a pena']"
   ]
  },
  {
   "cell_type": "code",
   "execution_count": 36,
   "metadata": {},
   "outputs": [],
   "source": [
    "text_prep = prod_pipeline.fit_transform(comment)\n",
    "matrix = vectorizer.transform(text_prep)"
   ]
  },
  {
   "cell_type": "code",
   "execution_count": 37,
   "metadata": {},
   "outputs": [
    {
     "data": {
      "image/png": "[encoded data removed]",
      "text/plain": [
       "<Figure size 360x216 with 1 Axes>"
      ]
     },
     "metadata": {},
     "output_type": "display_data"
    }
   ],
   "source": [
    "sentiment_analysis(comment, prod_pipeline, vectorizer, model)"
   ]
  },
  {
   "cell_type": "code",
   "execution_count": 38,
   "metadata": {},
   "outputs": [],
   "source": [
    "pred = model.predict_proba(matrix)"
   ]
  },
  {
   "cell_type": "code",
   "execution_count": 39,
   "metadata": {},
   "outputs": [
    {
     "data": {
      "text/plain": [
       "array([[0.26678763, 0.73321237]])"
      ]
     },
     "execution_count": 39,
     "metadata": {},
     "output_type": "execute_result"
    }
   ],
   "source": [
    "pred"
   ]
  },
  {
   "cell_type": "code",
   "execution_count": 40,
   "metadata": {},
   "outputs": [
    {
     "data": {
      "image/png": "[encoded data removed]",
      "text/plain": [
       "<Figure size 360x216 with 1 Axes>"
      ]
     },
     "metadata": {},
     "output_type": "display_data"
    }
   ],
   "source": [
    "sentiment_analysis(comment,  pipeline=prod_pipeline, vectorizer=vectorizer, model=model)"
   ]
  },
  {
   "cell_type": "markdown",
   "metadata": {},
   "source": [
    "### General Sentiment Analysis"
   ]
  },
  {
   "cell_type": "code",
   "execution_count": 41,
   "metadata": {},
   "outputs": [],
   "source": [
    "import json\n",
    "\n",
    "with open('../Scraping/categories/brazil.json', 'r') as f:\n",
    "    category = json.load(f)\n",
    "    f.close()\n",
    "\n",
    "files = [key for key in category]"
   ]
  },
  {
   "cell_type": "code",
   "execution_count": 42,
   "metadata": {},
   "outputs": [],
   "source": [
    "df_external_categories = pd.DataFrame()\n",
    "\n",
    "for file in files:\n",
    "    path = '../Scraping/External_data/{}.csv'.format(file)\n",
    "    rev_cat = pd.read_csv(path)\n",
    "    rev_cat['category'] = '{}'.format(file)\n",
    "    df_external_categories = pd.concat([df_external_categories, rev_cat])\n",
    "\n",
    "df_external_categories.reset_index(inplace=True)\n",
    "df_external_categories.drop(['Unnamed: 0', 'index'], axis=1, inplace=True)"
   ]
  },
  {
   "cell_type": "code",
   "execution_count": 64,
   "metadata": {},
   "outputs": [
    {
     "data": {
      "text/plain": [
       "11888"
      ]
     },
     "execution_count": 64,
     "metadata": {},
     "output_type": "execute_result"
    }
   ],
   "source": [
    "len(df_external_categories)"
   ]
  },
  {
   "cell_type": "code",
   "execution_count": 43,
   "metadata": {},
   "outputs": [],
   "source": [
    "df_external_categories.rename(columns= {'comment':'review_comment_message', 'score':'review_score'}, inplace=True)"
   ]
  },
  {
   "cell_type": "code",
   "execution_count": 44,
   "metadata": {},
   "outputs": [
    {
     "name": "stdout",
     "output_type": "stream",
     "text": [
      "key 2427: error expected string or bytes-like object\n",
      "key 2428: error expected string or bytes-like object\n",
      "key 7393: error expected string or bytes-like object\n",
      "key 18777: error expected string or bytes-like object\n",
      "key 20837: error expected string or bytes-like object\n",
      "key 21998: error expected string or bytes-like object\n"
     ]
    }
   ],
   "source": [
    "sent_anls = []\n",
    "\n",
    "for i in range(len(df_external_categories)):\n",
    "    text = [df_external_categories['review_comment_message'][i]]\n",
    "    try:\n",
    "        comment_prep = prod_pipeline.fit_transform(text)\n",
    "        matrix = vectorizer.transform(comment_prep)\n",
    "        prediction = model.predict(matrix)\n",
    "        sent_anls.append(prediction[0])\n",
    "    \n",
    "    except Exception as e:\n",
    "        print(f\"key {i}: error {e}\")\n",
    "        "
   ]
  },
  {
   "cell_type": "code",
   "execution_count": 45,
   "metadata": {},
   "outputs": [],
   "source": [
    "sent_dict = {\n",
    "    'sentiment': sent_anls,\n",
    "    'sentiment_label': [('positive' if x ==1 else \"negative\") for x in sent_anls]\n",
    "}\n",
    "\n",
    "sent_df = pd.DataFrame(sent_dict)"
   ]
  },
  {
   "cell_type": "code",
   "execution_count": 46,
   "metadata": {},
   "outputs": [
    {
     "data": {
      "text/html": [
       "<div>\n",
       "<style scoped>\n",
       "    .dataframe tbody tr th:only-of-type {\n",
       "        vertical-align: middle;\n",
       "    }\n",
       "\n",
       "    .dataframe tbody tr th {\n",
       "        vertical-align: top;\n",
       "    }\n",
       "\n",
       "    .dataframe thead th {\n",
       "        text-align: right;\n",
       "    }\n",
       "</style>\n",
       "<table border=\"1\" class=\"dataframe\">\n",
       "  <thead>\n",
       "    <tr style=\"text-align: right;\">\n",
       "      <th></th>\n",
       "      <th>review_score</th>\n",
       "      <th>review_comment_message</th>\n",
       "      <th>category</th>\n",
       "      <th>sentiment</th>\n",
       "      <th>sentiment_label</th>\n",
       "    </tr>\n",
       "  </thead>\n",
       "  <tbody>\n",
       "    <tr>\n",
       "      <th>0</th>\n",
       "      <td>5</td>\n",
       "      <td>Ótimo produto. Ele me surpreendeu de forma pos...</td>\n",
       "      <td>cama_mesa_banho</td>\n",
       "      <td>1.0</td>\n",
       "      <td>positive</td>\n",
       "    </tr>\n",
       "    <tr>\n",
       "      <th>1</th>\n",
       "      <td>5</td>\n",
       "      <td>Exatamente como o descrito. De material simple...</td>\n",
       "      <td>cama_mesa_banho</td>\n",
       "      <td>1.0</td>\n",
       "      <td>positive</td>\n",
       "    </tr>\n",
       "    <tr>\n",
       "      <th>2</th>\n",
       "      <td>1</td>\n",
       "      <td>Queria dar nenhuma estrela, é  horrível, feio,...</td>\n",
       "      <td>cama_mesa_banho</td>\n",
       "      <td>0.0</td>\n",
       "      <td>negative</td>\n",
       "    </tr>\n",
       "    <tr>\n",
       "      <th>3</th>\n",
       "      <td>4</td>\n",
       "      <td>Na minha cortina veio faltando uma das argolas...</td>\n",
       "      <td>cama_mesa_banho</td>\n",
       "      <td>1.0</td>\n",
       "      <td>positive</td>\n",
       "    </tr>\n",
       "    <tr>\n",
       "      <th>4</th>\n",
       "      <td>3</td>\n",
       "      <td>O produto quando aberto para vedar a entrada d...</td>\n",
       "      <td>cama_mesa_banho</td>\n",
       "      <td>1.0</td>\n",
       "      <td>positive</td>\n",
       "    </tr>\n",
       "  </tbody>\n",
       "</table>\n",
       "</div>"
      ],
      "text/plain": [
       "   review_score                             review_comment_message  \\\n",
       "0             5  Ótimo produto. Ele me surpreendeu de forma pos...   \n",
       "1             5  Exatamente como o descrito. De material simple...   \n",
       "2             1  Queria dar nenhuma estrela, é  horrível, feio,...   \n",
       "3             4  Na minha cortina veio faltando uma das argolas...   \n",
       "4             3  O produto quando aberto para vedar a entrada d...   \n",
       "\n",
       "          category  sentiment sentiment_label  \n",
       "0  cama_mesa_banho        1.0        positive  \n",
       "1  cama_mesa_banho        1.0        positive  \n",
       "2  cama_mesa_banho        0.0        negative  \n",
       "3  cama_mesa_banho        1.0        positive  \n",
       "4  cama_mesa_banho        1.0        positive  "
      ]
     },
     "execution_count": 46,
     "metadata": {},
     "output_type": "execute_result"
    }
   ],
   "source": [
    "df_new_reviews_categories = pd.concat([df_external_categories, sent_df], axis=1)\n",
    "df_new_reviews_categories.head()"
   ]
  },
  {
   "cell_type": "code",
   "execution_count": 47,
   "metadata": {},
   "outputs": [
    {
     "data": {
      "image/png": "[encoded data removed]",
      "text/plain": [
       "<Figure size 504x504 with 1 Axes>"
      ]
     },
     "metadata": {},
     "output_type": "display_data"
    }
   ],
   "source": [
    "fig, ax = plt.subplots(figsize=(7, 7))\n",
    "donut_plot(sent_df.query('sentiment_label in (\"positive\", \"negative\")'), 'sentiment_label', \n",
    "           label_names=sent_df.query('sentiment_label in (\"positive\", \"negative\")')['sentiment_label'].value_counts().index,\n",
    "           ax=ax, colors=['darkslateblue', 'crimson'])\n",
    "ax.set_title(\"General Sentiment Analysis\")\n",
    "plt.show()"
   ]
  },
  {
   "cell_type": "markdown",
   "metadata": {},
   "source": [
    "### Category Analysis"
   ]
  },
  {
   "cell_type": "markdown",
   "metadata": {},
   "source": [
    "### Functions"
   ]
  },
  {
   "cell_type": "code",
   "execution_count": 48,
   "metadata": {},
   "outputs": [],
   "source": [
    "TARGET_COL = 'target'\n",
    "\n",
    "class ColumnMapping(BaseEstimator, TransformerMixin):\n",
    "    \"\"\"\n",
    "    This class applies the map() function into a DataFrame for transforming a columns given a mapping dictionary\n",
    "\n",
    "    Parameters\n",
    "    ----------\n",
    "    :param old_col_name: name of the columns where mapping will be applied [type: string]\n",
    "    :param mapping_dict: python dictionary with key/value mapping [type: dict]\n",
    "    :param new_col_name: name of the new column resulted by mapping [type: string, default: 'target]\n",
    "    :param drop: flag that guides the dropping of the old_target_name column [type: bool, default: True]\n",
    "\n",
    "    Returns\n",
    "    -------\n",
    "    :return X: pandas DataFrame object after mapping application [type: pd.DataFrame]\n",
    "\n",
    "    Application\n",
    "    -----------\n",
    "    # Transforming a DataFrame column given a mapping dictionary\n",
    "    mapper = ColumnMapping(old_col_name='col_1', mapping_dict=dictionary, new_col_name='col_2', drop=True)\n",
    "    df_mapped = mapper.fit_transform(df)\n",
    "    \"\"\"\n",
    "\n",
    "    def __init__(self, old_col_name, mapping_dict, new_col_name='target', drop=True):\n",
    "        self.old_col_name = old_col_name\n",
    "        self.mapping_dict = mapping_dict\n",
    "        self.new_col_name = new_col_name\n",
    "        self.drop = drop\n",
    "\n",
    "    def fit(self, X, y=None):\n",
    "        return self\n",
    "\n",
    "    def transform(self, X, y=None):\n",
    "        # Applying mapping\n",
    "        X[self.new_col_name] = X[self.old_col_name].map(self.mapping_dict)\n",
    "\n",
    "        # Dropping the old columns (if applicable)\n",
    "        if self.drop:\n",
    "            X.drop(self.old_col_name, axis=1, inplace=True)\n",
    "\n",
    "        return X\n",
    "\n",
    "def read_prep_data(path):\n",
    "    \n",
    "    df = import_data(path, verbose=False)\n",
    "    df.drop('Unnamed: 0', axis=1, inplace=True)\n",
    "    df.rename(columns= {'comment':'review_comment_message', 'score':'review_score'}, inplace=True)    \n",
    "    df_prep = initial_prep_pipeline.fit_transform(df)\n",
    "    df_prep.reset_index(inplace=True)\n",
    "    df_prep.drop('index', axis=1, inplace=True)\n",
    "\n",
    "    return df_prep\n",
    "\n",
    "\n",
    "def nlp_predic(data):\n",
    "    sent_anls = []\n",
    "\n",
    "    for i in range(len(data)):\n",
    "        text = [df_ml['review_comment_message'][i]]\n",
    "        try:\n",
    "            comment_prep = prod_pipeline.fit_transform(text)\n",
    "            matrix = vectorizer.transform(comment_prep)\n",
    "            prediction = model.predict(matrix)\n",
    "            sent_anls.append(prediction[0])\n",
    "        \n",
    "        except Exception as e:\n",
    "            print(f\"key {i}: error {e}\")\n",
    "\n",
    "        sent_dict = {\n",
    "        'sentiment': sent_anls,\n",
    "        'sentiment_label': [('positive' if x ==1 else \"negative\") for x in sent_anls]\n",
    "    }\n",
    "    \n",
    "    return pd.DataFrame(sent_dict)\n",
    "\n",
    "initial_prep_pipeline = Pipeline([\n",
    "    ('mapper', ColumnMapping(old_col_name='review_score', mapping_dict=score_map, new_col_name=TARGET_COL)),\n",
    "    ('null_dropper', DropNullData()),\n",
    "    ('dup_dropper', DropDuplicates())\n",
    "])\n"
   ]
  },
  {
   "cell_type": "markdown",
   "metadata": {},
   "source": [
    "### Analysis"
   ]
  },
  {
   "cell_type": "code",
   "execution_count": 49,
   "metadata": {},
   "outputs": [],
   "source": [
    "# import json\n",
    "\n",
    "# with open('../Scraping/categories/brazil.json', 'r') as f:\n",
    "#     category = json.load(f)\n",
    "#     f.close()\n",
    "\n",
    "# files = [key for key in category]"
   ]
  },
  {
   "cell_type": "code",
   "execution_count": 50,
   "metadata": {},
   "outputs": [],
   "source": [
    "# Algorithm to map graphs\n",
    "\n",
    "slots = []\n",
    "i = 0     \n",
    "while i < 4:\n",
    "    j = 0\n",
    "    while j < 5:\n",
    "        slots.append((i,j))\n",
    "        j+=1\n",
    "    i+=1\n"
   ]
  },
  {
   "cell_type": "code",
   "execution_count": null,
   "metadata": {},
   "outputs": [],
   "source": [
    "df_external_categories = pd.DataFrame()\n",
    "\n",
    "# fig, axs = plt.subplots(4, 5, figsize=(30, 24))\n",
    "for i, file in enumerate(files):\n",
    "    path = '../Scraping/External_data/{}.csv'.format(file)\n",
    "    data = read_prep_data(path)\n",
    "    data['category'] = '{}'.format(file)\n",
    "    prediction = nlp_predic(data)\n",
    "    df_external_categories = pd.concat([df_external_categories, data], ignore_index=True)\n",
    "    df_external_categories = pd.concat([df_external_categories, prediction], axis=1)\n",
    "\n",
    "    print(df_external_categories)\n",
    "    \n",
    "#     donut_plot(prediction.query('sentiment_label in (\"positive\", \"negative\")'), 'sentiment_label', \n",
    "#         label_names=prediction.query('sentiment_label in (\"positive\", \"negative\")')['sentiment_label'].value_counts().index,\n",
    "#         ax=axs[slots[i]], colors=['darkslateblue', 'crimson'])\n",
    "#     axs[slots[i]].set_title('Categoty: {}'.format(file))\n",
    "    \n",
    "# plt.show()\n"
   ]
  },
  {
   "cell_type": "code",
   "execution_count": null,
   "metadata": {},
   "outputs": [],
   "source": [
    "df_external_categories = pd.DataFrame()\n",
    "\n",
    "for file in files:\n",
    "    path = '../Scraping/External_data/{}.csv'.format(file)\n",
    "    rev_cat = pd.read_csv(path)\n",
    "    rev_cat['category'] = '{}'.format(file)\n",
    "    df_external_categories = pd.concat([df_external_categories, rev_cat])\n",
    "   \n",
    "\n"
   ]
  },
  {
   "cell_type": "code",
   "execution_count": null,
   "metadata": {},
   "outputs": [],
   "source": [
    "df_external_categories.drop('Unnamed: 0', axis=1, inplace=True)"
   ]
  },
  {
   "cell_type": "markdown",
   "metadata": {},
   "source": [
    "### Add Reviews from local data"
   ]
  },
  {
   "cell_type": "markdown",
   "metadata": {},
   "source": [
    "#### Include category column in reviews dataser"
   ]
  },
  {
   "cell_type": "code",
   "execution_count": 52,
   "metadata": {},
   "outputs": [],
   "source": [
    "products_br = pd.read_csv(\"datasets/products.csv\")\n",
    "translate = pd.read_csv(\"datasets/product_category_name_translation.csv\")\n",
    "\n",
    "products = pd.merge(products_br, translate, on=\"product_category_name\", how=\"left\")\n",
    "products.drop('product_category_name', axis=1, inplace=True)\n",
    "products.rename({'product_category_name_english': 'category'}, axis=1, inplace=True)"
   ]
  },
  {
   "cell_type": "code",
   "execution_count": 53,
   "metadata": {},
   "outputs": [],
   "source": [
    "reviews_data = pd.read_csv('datasets/order_reviews.csv')\n",
    "orders_data = pd.read_csv('../Data_analysis/datasets/order_items.csv')\n",
    "reviews = pd.merge(reviews_data, orders_data, on='order_id', how='left')\n",
    "reviews_full = pd.merge(reviews, products, on='product_id', how='left')\n"
   ]
  },
  {
   "cell_type": "code",
   "execution_count": 54,
   "metadata": {},
   "outputs": [],
   "source": [
    "categories_count = pd.DataFrame(products.groupby([\"category\"])['product_id'].count())\n",
    "categories_count.sort_values('product_id', ascending=False, inplace=True)\n"
   ]
  },
  {
   "cell_type": "code",
   "execution_count": 55,
   "metadata": {},
   "outputs": [],
   "source": [
    "categories_review = reviews_full[['review_id', 'category', 'review_score']]\n",
    "review_count = pd.DataFrame(categories_review.groupby([\"category\"]).count())\n",
    "review_count.sort_values('review_id', ascending=False, inplace=True)"
   ]
  },
  {
   "cell_type": "code",
   "execution_count": 56,
   "metadata": {},
   "outputs": [],
   "source": [
    "full_table = pd.merge(review_count, categories_count, on=\"category\", how=\"left\")\n",
    "full_table = full_table.rename(columns={\"category\":\"category\",\n",
    "                                        \"review_id\":\"n_reviews\", \"review_score\":\"n_scores\", \n",
    "                                        \"product_id\":\"n_products\"})\n"
   ]
  },
  {
   "cell_type": "code",
   "execution_count": 57,
   "metadata": {},
   "outputs": [
    {
     "name": "stderr",
     "output_type": "stream",
     "text": [
      "/tmp/ipykernel_701/2395016038.py:2: SettingWithCopyWarning: \n",
      "A value is trying to be set on a copy of a slice from a DataFrame\n",
      "\n",
      "See the caveats in the documentation: https://pandas.pydata.org/pandas-docs/stable/user_guide/indexing.html#returning-a-view-versus-a-copy\n",
      "  reviews_categories.dropna(inplace=True)\n"
     ]
    }
   ],
   "source": [
    "reviews_categories = reviews_full[['review_score', 'review_comment_message', 'category']]\n",
    "reviews_categories.dropna(inplace=True)"
   ]
  },
  {
   "cell_type": "code",
   "execution_count": 58,
   "metadata": {},
   "outputs": [
    {
     "name": "stderr",
     "output_type": "stream",
     "text": [
      "/tmp/ipykernel_701/1492524303.py:2: SettingWithCopyWarning: \n",
      "A value is trying to be set on a copy of a slice from a DataFrame\n",
      "\n",
      "See the caveats in the documentation: https://pandas.pydata.org/pandas-docs/stable/user_guide/indexing.html#returning-a-view-versus-a-copy\n",
      "  reviews_categories.drop('index', axis=1, inplace=True)\n"
     ]
    }
   ],
   "source": [
    "reviews_categories.reset_index(inplace=True)\n",
    "reviews_categories.drop('index', axis=1, inplace=True)"
   ]
  },
  {
   "cell_type": "code",
   "execution_count": 72,
   "metadata": {},
   "outputs": [
    {
     "data": {
      "text/plain": [
       "46923"
      ]
     },
     "execution_count": 72,
     "metadata": {},
     "output_type": "execute_result"
    }
   ],
   "source": [
    "len(reviews_categories)"
   ]
  },
  {
   "cell_type": "code",
   "execution_count": 59,
   "metadata": {},
   "outputs": [],
   "source": [
    "sent_reviews = []\n",
    "\n",
    "for i in range(len(reviews_categories)):\n",
    "    text = [reviews_categories['review_comment_message'][i]]\n",
    "    try:\n",
    "        comment_prep = prod_pipeline.fit_transform(text)\n",
    "        matrix = vectorizer.transform(comment_prep)\n",
    "        prediction = model.predict(matrix)\n",
    "        sent_reviews.append(prediction[0])\n",
    "    \n",
    "    except Exception as e:\n",
    "        print(f\"key {i}: error {e}\")\n",
    "        "
   ]
  },
  {
   "cell_type": "code",
   "execution_count": 75,
   "metadata": {},
   "outputs": [],
   "source": [
    "reviews_dict = {\n",
    "    'sentiment': sent_reviews,\n",
    "    'sentiment_label': [('positive' if x == 1 else \"negative\") for x in sent_reviews]\n",
    "}\n",
    "\n",
    "reviews_df = pd.DataFrame(reviews_dict)"
   ]
  },
  {
   "cell_type": "code",
   "execution_count": 77,
   "metadata": {},
   "outputs": [
    {
     "data": {
      "text/html": [
       "<div>\n",
       "<style scoped>\n",
       "    .dataframe tbody tr th:only-of-type {\n",
       "        vertical-align: middle;\n",
       "    }\n",
       "\n",
       "    .dataframe tbody tr th {\n",
       "        vertical-align: top;\n",
       "    }\n",
       "\n",
       "    .dataframe thead th {\n",
       "        text-align: right;\n",
       "    }\n",
       "</style>\n",
       "<table border=\"1\" class=\"dataframe\">\n",
       "  <thead>\n",
       "    <tr style=\"text-align: right;\">\n",
       "      <th></th>\n",
       "      <th>review_score</th>\n",
       "      <th>review_comment_message</th>\n",
       "      <th>category</th>\n",
       "      <th>sentiment</th>\n",
       "      <th>sentiment_label</th>\n",
       "    </tr>\n",
       "  </thead>\n",
       "  <tbody>\n",
       "    <tr>\n",
       "      <th>0</th>\n",
       "      <td>5</td>\n",
       "      <td>Recebi bem antes do prazo estipulado.</td>\n",
       "      <td>garden_tools</td>\n",
       "      <td>1</td>\n",
       "      <td>positive</td>\n",
       "    </tr>\n",
       "    <tr>\n",
       "      <th>1</th>\n",
       "      <td>5</td>\n",
       "      <td>Parabéns lojas lannister adorei comprar pela I...</td>\n",
       "      <td>sports_leisure</td>\n",
       "      <td>1</td>\n",
       "      <td>positive</td>\n",
       "    </tr>\n",
       "    <tr>\n",
       "      <th>2</th>\n",
       "      <td>4</td>\n",
       "      <td>aparelho eficiente. no site a marca do aparelh...</td>\n",
       "      <td>small_appliances</td>\n",
       "      <td>1</td>\n",
       "      <td>positive</td>\n",
       "    </tr>\n",
       "    <tr>\n",
       "      <th>3</th>\n",
       "      <td>4</td>\n",
       "      <td>Mas um pouco ,travando...pelo valor ta Boa.\\n</td>\n",
       "      <td>health_beauty</td>\n",
       "      <td>1</td>\n",
       "      <td>positive</td>\n",
       "    </tr>\n",
       "    <tr>\n",
       "      <th>4</th>\n",
       "      <td>5</td>\n",
       "      <td>Vendedor confiável, produto ok e entrega antes...</td>\n",
       "      <td>computers_accessories</td>\n",
       "      <td>1</td>\n",
       "      <td>positive</td>\n",
       "    </tr>\n",
       "    <tr>\n",
       "      <th>...</th>\n",
       "      <td>...</td>\n",
       "      <td>...</td>\n",
       "      <td>...</td>\n",
       "      <td>...</td>\n",
       "      <td>...</td>\n",
       "    </tr>\n",
       "    <tr>\n",
       "      <th>46918</th>\n",
       "      <td>4</td>\n",
       "      <td>para este produto recebi de acordo com a compr...</td>\n",
       "      <td>watches_gifts</td>\n",
       "      <td>1</td>\n",
       "      <td>positive</td>\n",
       "    </tr>\n",
       "    <tr>\n",
       "      <th>46919</th>\n",
       "      <td>5</td>\n",
       "      <td>Entregou dentro do prazo. O produto chegou em ...</td>\n",
       "      <td>sports_leisure</td>\n",
       "      <td>1</td>\n",
       "      <td>positive</td>\n",
       "    </tr>\n",
       "    <tr>\n",
       "      <th>46920</th>\n",
       "      <td>3</td>\n",
       "      <td>O produto não foi enviado com NF, não existe v...</td>\n",
       "      <td>telephony</td>\n",
       "      <td>0</td>\n",
       "      <td>negative</td>\n",
       "    </tr>\n",
       "    <tr>\n",
       "      <th>46921</th>\n",
       "      <td>5</td>\n",
       "      <td>Excelente mochila, entrega super rápida. Super...</td>\n",
       "      <td>stationery</td>\n",
       "      <td>1</td>\n",
       "      <td>positive</td>\n",
       "    </tr>\n",
       "    <tr>\n",
       "      <th>46922</th>\n",
       "      <td>1</td>\n",
       "      <td>meu produto chegou e ja tenho que devolver, po...</td>\n",
       "      <td>computers_accessories</td>\n",
       "      <td>0</td>\n",
       "      <td>negative</td>\n",
       "    </tr>\n",
       "  </tbody>\n",
       "</table>\n",
       "<p>46923 rows × 5 columns</p>\n",
       "</div>"
      ],
      "text/plain": [
       "       review_score                             review_comment_message  \\\n",
       "0                 5              Recebi bem antes do prazo estipulado.   \n",
       "1                 5  Parabéns lojas lannister adorei comprar pela I...   \n",
       "2                 4  aparelho eficiente. no site a marca do aparelh...   \n",
       "3                 4      Mas um pouco ,travando...pelo valor ta Boa.\\n   \n",
       "4                 5  Vendedor confiável, produto ok e entrega antes...   \n",
       "...             ...                                                ...   \n",
       "46918             4  para este produto recebi de acordo com a compr...   \n",
       "46919             5  Entregou dentro do prazo. O produto chegou em ...   \n",
       "46920             3  O produto não foi enviado com NF, não existe v...   \n",
       "46921             5  Excelente mochila, entrega super rápida. Super...   \n",
       "46922             1  meu produto chegou e ja tenho que devolver, po...   \n",
       "\n",
       "                    category  sentiment sentiment_label  \n",
       "0               garden_tools          1        positive  \n",
       "1             sports_leisure          1        positive  \n",
       "2           small_appliances          1        positive  \n",
       "3              health_beauty          1        positive  \n",
       "4      computers_accessories          1        positive  \n",
       "...                      ...        ...             ...  \n",
       "46918          watches_gifts          1        positive  \n",
       "46919         sports_leisure          1        positive  \n",
       "46920              telephony          0        negative  \n",
       "46921             stationery          1        positive  \n",
       "46922  computers_accessories          0        negative  \n",
       "\n",
       "[46923 rows x 5 columns]"
      ]
     },
     "execution_count": 77,
     "metadata": {},
     "output_type": "execute_result"
    }
   ],
   "source": [
    "reviews_category_sentiment = pd.concat([reviews_categories, reviews_df], axis=1)"
   ]
  },
  {
   "cell_type": "code",
   "execution_count": 80,
   "metadata": {},
   "outputs": [],
   "source": [
    "reviews_category_sentiment.to_csv('datasets/processed/nlp_to_olist.csv')\n",
    "df_new_reviews_categories.to_csv('datasets/processed/nlp_to_external_data.csv')"
   ]
  },
  {
   "cell_type": "markdown",
   "metadata": {},
   "source": [
    "### Radar Chart"
   ]
  },
  {
   "cell_type": "code",
   "execution_count": 7,
   "metadata": {},
   "outputs": [],
   "source": [
    "import pandas as pd\n",
    "import plotly.express as px\n",
    "import plotly.graph_objects as go\n",
    "\n",
    "# pip install plotly nbformat\n",
    "# reviews_category_sentiment\n",
    "# df_new_reviews_categories"
   ]
  },
  {
   "cell_type": "code",
   "execution_count": 8,
   "metadata": {},
   "outputs": [],
   "source": [
    "olist_revs = pd.read_csv('datasets/processed/nlp_to_olist.csv') \n",
    "external_revs = pd.read_csv('datasets/processed/nlp_to_external_data.csv')"
   ]
  },
  {
   "cell_type": "code",
   "execution_count": null,
   "metadata": {},
   "outputs": [],
   "source": [
    "filt = olist_revs.groupby(['category'])['sentiment'].count() >= 400\n",
    "mean_olist = olist_revs.groupby(['category'])[['sentiment']].mean()\n",
    "filt_olist = mean_olist[filt]\n",
    "filt_olist.reset_index(inplace=True)"
   ]
  },
  {
   "cell_type": "code",
   "execution_count": null,
   "metadata": {},
   "outputs": [],
   "source": [
    "filt_olist.drop(5, inplace=True)\n",
    "filt_olist.reset_index(inplace=True)"
   ]
  },
  {
   "cell_type": "code",
   "execution_count": null,
   "metadata": {},
   "outputs": [],
   "source": [
    "gped_external = external_revs.groupby(['category'])[['sentiment']].mean()\n",
    "gped_external.reset_index(inplace=True)"
   ]
  },
  {
   "cell_type": "code",
   "execution_count": 27,
   "metadata": {},
   "outputs": [],
   "source": [
    "translated_cats = pd.read_csv('datasets/product_category_name_translation.csv')\n",
    "translated_cats.rename({'product_category_name':'category'}, axis=1, inplace=True)"
   ]
  },
  {
   "cell_type": "code",
   "execution_count": null,
   "metadata": {},
   "outputs": [],
   "source": [
    "translated_revs = pd.merge(gped_external, translated_cats, on='category', how='left')"
   ]
  },
  {
   "cell_type": "code",
   "execution_count": 48,
   "metadata": {},
   "outputs": [],
   "source": [
    "translated_revs.fillna('sports_leisure', inplace=True)\n",
    "translated_revs.sort_values(by='product_category_name_english', inplace=True)"
   ]
  },
  {
   "cell_type": "code",
   "execution_count": 49,
   "metadata": {},
   "outputs": [
    {
     "data": {
      "application/vnd.plotly.v1+json": {
       "config": {
        "plotlyServerURL": "https://plot.ly"
       },
       "data": [
        {
         "name": "Original Dataset",
         "r": [
          0.7368703108252947,
          0.6831345826235093,
          0.6861884776802747,
          0.6428571428571429,
          0.6819221967963387,
          0.7048759623609923,
          0.7569124423963134,
          0.6503633314700951,
          0.7037949728930508,
          0.7344708077845907,
          0.6819425444596443,
          0.8351893095768375,
          0.5381861575178998,
          0.7583395107487028,
          0.7448717948717949,
          0.6969168121000582,
          0.7242489270386266,
          0.7001462701121404,
          0.7411689145793192,
          0.7177868548087635
         ],
         "theta": [
          "auto",
          "baby",
          "bed_bath_table",
          "computers_accessories",
          "consoles_games",
          "electronics",
          "fashion_bags_accessories",
          "furniture_decor",
          "garden_tools",
          "health_beauty",
          "housewares",
          "luggage_accessories",
          "office_furniture",
          "perfumery",
          "pet_shop",
          "sports_leisure",
          "stationery",
          "telephony",
          "toys",
          "watches_gifts"
         ],
         "type": "scatterpolar"
        },
        {
         "name": "External Data",
         "r": [
          0.891538637927081,
          0.9561440677966102,
          0.9320069204152249,
          0.9370353159851301,
          0.8997472620050547,
          0.9083665338645418,
          0.9585700757575758,
          0.9215613382899628,
          0.9354066985645934,
          0.8688845401174168,
          0.9347536617842876,
          0.9436734693877551,
          0.9475446428571429,
          0.8834872351982618,
          0.9524103831891224,
          0.9004217861727489,
          0.947841726618705,
          0.84375,
          0.9122807017543859,
          0.9254901960784314
         ],
         "theta": [
          "auto",
          "baby",
          "bed_bath_table",
          "computers_accessories",
          "consoles_games",
          "electronics",
          "fashion_bags_accessories",
          "furniture_decor",
          "garden_tools",
          "health_beauty",
          "housewares",
          "luggage_accessories",
          "office_furniture",
          "perfumery",
          "pet_shop",
          "sports_leisure",
          "stationery",
          "telephony",
          "toys",
          "watches_gifts"
         ],
         "type": "scatterpolar"
        }
       ],
       "layout": {
        "polar": {
         "radialaxis": {
          "range": [
           0,
           1
          ],
          "visible": true
         }
        },
        "showlegend": true,
        "template": {
         "data": {
          "bar": [
           {
            "error_x": {
             "color": "#2a3f5f"
            },
            "error_y": {
             "color": "#2a3f5f"
            },
            "marker": {
             "line": {
              "color": "#E5ECF6",
              "width": 0.5
             },
             "pattern": {
              "fillmode": "overlay",
              "size": 10,
              "solidity": 0.2
             }
            },
            "type": "bar"
           }
          ],
          "barpolar": [
           {
            "marker": {
             "line": {
              "color": "#E5ECF6",
              "width": 0.5
             },
             "pattern": {
              "fillmode": "overlay",
              "size": 10,
              "solidity": 0.2
             }
            },
            "type": "barpolar"
           }
          ],
          "carpet": [
           {
            "aaxis": {
             "endlinecolor": "#2a3f5f",
             "gridcolor": "white",
             "linecolor": "white",
             "minorgridcolor": "white",
             "startlinecolor": "#2a3f5f"
            },
            "baxis": {
             "endlinecolor": "#2a3f5f",
             "gridcolor": "white",
             "linecolor": "white",
             "minorgridcolor": "white",
             "startlinecolor": "#2a3f5f"
            },
            "type": "carpet"
           }
          ],
          "choropleth": [
           {
            "colorbar": {
             "outlinewidth": 0,
             "ticks": ""
            },
            "type": "choropleth"
           }
          ],
          "contour": [
           {
            "colorbar": {
             "outlinewidth": 0,
             "ticks": ""
            },
            "colorscale": [
             [
              0,
              "#0d0887"
             ],
             [
              0.1111111111111111,
              "#46039f"
             ],
             [
              0.2222222222222222,
              "#7201a8"
             ],
             [
              0.3333333333333333,
              "#9c179e"
             ],
             [
              0.4444444444444444,
              "#bd3786"
             ],
             [
              0.5555555555555556,
              "#d8576b"
             ],
             [
              0.6666666666666666,
              "#ed7953"
             ],
             [
              0.7777777777777778,
              "#fb9f3a"
             ],
             [
              0.8888888888888888,
              "#fdca26"
             ],
             [
              1,
              "#f0f921"
             ]
            ],
            "type": "contour"
           }
          ],
          "contourcarpet": [
           {
            "colorbar": {
             "outlinewidth": 0,
             "ticks": ""
            },
            "type": "contourcarpet"
           }
          ],
          "heatmap": [
           {
            "colorbar": {
             "outlinewidth": 0,
             "ticks": ""
            },
            "colorscale": [
             [
              0,
              "#0d0887"
             ],
             [
              0.1111111111111111,
              "#46039f"
             ],
             [
              0.2222222222222222,
              "#7201a8"
             ],
             [
              0.3333333333333333,
              "#9c179e"
             ],
             [
              0.4444444444444444,
              "#bd3786"
             ],
             [
              0.5555555555555556,
              "#d8576b"
             ],
             [
              0.6666666666666666,
              "#ed7953"
             ],
             [
              0.7777777777777778,
              "#fb9f3a"
             ],
             [
              0.8888888888888888,
              "#fdca26"
             ],
             [
              1,
              "#f0f921"
             ]
            ],
            "type": "heatmap"
           }
          ],
          "heatmapgl": [
           {
            "colorbar": {
             "outlinewidth": 0,
             "ticks": ""
            },
            "colorscale": [
             [
              0,
              "#0d0887"
             ],
             [
              0.1111111111111111,
              "#46039f"
             ],
             [
              0.2222222222222222,
              "#7201a8"
             ],
             [
              0.3333333333333333,
              "#9c179e"
             ],
             [
              0.4444444444444444,
              "#bd3786"
             ],
             [
              0.5555555555555556,
              "#d8576b"
             ],
             [
              0.6666666666666666,
              "#ed7953"
             ],
             [
              0.7777777777777778,
              "#fb9f3a"
             ],
             [
              0.8888888888888888,
              "#fdca26"
             ],
             [
              1,
              "#f0f921"
             ]
            ],
            "type": "heatmapgl"
           }
          ],
          "histogram": [
           {
            "marker": {
             "pattern": {
              "fillmode": "overlay",
              "size": 10,
              "solidity": 0.2
             }
            },
            "type": "histogram"
           }
          ],
          "histogram2d": [
           {
            "colorbar": {
             "outlinewidth": 0,
             "ticks": ""
            },
            "colorscale": [
             [
              0,
              "#0d0887"
             ],
             [
              0.1111111111111111,
              "#46039f"
             ],
             [
              0.2222222222222222,
              "#7201a8"
             ],
             [
              0.3333333333333333,
              "#9c179e"
             ],
             [
              0.4444444444444444,
              "#bd3786"
             ],
             [
              0.5555555555555556,
              "#d8576b"
             ],
             [
              0.6666666666666666,
              "#ed7953"
             ],
             [
              0.7777777777777778,
              "#fb9f3a"
             ],
             [
              0.8888888888888888,
              "#fdca26"
             ],
             [
              1,
              "#f0f921"
             ]
            ],
            "type": "histogram2d"
           }
          ],
          "histogram2dcontour": [
           {
            "colorbar": {
             "outlinewidth": 0,
             "ticks": ""
            },
            "colorscale": [
             [
              0,
              "#0d0887"
             ],
             [
              0.1111111111111111,
              "#46039f"
             ],
             [
              0.2222222222222222,
              "#7201a8"
             ],
             [
              0.3333333333333333,
              "#9c179e"
             ],
             [
              0.4444444444444444,
              "#bd3786"
             ],
             [
              0.5555555555555556,
              "#d8576b"
             ],
             [
              0.6666666666666666,
              "#ed7953"
             ],
             [
              0.7777777777777778,
              "#fb9f3a"
             ],
             [
              0.8888888888888888,
              "#fdca26"
             ],
             [
              1,
              "#f0f921"
             ]
            ],
            "type": "histogram2dcontour"
           }
          ],
          "mesh3d": [
           {
            "colorbar": {
             "outlinewidth": 0,
             "ticks": ""
            },
            "type": "mesh3d"
           }
          ],
          "parcoords": [
           {
            "line": {
             "colorbar": {
              "outlinewidth": 0,
              "ticks": ""
             }
            },
            "type": "parcoords"
           }
          ],
          "pie": [
           {
            "automargin": true,
            "type": "pie"
           }
          ],
          "scatter": [
           {
            "fillpattern": {
             "fillmode": "overlay",
             "size": 10,
             "solidity": 0.2
            },
            "type": "scatter"
           }
          ],
          "scatter3d": [
           {
            "line": {
             "colorbar": {
              "outlinewidth": 0,
              "ticks": ""
             }
            },
            "marker": {
             "colorbar": {
              "outlinewidth": 0,
              "ticks": ""
             }
            },
            "type": "scatter3d"
           }
          ],
          "scattercarpet": [
           {
            "marker": {
             "colorbar": {
              "outlinewidth": 0,
              "ticks": ""
             }
            },
            "type": "scattercarpet"
           }
          ],
          "scattergeo": [
           {
            "marker": {
             "colorbar": {
              "outlinewidth": 0,
              "ticks": ""
             }
            },
            "type": "scattergeo"
           }
          ],
          "scattergl": [
           {
            "marker": {
             "colorbar": {
              "outlinewidth": 0,
              "ticks": ""
             }
            },
            "type": "scattergl"
           }
          ],
          "scattermapbox": [
           {
            "marker": {
             "colorbar": {
              "outlinewidth": 0,
              "ticks": ""
             }
            },
            "type": "scattermapbox"
           }
          ],
          "scatterpolar": [
           {
            "marker": {
             "colorbar": {
              "outlinewidth": 0,
              "ticks": ""
             }
            },
            "type": "scatterpolar"
           }
          ],
          "scatterpolargl": [
           {
            "marker": {
             "colorbar": {
              "outlinewidth": 0,
              "ticks": ""
             }
            },
            "type": "scatterpolargl"
           }
          ],
          "scatterternary": [
           {
            "marker": {
             "colorbar": {
              "outlinewidth": 0,
              "ticks": ""
             }
            },
            "type": "scatterternary"
           }
          ],
          "surface": [
           {
            "colorbar": {
             "outlinewidth": 0,
             "ticks": ""
            },
            "colorscale": [
             [
              0,
              "#0d0887"
             ],
             [
              0.1111111111111111,
              "#46039f"
             ],
             [
              0.2222222222222222,
              "#7201a8"
             ],
             [
              0.3333333333333333,
              "#9c179e"
             ],
             [
              0.4444444444444444,
              "#bd3786"
             ],
             [
              0.5555555555555556,
              "#d8576b"
             ],
             [
              0.6666666666666666,
              "#ed7953"
             ],
             [
              0.7777777777777778,
              "#fb9f3a"
             ],
             [
              0.8888888888888888,
              "#fdca26"
             ],
             [
              1,
              "#f0f921"
             ]
            ],
            "type": "surface"
           }
          ],
          "table": [
           {
            "cells": {
             "fill": {
              "color": "#EBF0F8"
             },
             "line": {
              "color": "white"
             }
            },
            "header": {
             "fill": {
              "color": "#C8D4E3"
             },
             "line": {
              "color": "white"
             }
            },
            "type": "table"
           }
          ]
         },
         "layout": {
          "annotationdefaults": {
           "arrowcolor": "#2a3f5f",
           "arrowhead": 0,
           "arrowwidth": 1
          },
          "autotypenumbers": "strict",
          "coloraxis": {
           "colorbar": {
            "outlinewidth": 0,
            "ticks": ""
           }
          },
          "colorscale": {
           "diverging": [
            [
             0,
             "#8e0152"
            ],
            [
             0.1,
             "#c51b7d"
            ],
            [
             0.2,
             "#de77ae"
            ],
            [
             0.3,
             "#f1b6da"
            ],
            [
             0.4,
             "#fde0ef"
            ],
            [
             0.5,
             "#f7f7f7"
            ],
            [
             0.6,
             "#e6f5d0"
            ],
            [
             0.7,
             "#b8e186"
            ],
            [
             0.8,
             "#7fbc41"
            ],
            [
             0.9,
             "#4d9221"
            ],
            [
             1,
             "#276419"
            ]
           ],
           "sequential": [
            [
             0,
             "#0d0887"
            ],
            [
             0.1111111111111111,
             "#46039f"
            ],
            [
             0.2222222222222222,
             "#7201a8"
            ],
            [
             0.3333333333333333,
             "#9c179e"
            ],
            [
             0.4444444444444444,
             "#bd3786"
            ],
            [
             0.5555555555555556,
             "#d8576b"
            ],
            [
             0.6666666666666666,
             "#ed7953"
            ],
            [
             0.7777777777777778,
             "#fb9f3a"
            ],
            [
             0.8888888888888888,
             "#fdca26"
            ],
            [
             1,
             "#f0f921"
            ]
           ],
           "sequentialminus": [
            [
             0,
             "#0d0887"
            ],
            [
             0.1111111111111111,
             "#46039f"
            ],
            [
             0.2222222222222222,
             "#7201a8"
            ],
            [
             0.3333333333333333,
             "#9c179e"
            ],
            [
             0.4444444444444444,
             "#bd3786"
            ],
            [
             0.5555555555555556,
             "#d8576b"
            ],
            [
             0.6666666666666666,
             "#ed7953"
            ],
            [
             0.7777777777777778,
             "#fb9f3a"
            ],
            [
             0.8888888888888888,
             "#fdca26"
            ],
            [
             1,
             "#f0f921"
            ]
           ]
          },
          "colorway": [
           "#636efa",
           "#EF553B",
           "#00cc96",
           "#ab63fa",
           "#FFA15A",
           "#19d3f3",
           "#FF6692",
           "#B6E880",
           "#FF97FF",
           "#FECB52"
          ],
          "font": {
           "color": "#2a3f5f"
          },
          "geo": {
           "bgcolor": "white",
           "lakecolor": "white",
           "landcolor": "#E5ECF6",
           "showlakes": true,
           "showland": true,
           "subunitcolor": "white"
          },
          "hoverlabel": {
           "align": "left"
          },
          "hovermode": "closest",
          "mapbox": {
           "style": "light"
          },
          "paper_bgcolor": "white",
          "plot_bgcolor": "#E5ECF6",
          "polar": {
           "angularaxis": {
            "gridcolor": "white",
            "linecolor": "white",
            "ticks": ""
           },
           "bgcolor": "#E5ECF6",
           "radialaxis": {
            "gridcolor": "white",
            "linecolor": "white",
            "ticks": ""
           }
          },
          "scene": {
           "xaxis": {
            "backgroundcolor": "#E5ECF6",
            "gridcolor": "white",
            "gridwidth": 2,
            "linecolor": "white",
            "showbackground": true,
            "ticks": "",
            "zerolinecolor": "white"
           },
           "yaxis": {
            "backgroundcolor": "#E5ECF6",
            "gridcolor": "white",
            "gridwidth": 2,
            "linecolor": "white",
            "showbackground": true,
            "ticks": "",
            "zerolinecolor": "white"
           },
           "zaxis": {
            "backgroundcolor": "#E5ECF6",
            "gridcolor": "white",
            "gridwidth": 2,
            "linecolor": "white",
            "showbackground": true,
            "ticks": "",
            "zerolinecolor": "white"
           }
          },
          "shapedefaults": {
           "line": {
            "color": "#2a3f5f"
           }
          },
          "ternary": {
           "aaxis": {
            "gridcolor": "white",
            "linecolor": "white",
            "ticks": ""
           },
           "baxis": {
            "gridcolor": "white",
            "linecolor": "white",
            "ticks": ""
           },
           "bgcolor": "#E5ECF6",
           "caxis": {
            "gridcolor": "white",
            "linecolor": "white",
            "ticks": ""
           }
          },
          "title": {
           "x": 0.05
          },
          "xaxis": {
           "automargin": true,
           "gridcolor": "white",
           "linecolor": "white",
           "ticks": "",
           "title": {
            "standoff": 15
           },
           "zerolinecolor": "white",
           "zerolinewidth": 2
          },
          "yaxis": {
           "automargin": true,
           "gridcolor": "white",
           "linecolor": "white",
           "ticks": "",
           "title": {
            "standoff": 15
           },
           "zerolinecolor": "white",
           "zerolinewidth": 2
          }
         }
        }
       }
      },
      "text/html": [
       "<div>                            <div id=\"e7f8cea1-cca8-4413-ac6f-4a9fcbfbe8ca\" class=\"plotly-graph-div\" style=\"height:525px; width:100%;\"></div>            <script type=\"text/javascript\">                require([\"plotly\"], function(Plotly) {                    window.PLOTLYENV=window.PLOTLYENV || {};                                    if (document.getElementById(\"e7f8cea1-cca8-4413-ac6f-4a9fcbfbe8ca\")) {                    Plotly.newPlot(                        \"e7f8cea1-cca8-4413-ac6f-4a9fcbfbe8ca\",                        [{\"name\":\"Original Dataset\",\"r\":[0.7368703108252947,0.6831345826235093,0.6861884776802747,0.6428571428571429,0.6819221967963387,0.7048759623609923,0.7569124423963134,0.6503633314700951,0.7037949728930508,0.7344708077845907,0.6819425444596443,0.8351893095768375,0.5381861575178998,0.7583395107487028,0.7448717948717949,0.6969168121000582,0.7242489270386266,0.7001462701121404,0.7411689145793192,0.7177868548087635],\"theta\":[\"auto\",\"baby\",\"bed_bath_table\",\"computers_accessories\",\"consoles_games\",\"electronics\",\"fashion_bags_accessories\",\"furniture_decor\",\"garden_tools\",\"health_beauty\",\"housewares\",\"luggage_accessories\",\"office_furniture\",\"perfumery\",\"pet_shop\",\"sports_leisure\",\"stationery\",\"telephony\",\"toys\",\"watches_gifts\"],\"type\":\"scatterpolar\"},{\"name\":\"External Data\",\"r\":[0.891538637927081,0.9561440677966102,0.9320069204152249,0.9370353159851301,0.8997472620050547,0.9083665338645418,0.9585700757575758,0.9215613382899628,0.9354066985645934,0.8688845401174168,0.9347536617842876,0.9436734693877551,0.9475446428571429,0.8834872351982618,0.9524103831891224,0.9004217861727489,0.947841726618705,0.84375,0.9122807017543859,0.9254901960784314],\"theta\":[\"auto\",\"baby\",\"bed_bath_table\",\"computers_accessories\",\"consoles_games\",\"electronics\",\"fashion_bags_accessories\",\"furniture_decor\",\"garden_tools\",\"health_beauty\",\"housewares\",\"luggage_accessories\",\"office_furniture\",\"perfumery\",\"pet_shop\",\"sports_leisure\",\"stationery\",\"telephony\",\"toys\",\"watches_gifts\"],\"type\":\"scatterpolar\"}],                        {\"template\":{\"data\":{\"histogram2dcontour\":[{\"type\":\"histogram2dcontour\",\"colorbar\":{\"outlinewidth\":0,\"ticks\":\"\"},\"colorscale\":[[0.0,\"#0d0887\"],[0.1111111111111111,\"#46039f\"],[0.2222222222222222,\"#7201a8\"],[0.3333333333333333,\"#9c179e\"],[0.4444444444444444,\"#bd3786\"],[0.5555555555555556,\"#d8576b\"],[0.6666666666666666,\"#ed7953\"],[0.7777777777777778,\"#fb9f3a\"],[0.8888888888888888,\"#fdca26\"],[1.0,\"#f0f921\"]]}],\"choropleth\":[{\"type\":\"choropleth\",\"colorbar\":{\"outlinewidth\":0,\"ticks\":\"\"}}],\"histogram2d\":[{\"type\":\"histogram2d\",\"colorbar\":{\"outlinewidth\":0,\"ticks\":\"\"},\"colorscale\":[[0.0,\"#0d0887\"],[0.1111111111111111,\"#46039f\"],[0.2222222222222222,\"#7201a8\"],[0.3333333333333333,\"#9c179e\"],[0.4444444444444444,\"#bd3786\"],[0.5555555555555556,\"#d8576b\"],[0.6666666666666666,\"#ed7953\"],[0.7777777777777778,\"#fb9f3a\"],[0.8888888888888888,\"#fdca26\"],[1.0,\"#f0f921\"]]}],\"heatmap\":[{\"type\":\"heatmap\",\"colorbar\":{\"outlinewidth\":0,\"ticks\":\"\"},\"colorscale\":[[0.0,\"#0d0887\"],[0.1111111111111111,\"#46039f\"],[0.2222222222222222,\"#7201a8\"],[0.3333333333333333,\"#9c179e\"],[0.4444444444444444,\"#bd3786\"],[0.5555555555555556,\"#d8576b\"],[0.6666666666666666,\"#ed7953\"],[0.7777777777777778,\"#fb9f3a\"],[0.8888888888888888,\"#fdca26\"],[1.0,\"#f0f921\"]]}],\"heatmapgl\":[{\"type\":\"heatmapgl\",\"colorbar\":{\"outlinewidth\":0,\"ticks\":\"\"},\"colorscale\":[[0.0,\"#0d0887\"],[0.1111111111111111,\"#46039f\"],[0.2222222222222222,\"#7201a8\"],[0.3333333333333333,\"#9c179e\"],[0.4444444444444444,\"#bd3786\"],[0.5555555555555556,\"#d8576b\"],[0.6666666666666666,\"#ed7953\"],[0.7777777777777778,\"#fb9f3a\"],[0.8888888888888888,\"#fdca26\"],[1.0,\"#f0f921\"]]}],\"contourcarpet\":[{\"type\":\"contourcarpet\",\"colorbar\":{\"outlinewidth\":0,\"ticks\":\"\"}}],\"contour\":[{\"type\":\"contour\",\"colorbar\":{\"outlinewidth\":0,\"ticks\":\"\"},\"colorscale\":[[0.0,\"#0d0887\"],[0.1111111111111111,\"#46039f\"],[0.2222222222222222,\"#7201a8\"],[0.3333333333333333,\"#9c179e\"],[0.4444444444444444,\"#bd3786\"],[0.5555555555555556,\"#d8576b\"],[0.6666666666666666,\"#ed7953\"],[0.7777777777777778,\"#fb9f3a\"],[0.8888888888888888,\"#fdca26\"],[1.0,\"#f0f921\"]]}],\"surface\":[{\"type\":\"surface\",\"colorbar\":{\"outlinewidth\":0,\"ticks\":\"\"},\"colorscale\":[[0.0,\"#0d0887\"],[0.1111111111111111,\"#46039f\"],[0.2222222222222222,\"#7201a8\"],[0.3333333333333333,\"#9c179e\"],[0.4444444444444444,\"#bd3786\"],[0.5555555555555556,\"#d8576b\"],[0.6666666666666666,\"#ed7953\"],[0.7777777777777778,\"#fb9f3a\"],[0.8888888888888888,\"#fdca26\"],[1.0,\"#f0f921\"]]}],\"mesh3d\":[{\"type\":\"mesh3d\",\"colorbar\":{\"outlinewidth\":0,\"ticks\":\"\"}}],\"scatter\":[{\"fillpattern\":{\"fillmode\":\"overlay\",\"size\":10,\"solidity\":0.2},\"type\":\"scatter\"}],\"parcoords\":[{\"type\":\"parcoords\",\"line\":{\"colorbar\":{\"outlinewidth\":0,\"ticks\":\"\"}}}],\"scatterpolargl\":[{\"type\":\"scatterpolargl\",\"marker\":{\"colorbar\":{\"outlinewidth\":0,\"ticks\":\"\"}}}],\"bar\":[{\"error_x\":{\"color\":\"#2a3f5f\"},\"error_y\":{\"color\":\"#2a3f5f\"},\"marker\":{\"line\":{\"color\":\"#E5ECF6\",\"width\":0.5},\"pattern\":{\"fillmode\":\"overlay\",\"size\":10,\"solidity\":0.2}},\"type\":\"bar\"}],\"scattergeo\":[{\"type\":\"scattergeo\",\"marker\":{\"colorbar\":{\"outlinewidth\":0,\"ticks\":\"\"}}}],\"scatterpolar\":[{\"type\":\"scatterpolar\",\"marker\":{\"colorbar\":{\"outlinewidth\":0,\"ticks\":\"\"}}}],\"histogram\":[{\"marker\":{\"pattern\":{\"fillmode\":\"overlay\",\"size\":10,\"solidity\":0.2}},\"type\":\"histogram\"}],\"scattergl\":[{\"type\":\"scattergl\",\"marker\":{\"colorbar\":{\"outlinewidth\":0,\"ticks\":\"\"}}}],\"scatter3d\":[{\"type\":\"scatter3d\",\"line\":{\"colorbar\":{\"outlinewidth\":0,\"ticks\":\"\"}},\"marker\":{\"colorbar\":{\"outlinewidth\":0,\"ticks\":\"\"}}}],\"scattermapbox\":[{\"type\":\"scattermapbox\",\"marker\":{\"colorbar\":{\"outlinewidth\":0,\"ticks\":\"\"}}}],\"scatterternary\":[{\"type\":\"scatterternary\",\"marker\":{\"colorbar\":{\"outlinewidth\":0,\"ticks\":\"\"}}}],\"scattercarpet\":[{\"type\":\"scattercarpet\",\"marker\":{\"colorbar\":{\"outlinewidth\":0,\"ticks\":\"\"}}}],\"carpet\":[{\"aaxis\":{\"endlinecolor\":\"#2a3f5f\",\"gridcolor\":\"white\",\"linecolor\":\"white\",\"minorgridcolor\":\"white\",\"startlinecolor\":\"#2a3f5f\"},\"baxis\":{\"endlinecolor\":\"#2a3f5f\",\"gridcolor\":\"white\",\"linecolor\":\"white\",\"minorgridcolor\":\"white\",\"startlinecolor\":\"#2a3f5f\"},\"type\":\"carpet\"}],\"table\":[{\"cells\":{\"fill\":{\"color\":\"#EBF0F8\"},\"line\":{\"color\":\"white\"}},\"header\":{\"fill\":{\"color\":\"#C8D4E3\"},\"line\":{\"color\":\"white\"}},\"type\":\"table\"}],\"barpolar\":[{\"marker\":{\"line\":{\"color\":\"#E5ECF6\",\"width\":0.5},\"pattern\":{\"fillmode\":\"overlay\",\"size\":10,\"solidity\":0.2}},\"type\":\"barpolar\"}],\"pie\":[{\"automargin\":true,\"type\":\"pie\"}]},\"layout\":{\"autotypenumbers\":\"strict\",\"colorway\":[\"#636efa\",\"#EF553B\",\"#00cc96\",\"#ab63fa\",\"#FFA15A\",\"#19d3f3\",\"#FF6692\",\"#B6E880\",\"#FF97FF\",\"#FECB52\"],\"font\":{\"color\":\"#2a3f5f\"},\"hovermode\":\"closest\",\"hoverlabel\":{\"align\":\"left\"},\"paper_bgcolor\":\"white\",\"plot_bgcolor\":\"#E5ECF6\",\"polar\":{\"bgcolor\":\"#E5ECF6\",\"angularaxis\":{\"gridcolor\":\"white\",\"linecolor\":\"white\",\"ticks\":\"\"},\"radialaxis\":{\"gridcolor\":\"white\",\"linecolor\":\"white\",\"ticks\":\"\"}},\"ternary\":{\"bgcolor\":\"#E5ECF6\",\"aaxis\":{\"gridcolor\":\"white\",\"linecolor\":\"white\",\"ticks\":\"\"},\"baxis\":{\"gridcolor\":\"white\",\"linecolor\":\"white\",\"ticks\":\"\"},\"caxis\":{\"gridcolor\":\"white\",\"linecolor\":\"white\",\"ticks\":\"\"}},\"coloraxis\":{\"colorbar\":{\"outlinewidth\":0,\"ticks\":\"\"}},\"colorscale\":{\"sequential\":[[0.0,\"#0d0887\"],[0.1111111111111111,\"#46039f\"],[0.2222222222222222,\"#7201a8\"],[0.3333333333333333,\"#9c179e\"],[0.4444444444444444,\"#bd3786\"],[0.5555555555555556,\"#d8576b\"],[0.6666666666666666,\"#ed7953\"],[0.7777777777777778,\"#fb9f3a\"],[0.8888888888888888,\"#fdca26\"],[1.0,\"#f0f921\"]],\"sequentialminus\":[[0.0,\"#0d0887\"],[0.1111111111111111,\"#46039f\"],[0.2222222222222222,\"#7201a8\"],[0.3333333333333333,\"#9c179e\"],[0.4444444444444444,\"#bd3786\"],[0.5555555555555556,\"#d8576b\"],[0.6666666666666666,\"#ed7953\"],[0.7777777777777778,\"#fb9f3a\"],[0.8888888888888888,\"#fdca26\"],[1.0,\"#f0f921\"]],\"diverging\":[[0,\"#8e0152\"],[0.1,\"#c51b7d\"],[0.2,\"#de77ae\"],[0.3,\"#f1b6da\"],[0.4,\"#fde0ef\"],[0.5,\"#f7f7f7\"],[0.6,\"#e6f5d0\"],[0.7,\"#b8e186\"],[0.8,\"#7fbc41\"],[0.9,\"#4d9221\"],[1,\"#276419\"]]},\"xaxis\":{\"gridcolor\":\"white\",\"linecolor\":\"white\",\"ticks\":\"\",\"title\":{\"standoff\":15},\"zerolinecolor\":\"white\",\"automargin\":true,\"zerolinewidth\":2},\"yaxis\":{\"gridcolor\":\"white\",\"linecolor\":\"white\",\"ticks\":\"\",\"title\":{\"standoff\":15},\"zerolinecolor\":\"white\",\"automargin\":true,\"zerolinewidth\":2},\"scene\":{\"xaxis\":{\"backgroundcolor\":\"#E5ECF6\",\"gridcolor\":\"white\",\"linecolor\":\"white\",\"showbackground\":true,\"ticks\":\"\",\"zerolinecolor\":\"white\",\"gridwidth\":2},\"yaxis\":{\"backgroundcolor\":\"#E5ECF6\",\"gridcolor\":\"white\",\"linecolor\":\"white\",\"showbackground\":true,\"ticks\":\"\",\"zerolinecolor\":\"white\",\"gridwidth\":2},\"zaxis\":{\"backgroundcolor\":\"#E5ECF6\",\"gridcolor\":\"white\",\"linecolor\":\"white\",\"showbackground\":true,\"ticks\":\"\",\"zerolinecolor\":\"white\",\"gridwidth\":2}},\"shapedefaults\":{\"line\":{\"color\":\"#2a3f5f\"}},\"annotationdefaults\":{\"arrowcolor\":\"#2a3f5f\",\"arrowhead\":0,\"arrowwidth\":1},\"geo\":{\"bgcolor\":\"white\",\"landcolor\":\"#E5ECF6\",\"subunitcolor\":\"white\",\"showland\":true,\"showlakes\":true,\"lakecolor\":\"white\"},\"title\":{\"x\":0.05},\"mapbox\":{\"style\":\"light\"}}},\"polar\":{\"radialaxis\":{\"visible\":true,\"range\":[0,1]}},\"showlegend\":true},                        {\"responsive\": true}                    ).then(function(){\n",
       "                            \n",
       "var gd = document.getElementById('e7f8cea1-cca8-4413-ac6f-4a9fcbfbe8ca');\n",
       "var x = new MutationObserver(function (mutations, observer) {{\n",
       "        var display = window.getComputedStyle(gd).display;\n",
       "        if (!display || display === 'none') {{\n",
       "            console.log([gd, 'removed!']);\n",
       "            Plotly.purge(gd);\n",
       "            observer.disconnect();\n",
       "        }}\n",
       "}});\n",
       "\n",
       "// Listen for the removal of the full notebook cells\n",
       "var notebookContainer = gd.closest('#notebook-container');\n",
       "if (notebookContainer) {{\n",
       "    x.observe(notebookContainer, {childList: true});\n",
       "}}\n",
       "\n",
       "// Listen for the clearing of the current output cell\n",
       "var outputEl = gd.closest('.output');\n",
       "if (outputEl) {{\n",
       "    x.observe(outputEl, {childList: true});\n",
       "}}\n",
       "\n",
       "                        })                };                });            </script>        </div>"
      ]
     },
     "metadata": {},
     "output_type": "display_data"
    }
   ],
   "source": [
    "categories = filt_olist['category']\n",
    "\n",
    "fig = go.Figure()\n",
    "\n",
    "fig.add_trace(go.Scatterpolar(\n",
    "    r=filt_olist['sentiment'],\n",
    "    theta=categories,\n",
    "    name='Original Dataset',\n",
    "))\n",
    "\n",
    "fig.add_trace(go.Scatterpolar(\n",
    "    r=translated_revs['sentiment'],\n",
    "    theta=categories,\n",
    "    name='External Data',\n",
    "))\n",
    "\n",
    "fig.update_layout(\n",
    "    polar=dict(\n",
    "        radialaxis=dict(\n",
    "            visible=True,\n",
    "            range=[0,1]\n",
    "        )),\n",
    "        showlegend=True\n",
    ")\n",
    "\n",
    "fig.show()\n"
   ]
  },
  {
   "cell_type": "code",
   "execution_count": 54,
   "metadata": {},
   "outputs": [
    {
     "name": "stdout",
     "output_type": "stream",
     "text": [
      "Max diff:  0.383375180772063\n",
      "Min diff:  0.10258108542068078\n",
      "prom diff:  0.21403639351313214\n"
     ]
    }
   ],
   "source": [
    "diff_btew_categories = translated_revs['sentiment'] - filt_olist['sentiment']\n",
    "print('Max diff: ', diff_btew_categories.max())\n",
    "print('Min diff: ', diff_btew_categories.min())\n",
    "print('prom diff: ', diff_btew_categories.mean())"
   ]
  }
 ],
 "metadata": {
  "kernelspec": {
   "display_name": "Python 3.9.7 ('venv': venv)",
   "language": "python",
   "name": "python3"
  },
  "language_info": {
   "codemirror_mode": {
    "name": "ipython",
    "version": 3
   },
   "file_extension": ".py",
   "mimetype": "text/x-python",
   "name": "python",
   "nbconvert_exporter": "python",
   "pygments_lexer": "ipython3",
   "version": "3.9.7"
  },
  "orig_nbformat": 4,
  "vscode": {
   "interpreter": {
    "hash": "d3a88b37a52961d128d8f29d06055f3d5984f8b96a8f4c4d1b79f07933266ed9"
   }
  }
 },
 "nbformat": 4,
 "nbformat_minor": 2
}
