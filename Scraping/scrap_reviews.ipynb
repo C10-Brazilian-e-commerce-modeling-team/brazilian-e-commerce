{
 "cells": [
  {
   "cell_type": "markdown",
   "metadata": {},
   "source": [
    "### get link products\n",
    "//*[@id=\"root-app\"]/div/div/section/ol/li/div/div/a/@href\n",
    "#### Product name\n",
    "//*[@id=\"root-app\"]/div/div/div/div/div/div/div/div/div/div/h1/text()\n",
    "#### get link reviews\n",
    "//*[@id=\"root-app\"]/div/div/div/div/div/div/div/div/section/a/@href\n",
    "##### Stars\n",
    "//*[@id=\"reviews-capability.desktop\"]/section/div/div/div/div/div/article/div/label/text()\n",
    "##### review\n",
    "//*[@id=\"reviews-capability.desktop\"]/section/div/div/div/div/div/article/p/text()\n",
    "### get next page link\n",
    "//*[@id=\"root-app\"]/div/div/section/div/ul/li/a/@href"
   ]
  },
  {
   "cell_type": "code",
   "execution_count": 1,
   "metadata": {},
   "outputs": [],
   "source": [
    "import re\n",
    "import json\n",
    "import pandas as pd\n",
    "import requests\n",
    "import lxml.html as html\n",
    "from lxml.html import parse"
   ]
  },
  {
   "cell_type": "code",
   "execution_count": null,
   "metadata": {},
   "outputs": [],
   "source": [
    "# false=False\n",
    "# #reviews = {\"reviews\":[{\"id\":119999076,\"type\":\"REVIEW\",\"rating\":5,\"title\":{\"text\":\"excelente qualidade \",\"class_name\":\"ui-review-view__comments__review-comment__title\"},\"comment\":{\"content\":{\"text\":\"De muito  boa qualidade, maciez.\",\"class_name\":\"ui-review-view__comments__review-comment\",\"see_more\":\"Ver mais\"},\"time\":{\"text\":\"Há 7 meses\",\"class_name\":\"ui-review-view__comments__review-comment__date\"},\"denounce\":{\"text\":\"Denunciar\",\"url\":\"/noindex/denounce/?item_id=MLB1843940373&element_id=119999076&element_type=REV\",\"track\":{\"event_data\":{\"catalog_product_id\":\"MLB16084355\",\"review_id\":119999076,\"type\":\"denounce\"},\"path\":\"/reviews/actions\"},\"class_name\":\"ui-review-view__comments__review-comment-denunce\"}},\"actions\":[{\"id\":\"LIKE\",\"type\":\"LIKE\",\"value\":0,\"track\":{\"event_data\":{\"catalog_product_id\":\"MLB16084355\",\"review_id\":119999076,\"type\":\"like\"},\"path\":\"/reviews/actions\"},\"icon\":{\"empty_icon\":\"ThumbUpOutlined\",\"full_icon\":\"ThumbUpFillled\"},\"selected\":false},{\"id\":\"DISLIKE\",\"type\":\"DISLIKE\",\"value\":0,\"track\":{\"event_data\":{\"catalog_product_id\":\"MLB16084355\",\"review_id\":119999076,\"type\":\"dislike\"},\"path\":\"/reviews/actions\"},\"icon\":{\"empty_icon\":\"ThumbUpOutlined\",\"full_icon\":\"ThumbUpFillled\"},\"selected\":false}]}]}\n",
    "# reviews = {\"reviews\":[]}\n",
    "# reviews[\"reviews\"][0][\"id\"]"
   ]
  },
  {
   "cell_type": "code",
   "execution_count": 2,
   "metadata": {},
   "outputs": [
    {
     "data": {
      "text/plain": [
       "200"
      ]
     },
     "execution_count": 2,
     "metadata": {},
     "output_type": "execute_result"
    }
   ],
   "source": [
    "response = requests.get(\"https://lista.mercadolivre.com.br/casa-moveis-decoracao/\")\n",
    "response.status_code"
   ]
  },
  {
   "cell_type": "code",
   "execution_count": 41,
   "metadata": {},
   "outputs": [],
   "source": [
    "home = response.content.decode('utf-8')\n",
    "parsed = html.fromstring(home)\n",
    "\n",
    "all_links = parsed.xpath('//*[@id=\"root-app\"]/div/div/section/ol/li/div/div/a/@href')"
   ]
  },
  {
   "cell_type": "code",
   "execution_count": 42,
   "metadata": {},
   "outputs": [
    {
     "data": {
      "text/plain": [
       "48"
      ]
     },
     "execution_count": 42,
     "metadata": {},
     "output_type": "execute_result"
    }
   ],
   "source": [
    "len(all_links)"
   ]
  },
  {
   "cell_type": "code",
   "execution_count": 5,
   "metadata": {},
   "outputs": [],
   "source": [
    "from lxml import etree"
   ]
  },
  {
   "cell_type": "code",
   "execution_count": 23,
   "metadata": {},
   "outputs": [
    {
     "name": "stdout",
     "output_type": "stream",
     "text": [
      "200\n",
      "{'reviews': [{'id': 100970975, 'type': 'REVIEW', 'rating': 5, 'title': {'text': 'excelente', 'class_name': 'ui-review-view__comments__review-comment__title'}, 'comment': {'content': {'text': 'Sou suspeito para falar. Estou sempre comprando esse e outros produtos. Recebo na comodidade do lar. Excelente, recomendo a todos!.', 'class_name': 'ui-review-view__comments__review-comment', 'see_more': 'Ver mais'}, 'time': {'text': 'Mais de 1 ano', 'class_name': 'ui-review-view__comments__review-comment__date'}, 'denounce': {'text': 'Denunciar', 'url': '/noindex/denounce/?item_id=MLB1607106633&element_id=100970975&element_type=REV', 'track': {'event_data': {'catalog_product_id': 'MLB18392104', 'review_id': 100970975, 'type': 'denounce'}, 'path': '/reviews/actions'}, 'class_name': 'ui-review-view__comments__review-comment-denunce'}}, 'actions': [{'id': 'LIKE', 'type': 'LIKE', 'value': 3, 'track': {'event_data': {'catalog_product_id': 'MLB18392104', 'review_id': 100970975, 'type': 'like'}, 'path': '/reviews/actions'}, 'icon': {'empty_icon': 'ThumbUpOutlined', 'full_icon': 'ThumbUpFillled'}, 'selected': False}, {'id': 'DISLIKE', 'type': 'DISLIKE', 'value': 0, 'track': {'event_data': {'catalog_product_id': 'MLB18392104', 'review_id': 100970975, 'type': 'dislike'}, 'path': '/reviews/actions'}, 'icon': {'empty_icon': 'ThumbUpOutlined', 'full_icon': 'ThumbUpFillled'}, 'selected': False}]}]}\n"
     ]
    }
   ],
   "source": [
    "page_reviews = 'https://www.mercadolivre.com.br/noindex/catalog/reviews/MLB{}/scroll?siteId=MLB&type=all&isItem=false&offset={}&limit=1'\n",
    "\n",
    "product_id = product_id = re.search(\"/MLB-?(\\d{4,})\", all_links[1])\n",
    "\n",
    "product_reviews = page_reviews.format(product_id.group(1), 0)\n",
    "product_request = requests.get(product_reviews)\n",
    "print(product_request.status_code)\n",
    "product_content = product_request.content\n",
    "product_parsed = html.fromstring(product_content)\n",
    "reviews = product_parsed.xpath('/html/body/p/text()')\n",
    "reviews_json = json.loads(reviews[0])\n",
    "print(reviews_json)\n"
   ]
  },
  {
   "cell_type": "code",
   "execution_count": 36,
   "metadata": {},
   "outputs": [
    {
     "data": {
      "text/plain": [
       "5"
      ]
     },
     "execution_count": 36,
     "metadata": {},
     "output_type": "execute_result"
    }
   ],
   "source": [
    "# title = reviews_json[\"reviews\"][0][\"title\"][\"text\"]\n",
    "# coments = reviews_json[\"reviews\"][0][\"comment\"][\"content\"][\"text\"]\n",
    "# rating = reviews_json[\"reviews\"][0][\"rating\"]"
   ]
  },
  {
   "cell_type": "code",
   "execution_count": 45,
   "metadata": {},
   "outputs": [
    {
     "name": "stdout",
     "output_type": "stream",
     "text": [
      "***************\n",
      "https://www.mercadolivre.com.br/noindex/catalog/reviews/MLB18029521/scroll?siteId=MLB&type=all&isItem=false&offset=0&limit=1\n",
      "200\n",
      "{'reviews': [{'id': 141325153, 'type': 'REVIEW', 'rating': 5, 'title': {'text': 'ótima relação custo x benefício.', 'class_name': 'ui-review-view__comments__review-comment__title'}, 'comment': {'content': {'text': 'Excelente produto. Uso para tudo em casa. Até para limpar vidro, porque não solta fiapo.', 'class_name': 'ui-review-view__comments__review-comment', 'see_more': 'Ver mais'}, 'time': {'text': 'Há 21 dias', 'class_name': 'ui-review-view__comments__review-comment__date'}, 'denounce': {'text': 'Denunciar', 'url': '/noindex/denounce/?item_id=MLB2169942311&element_id=141325153&element_type=REV', 'track': {'event_data': {'catalog_product_id': 'MLB18029521', 'review_id': 141325153, 'type': 'denounce'}, 'path': '/reviews/actions'}, 'class_name': 'ui-review-view__comments__review-comment-denunce'}}, 'actions': [{'id': 'LIKE', 'type': 'LIKE', 'value': 0, 'track': {'event_data': {'catalog_product_id': 'MLB18029521', 'review_id': 141325153, 'type': 'like'}, 'path': '/reviews/actions'}, 'icon': {'empty_icon': 'ThumbUpOutlined', 'full_icon': 'ThumbUpFillled'}, 'selected': False}, {'id': 'DISLIKE', 'type': 'DISLIKE', 'value': 0, 'track': {'event_data': {'catalog_product_id': 'MLB18029521', 'review_id': 141325153, 'type': 'dislike'}, 'path': '/reviews/actions'}, 'icon': {'empty_icon': 'ThumbUpOutlined', 'full_icon': 'ThumbUpFillled'}, 'selected': False}]}]}\n",
      "***************\n",
      "***************\n",
      "https://www.mercadolivre.com.br/noindex/catalog/reviews/MLB18392104/scroll?siteId=MLB&type=all&isItem=false&offset=0&limit=1\n",
      "200\n",
      "{'reviews': [{'id': 100970975, 'type': 'REVIEW', 'rating': 5, 'title': {'text': 'excelente', 'class_name': 'ui-review-view__comments__review-comment__title'}, 'comment': {'content': {'text': 'Sou suspeito para falar. Estou sempre comprando esse e outros produtos. Recebo na comodidade do lar. Excelente, recomendo a todos!.', 'class_name': 'ui-review-view__comments__review-comment', 'see_more': 'Ver mais'}, 'time': {'text': 'Mais de 1 ano', 'class_name': 'ui-review-view__comments__review-comment__date'}, 'denounce': {'text': 'Denunciar', 'url': '/noindex/denounce/?item_id=MLB1607106633&element_id=100970975&element_type=REV', 'track': {'event_data': {'catalog_product_id': 'MLB18392104', 'review_id': 100970975, 'type': 'denounce'}, 'path': '/reviews/actions'}, 'class_name': 'ui-review-view__comments__review-comment-denunce'}}, 'actions': [{'id': 'LIKE', 'type': 'LIKE', 'value': 3, 'track': {'event_data': {'catalog_product_id': 'MLB18392104', 'review_id': 100970975, 'type': 'like'}, 'path': '/reviews/actions'}, 'icon': {'empty_icon': 'ThumbUpOutlined', 'full_icon': 'ThumbUpFillled'}, 'selected': False}, {'id': 'DISLIKE', 'type': 'DISLIKE', 'value': 0, 'track': {'event_data': {'catalog_product_id': 'MLB18392104', 'review_id': 100970975, 'type': 'dislike'}, 'path': '/reviews/actions'}, 'icon': {'empty_icon': 'ThumbUpOutlined', 'full_icon': 'ThumbUpFillled'}, 'selected': False}]}]}\n",
      "***************\n",
      "***************\n",
      "https://www.mercadolivre.com.br/noindex/catalog/reviews/MLB930924746/scroll?siteId=MLB&type=all&isItem=false&offset=0&limit=1\n",
      "404\n",
      "***************\n",
      "https://www.mercadolivre.com.br/noindex/catalog/reviews/MLB15585831/scroll?siteId=MLB&type=all&isItem=false&offset=0&limit=1\n",
      "200\n",
      "{'reviews': [{'id': 71603720, 'type': 'REVIEW', 'rating': 5, 'title': {'text': 'ótimo custo beneficio.', 'class_name': 'ui-review-view__comments__review-comment__title'}, 'comment': {'content': {'text': 'Me surpreendi muito com o produto. É feito com ótimo material e tem bom acabamento. Tem algumas partes em plástico cromado, mas nada que atrapalhe o visual ou o uso. Esteticamente passa sensação de produto de preço superior. Para mim, o único ponto negativo é o fato de que o chuveirinho não tem trava quando aberto, é preciso ficar segurando o gatilho para utiliza-lo.', 'class_name': 'ui-review-view__comments__review-comment', 'see_more': 'Ver mais'}, 'time': {'text': 'Mais de 1 ano', 'class_name': 'ui-review-view__comments__review-comment__date'}, 'denounce': {'text': 'Denunciar', 'url': '/noindex/denounce/?item_id=MLB1134191056&element_id=71603720&element_type=REV', 'track': {'event_data': {'catalog_product_id': 'MLB15585831', 'review_id': 71603720, 'type': 'denounce'}, 'path': '/reviews/actions'}, 'class_name': 'ui-review-view__comments__review-comment-denunce'}}, 'actions': [{'id': 'LIKE', 'type': 'LIKE', 'value': 20, 'track': {'event_data': {'catalog_product_id': 'MLB15585831', 'review_id': 71603720, 'type': 'like'}, 'path': '/reviews/actions'}, 'icon': {'empty_icon': 'ThumbUpOutlined', 'full_icon': 'ThumbUpFillled'}, 'selected': False}, {'id': 'DISLIKE', 'type': 'DISLIKE', 'value': 9, 'track': {'event_data': {'catalog_product_id': 'MLB15585831', 'review_id': 71603720, 'type': 'dislike'}, 'path': '/reviews/actions'}, 'icon': {'empty_icon': 'ThumbUpOutlined', 'full_icon': 'ThumbUpFillled'}, 'selected': False}]}]}\n",
      "***************\n",
      "***************\n",
      "https://www.mercadolivre.com.br/noindex/catalog/reviews/MLB1967433509/scroll?siteId=MLB&type=all&isItem=false&offset=0&limit=1\n",
      "404\n",
      "***************\n",
      "https://www.mercadolivre.com.br/noindex/catalog/reviews/MLB13300542/scroll?siteId=MLB&type=all&isItem=false&offset=0&limit=1\n",
      "200\n",
      "{'reviews': [{'id': 44542160, 'type': 'REVIEW', 'rating': 4, 'title': {'text': 'boa torneira. compraria novamente.', 'class_name': 'ui-review-view__comments__review-comment__title'}, 'comment': {'content': {'text': 'Boa torneira. Indico a compra. Só o cano flexível poderia ser mais longo, isso evitaria, por exemplo, rebaixar o encanamento da parede que foi feito pra instalar torneira comum. Mas muito boa a torneira. Compraria novamente.', 'class_name': 'ui-review-view__comments__review-comment', 'see_more': 'Ver mais'}, 'time': {'text': 'Mais de 2 anos', 'class_name': 'ui-review-view__comments__review-comment__date'}, 'denounce': {'text': 'Denunciar', 'url': '/noindex/denounce/?item_id=MLB1177169949&element_id=44542160&element_type=REV', 'track': {'event_data': {'catalog_product_id': 'MLB13300542', 'review_id': 44542160, 'type': 'denounce'}, 'path': '/reviews/actions'}, 'class_name': 'ui-review-view__comments__review-comment-denunce'}}, 'actions': [{'id': 'LIKE', 'type': 'LIKE', 'value': 22, 'track': {'event_data': {'catalog_product_id': 'MLB13300542', 'review_id': 44542160, 'type': 'like'}, 'path': '/reviews/actions'}, 'icon': {'empty_icon': 'ThumbUpOutlined', 'full_icon': 'ThumbUpFillled'}, 'selected': False}, {'id': 'DISLIKE', 'type': 'DISLIKE', 'value': 3, 'track': {'event_data': {'catalog_product_id': 'MLB13300542', 'review_id': 44542160, 'type': 'dislike'}, 'path': '/reviews/actions'}, 'icon': {'empty_icon': 'ThumbUpOutlined', 'full_icon': 'ThumbUpFillled'}, 'selected': False}]}]}\n",
      "***************\n",
      "***************\n",
      "https://www.mercadolivre.com.br/noindex/catalog/reviews/MLB2027235685/scroll?siteId=MLB&type=all&isItem=false&offset=0&limit=1\n",
      "404\n",
      "***************\n",
      "https://www.mercadolivre.com.br/noindex/catalog/reviews/MLB18420863/scroll?siteId=MLB&type=all&isItem=false&offset=0&limit=1\n",
      "200\n",
      "{'reviews': [], 'message': {'type': 'error', 'title': 'Não há nada aqui!', 'subtitle': 'Este produto ainda não tem opiniões negativas.'}}\n",
      "***************\n",
      "***************\n",
      "https://www.mercadolivre.com.br/noindex/catalog/reviews/MLB18420707/scroll?siteId=MLB&type=all&isItem=false&offset=0&limit=1\n",
      "200\n",
      "{'reviews': [], 'message': {'type': 'error', 'title': 'Não há nada aqui!', 'subtitle': 'Este produto ainda não tem opiniões negativas.'}}\n",
      "***************\n",
      "***************\n",
      "https://www.mercadolivre.com.br/noindex/catalog/reviews/MLB1636057077/scroll?siteId=MLB&type=all&isItem=false&offset=0&limit=1\n",
      "404\n",
      "***************\n",
      "https://www.mercadolivre.com.br/noindex/catalog/reviews/MLB15592634/scroll?siteId=MLB&type=all&isItem=false&offset=0&limit=1\n",
      "200\n",
      "{'reviews': [{'id': 84505415, 'type': 'REVIEW', 'rating': 5, 'title': {'text': 'otimo custo benefício e produto bonito.', 'class_name': 'ui-review-view__comments__review-comment__title'}, 'comment': {'content': {'text': 'Ótimo produto custo benefício,com 3 meses de uso não apresenta nenhum problema, tanto como de funcionalidade ,como estético. Sua parte cromada ,não descascou nem tem aparência de opaca,está como nova e isso vale pra parte revestida com silicone,na minha casa está instalada direto na rede de água da rua e tem uma vazão perfeita,produto bonito que dá outra cara em qualquer lugar que vc pretende instalar,recomendo.', 'class_name': 'ui-review-view__comments__review-comment', 'see_more': 'Ver mais'}, 'time': {'text': 'Mais de 1 ano', 'class_name': 'ui-review-view__comments__review-comment__date'}, 'denounce': {'text': 'Denunciar', 'url': '/noindex/denounce/?item_id=MLB1030911772&element_id=84505415&element_type=REV', 'track': {'event_data': {'catalog_product_id': 'MLB15592634', 'review_id': 84505415, 'type': 'denounce'}, 'path': '/reviews/actions'}, 'class_name': 'ui-review-view__comments__review-comment-denunce'}}, 'actions': [{'id': 'LIKE', 'type': 'LIKE', 'value': 11, 'track': {'event_data': {'catalog_product_id': 'MLB15592634', 'review_id': 84505415, 'type': 'like'}, 'path': '/reviews/actions'}, 'icon': {'empty_icon': 'ThumbUpOutlined', 'full_icon': 'ThumbUpFillled'}, 'selected': False}, {'id': 'DISLIKE', 'type': 'DISLIKE', 'value': 37, 'track': {'event_data': {'catalog_product_id': 'MLB15592634', 'review_id': 84505415, 'type': 'dislike'}, 'path': '/reviews/actions'}, 'icon': {'empty_icon': 'ThumbUpOutlined', 'full_icon': 'ThumbUpFillled'}, 'selected': False}]}]}\n",
      "***************\n",
      "***************\n",
      "https://www.mercadolivre.com.br/noindex/catalog/reviews/MLB18308811/scroll?siteId=MLB&type=all&isItem=false&offset=0&limit=1\n",
      "200\n",
      "{'reviews': [], 'message': {'type': 'error', 'title': 'Não há nada aqui!', 'subtitle': 'Este produto ainda não tem opiniões negativas.'}}\n",
      "***************\n",
      "***************\n",
      "https://www.mercadolivre.com.br/noindex/catalog/reviews/MLB1623271252/scroll?siteId=MLB&type=all&isItem=false&offset=0&limit=1\n",
      "404\n",
      "***************\n",
      "https://www.mercadolivre.com.br/noindex/catalog/reviews/MLB17919615/scroll?siteId=MLB&type=all&isItem=false&offset=0&limit=1\n",
      "200\n",
      "{'reviews': [{'id': 95800513, 'type': 'REVIEW', 'rating': 5, 'title': {'text': 'muito bom . qualidade perfeita', 'class_name': 'ui-review-view__comments__review-comment__title'}, 'comment': {'content': {'text': 'Muito bom, já  conhecia,  produto de primeira qualidade como todos da scott mesmo sendo mais caros. Perfeito custo benefício.', 'class_name': 'ui-review-view__comments__review-comment', 'see_more': 'Ver mais'}, 'time': {'text': 'Mais de 1 ano', 'class_name': 'ui-review-view__comments__review-comment__date'}, 'denounce': {'text': 'Denunciar', 'url': '/noindex/denounce/?item_id=MLB1615754398&element_id=95800513&element_type=REV', 'track': {'event_data': {'catalog_product_id': 'MLB17919615', 'review_id': 95800513, 'type': 'denounce'}, 'path': '/reviews/actions'}, 'class_name': 'ui-review-view__comments__review-comment-denunce'}}, 'actions': [{'id': 'LIKE', 'type': 'LIKE', 'value': 0, 'track': {'event_data': {'catalog_product_id': 'MLB17919615', 'review_id': 95800513, 'type': 'like'}, 'path': '/reviews/actions'}, 'icon': {'empty_icon': 'ThumbUpOutlined', 'full_icon': 'ThumbUpFillled'}, 'selected': False}, {'id': 'DISLIKE', 'type': 'DISLIKE', 'value': 0, 'track': {'event_data': {'catalog_product_id': 'MLB17919615', 'review_id': 95800513, 'type': 'dislike'}, 'path': '/reviews/actions'}, 'icon': {'empty_icon': 'ThumbUpOutlined', 'full_icon': 'ThumbUpFillled'}, 'selected': False}]}]}\n",
      "***************\n",
      "***************\n",
      "https://www.mercadolivre.com.br/noindex/catalog/reviews/MLB13386913/scroll?siteId=MLB&type=all&isItem=false&offset=0&limit=1\n",
      "200\n",
      "{'reviews': [{'id': 51035887, 'type': 'REVIEW', 'rating': 5, 'title': {'text': 'ótimo, perfeito design', 'class_name': 'ui-review-view__comments__review-comment__title'}, 'comment': {'content': {'text': 'Ótimo produto, linda sem defeitos e olha que a água na minha casa tem baixa pressão e ainda assim funcionou super bem!.', 'class_name': 'ui-review-view__comments__review-comment', 'see_more': 'Ver mais'}, 'time': {'text': 'Mais de 2 anos', 'class_name': 'ui-review-view__comments__review-comment__date'}, 'denounce': {'text': 'Denunciar', 'url': '/noindex/denounce/?item_id=MLB1089708514&element_id=51035887&element_type=REV', 'track': {'event_data': {'catalog_product_id': 'MLB13386913', 'review_id': 51035887, 'type': 'denounce'}, 'path': '/reviews/actions'}, 'class_name': 'ui-review-view__comments__review-comment-denunce'}}, 'actions': [{'id': 'LIKE', 'type': 'LIKE', 'value': 7, 'track': {'event_data': {'catalog_product_id': 'MLB13386913', 'review_id': 51035887, 'type': 'like'}, 'path': '/reviews/actions'}, 'icon': {'empty_icon': 'ThumbUpOutlined', 'full_icon': 'ThumbUpFillled'}, 'selected': False}, {'id': 'DISLIKE', 'type': 'DISLIKE', 'value': 0, 'track': {'event_data': {'catalog_product_id': 'MLB13386913', 'review_id': 51035887, 'type': 'dislike'}, 'path': '/reviews/actions'}, 'icon': {'empty_icon': 'ThumbUpOutlined', 'full_icon': 'ThumbUpFillled'}, 'selected': False}]}]}\n",
      "***************\n",
      "***************\n",
      "https://www.mercadolivre.com.br/noindex/catalog/reviews/MLB1676558657/scroll?siteId=MLB&type=all&isItem=false&offset=0&limit=1\n",
      "404\n",
      "***************\n",
      "https://www.mercadolivre.com.br/noindex/catalog/reviews/MLB1849643295/scroll?siteId=MLB&type=all&isItem=false&offset=0&limit=1\n",
      "404\n",
      "***************\n",
      "https://www.mercadolivre.com.br/noindex/catalog/reviews/MLB18029523/scroll?siteId=MLB&type=all&isItem=false&offset=0&limit=1\n",
      "200\n",
      "{'reviews': [{'id': 94117884, 'type': 'REVIEW', 'rating': 4, 'title': {'text': 'quase igual ao snob normal, que é bem bom', 'class_name': 'ui-review-view__comments__review-comment__title'}, 'comment': {'content': {'text': 'Bom produto, mas tem melhor. Não achei tão diferente assim no snob comum. Ainda assim, gosto do custo beneficio.', 'class_name': 'ui-review-view__comments__review-comment', 'see_more': 'Ver mais'}, 'time': {'text': 'Mais de 1 ano', 'class_name': 'ui-review-view__comments__review-comment__date'}, 'denounce': {'text': 'Denunciar', 'url': '/noindex/denounce/?item_id=MLB1594246677&element_id=94117884&element_type=REV', 'track': {'event_data': {'catalog_product_id': 'MLB18029523', 'review_id': 94117884, 'type': 'denounce'}, 'path': '/reviews/actions'}, 'class_name': 'ui-review-view__comments__review-comment-denunce'}}, 'actions': [{'id': 'LIKE', 'type': 'LIKE', 'value': 0, 'track': {'event_data': {'catalog_product_id': 'MLB18029523', 'review_id': 94117884, 'type': 'like'}, 'path': '/reviews/actions'}, 'icon': {'empty_icon': 'ThumbUpOutlined', 'full_icon': 'ThumbUpFillled'}, 'selected': False}, {'id': 'DISLIKE', 'type': 'DISLIKE', 'value': 0, 'track': {'event_data': {'catalog_product_id': 'MLB18029523', 'review_id': 94117884, 'type': 'dislike'}, 'path': '/reviews/actions'}, 'icon': {'empty_icon': 'ThumbUpOutlined', 'full_icon': 'ThumbUpFillled'}, 'selected': False}]}]}\n",
      "***************\n",
      "***************\n",
      "https://www.mercadolivre.com.br/noindex/catalog/reviews/MLB17411744/scroll?siteId=MLB&type=all&isItem=false&offset=0&limit=1\n",
      "200\n",
      "{'reviews': [{'id': 125895483, 'type': 'REVIEW', 'rating': 1, 'title': {'text': 'muito ruim', 'class_name': 'ui-review-view__comments__review-comment__title'}, 'comment': {'content': {'text': 'Horrível, não recomendo!!!. O barato saiu caro! apesar do preço das cadeiras terem aumentado na pandemia, vale a pena investir um pouco mais em uma cadeira melhor. No primeiro momento, fiquei decepcionada com a qualidade do material, montagem toda defeituosa, sem alinhamento, difícil, etc. Mas por ser uma das mais baratas que achei, não posso exigir muito. Mas agora, uma semana de uso, percebi que joguei meu dinheiro no lixo! já está torta, rangendo muito e uma das rodinhas não giram e acredito que seja por isso que uma delas quebrou ontem. Ajuste de altura é de 5cm (quase não muda a altura), encosto só pra lombar, o que força um pouco as costas e já estou começando a sentir dores por conta disso. Não caia nessa!.', 'class_name': 'ui-review-view__comments__review-comment', 'see_more': 'Ver mais'}, 'time': {'text': 'Há 5 meses', 'class_name': 'ui-review-view__comments__review-comment__date'}, 'denounce': {'text': 'Denunciar', 'url': '/noindex/denounce/?item_id=MLB2014811282&element_id=125895483&element_type=REV', 'track': {'event_data': {'catalog_product_id': 'MLB17411744', 'review_id': 125895483, 'type': 'denounce'}, 'path': '/reviews/actions'}, 'class_name': 'ui-review-view__comments__review-comment-denunce'}}, 'actions': [{'id': 'LIKE', 'type': 'LIKE', 'value': 48, 'track': {'event_data': {'catalog_product_id': 'MLB17411744', 'review_id': 125895483, 'type': 'like'}, 'path': '/reviews/actions'}, 'icon': {'empty_icon': 'ThumbUpOutlined', 'full_icon': 'ThumbUpFillled'}, 'selected': False}, {'id': 'DISLIKE', 'type': 'DISLIKE', 'value': 18, 'track': {'event_data': {'catalog_product_id': 'MLB17411744', 'review_id': 125895483, 'type': 'dislike'}, 'path': '/reviews/actions'}, 'icon': {'empty_icon': 'ThumbUpOutlined', 'full_icon': 'ThumbUpFillled'}, 'selected': False}]}]}\n",
      "***************\n",
      "***************\n",
      "https://www.mercadolivre.com.br/noindex/catalog/reviews/MLB949869500/scroll?siteId=MLB&type=all&isItem=false&offset=0&limit=1\n",
      "404\n",
      "***************\n",
      "https://www.mercadolivre.com.br/noindex/catalog/reviews/MLB10494286/scroll?siteId=MLB&type=all&isItem=false&offset=0&limit=1\n",
      "200\n",
      "{'reviews': [{'id': 40648797, 'type': 'REVIEW', 'rating': 5, 'title': {'text': 'a cadeira do ceo gordinho', 'class_name': 'ui-review-view__comments__review-comment__title'}, 'comment': {'content': {'text': 'Excelente cadeira. Pesquisei muito, fui em lojas especializadas da região. Achei que pelo meu peso (112kg) teria que recorrer a uma cadeira gamer caríssima, mas por sorte achei a pel-8009 da pelegrin. Em 15 minutos eu montei ela, sem nenhuma dificuldade, me serve bem, boa posição, boa postura, sem ruídos, sem barulho. Muito li e vi na internet sobre ela ser barulhenta, parecer frágil, mas é só saber usar o produto e montá-lo que você não terá problemas. Já estou a pouco mais de 1 semana com o produto, uso intensivo (fora meus exorbitantes 112kg de pura gordura). Fico confortável durante 12h de trabalho diário, sem nenhum problema. Recomendadíssimo, pelo preço que paguei, custo benefício excelente, cheguei a sentar em cadeiras 4x mais caras que essa e não tinha o mesmo conforto. Sinto segurança ao estar sentado nela, não parece que vai desmontar. Vamos ver se ela dura pelo menos 1 ano, que é o que eu gostaria no mínimo.', 'class_name': 'ui-review-view__comments__review-comment', 'see_more': 'Ver mais'}, 'time': {'text': 'Mais de 3 anos', 'class_name': 'ui-review-view__comments__review-comment__date'}, 'denounce': {'text': 'Denunciar', 'url': '/noindex/denounce/?item_id=MLB703105977&element_id=40648797&element_type=REV', 'track': {'event_data': {'catalog_product_id': 'MLB10494286', 'review_id': 40648797, 'type': 'denounce'}, 'path': '/reviews/actions'}, 'class_name': 'ui-review-view__comments__review-comment-denunce'}}, 'actions': [{'id': 'LIKE', 'type': 'LIKE', 'value': 533, 'track': {'event_data': {'catalog_product_id': 'MLB10494286', 'review_id': 40648797, 'type': 'like'}, 'path': '/reviews/actions'}, 'icon': {'empty_icon': 'ThumbUpOutlined', 'full_icon': 'ThumbUpFillled'}, 'selected': False}, {'id': 'DISLIKE', 'type': 'DISLIKE', 'value': 30, 'track': {'event_data': {'catalog_product_id': 'MLB10494286', 'review_id': 40648797, 'type': 'dislike'}, 'path': '/reviews/actions'}, 'icon': {'empty_icon': 'ThumbUpOutlined', 'full_icon': 'ThumbUpFillled'}, 'selected': False}]}]}\n",
      "***************\n",
      "***************\n",
      "https://www.mercadolivre.com.br/noindex/catalog/reviews/MLB2029524511/scroll?siteId=MLB&type=all&isItem=false&offset=0&limit=1\n",
      "404\n",
      "***************\n",
      "https://www.mercadolivre.com.br/noindex/catalog/reviews/MLB18391959/scroll?siteId=MLB&type=all&isItem=false&offset=0&limit=1\n",
      "200\n",
      "{'reviews': [], 'message': {'type': 'error', 'title': 'Não há nada aqui!', 'subtitle': 'Este produto ainda não tem opiniões negativas.'}}\n",
      "***************\n",
      "***************\n",
      "https://www.mercadolivre.com.br/noindex/catalog/reviews/MLB16084410/scroll?siteId=MLB&type=all&isItem=false&offset=0&limit=1\n",
      "200\n",
      "{'reviews': [{'id': 31217175, 'type': 'REVIEW', 'rating': 3, 'title': {'text': 'já foi muito bom.', 'class_name': 'ui-review-view__comments__review-comment__title'}, 'comment': {'content': {'text': 'O produto já foi referência de qualidade no mercado. Todavia, atualmente, tenho a impressão de que dentro de um mesmo pacote (mesmo daqueles comprados em supermercados), vêm rolos com texturas de papel distintas. Aquele maciozinho que a gente usava. Nunca mais.', 'class_name': 'ui-review-view__comments__review-comment', 'see_more': 'Ver mais'}, 'time': {'text': 'Mais de 3 anos', 'class_name': 'ui-review-view__comments__review-comment__date'}, 'denounce': {'text': 'Denunciar', 'url': '/noindex/denounce/?item_id=MLB871750233&element_id=31217175&element_type=REV', 'track': {'event_data': {'catalog_product_id': 'MLB16084410', 'review_id': 31217175, 'type': 'denounce'}, 'path': '/reviews/actions'}, 'class_name': 'ui-review-view__comments__review-comment-denunce'}}, 'actions': [{'id': 'LIKE', 'type': 'LIKE', 'value': 6, 'track': {'event_data': {'catalog_product_id': 'MLB16084410', 'review_id': 31217175, 'type': 'like'}, 'path': '/reviews/actions'}, 'icon': {'empty_icon': 'ThumbUpOutlined', 'full_icon': 'ThumbUpFillled'}, 'selected': False}, {'id': 'DISLIKE', 'type': 'DISLIKE', 'value': 0, 'track': {'event_data': {'catalog_product_id': 'MLB16084410', 'review_id': 31217175, 'type': 'dislike'}, 'path': '/reviews/actions'}, 'icon': {'empty_icon': 'ThumbUpOutlined', 'full_icon': 'ThumbUpFillled'}, 'selected': False}]}]}\n",
      "***************\n",
      "***************\n",
      "https://www.mercadolivre.com.br/noindex/catalog/reviews/MLB18392113/scroll?siteId=MLB&type=all&isItem=false&offset=0&limit=1\n",
      "200\n",
      "{'reviews': [{'id': 97458121, 'type': 'REVIEW', 'rating': 3, 'title': {'text': 'bom ', 'class_name': 'ui-review-view__comments__review-comment__title'}, 'comment': {'content': {'text': 'Achei bom detergente ipê mas o valor tá um pouco a cima.', 'class_name': 'ui-review-view__comments__review-comment', 'see_more': 'Ver mais'}, 'time': {'text': 'Mais de 1 ano', 'class_name': 'ui-review-view__comments__review-comment__date'}, 'denounce': {'text': 'Denunciar', 'url': '/noindex/denounce/?item_id=MLB1484186426&element_id=97458121&element_type=REV', 'track': {'event_data': {'catalog_product_id': 'MLB18392113', 'review_id': 97458121, 'type': 'denounce'}, 'path': '/reviews/actions'}, 'class_name': 'ui-review-view__comments__review-comment-denunce'}}, 'actions': [{'id': 'LIKE', 'type': 'LIKE', 'value': 2, 'track': {'event_data': {'catalog_product_id': 'MLB18392113', 'review_id': 97458121, 'type': 'like'}, 'path': '/reviews/actions'}, 'icon': {'empty_icon': 'ThumbUpOutlined', 'full_icon': 'ThumbUpFillled'}, 'selected': False}, {'id': 'DISLIKE', 'type': 'DISLIKE', 'value': 0, 'track': {'event_data': {'catalog_product_id': 'MLB18392113', 'review_id': 97458121, 'type': 'dislike'}, 'path': '/reviews/actions'}, 'icon': {'empty_icon': 'ThumbUpOutlined', 'full_icon': 'ThumbUpFillled'}, 'selected': False}]}]}\n",
      "***************\n",
      "***************\n",
      "https://www.mercadolivre.com.br/noindex/catalog/reviews/MLB16195277/scroll?siteId=MLB&type=all&isItem=false&offset=0&limit=1\n",
      "200\n",
      "{'reviews': [], 'message': {'type': 'error', 'title': 'Não há nada aqui!', 'subtitle': 'Este produto ainda não tem opiniões negativas.'}}\n",
      "***************\n",
      "***************\n",
      "https://www.mercadolivre.com.br/noindex/catalog/reviews/MLB16199010/scroll?siteId=MLB&type=all&isItem=false&offset=0&limit=1\n",
      "200\n",
      "{'reviews': [{'id': 84872153, 'type': 'REVIEW', 'rating': 5, 'title': {'text': 'excelente', 'class_name': 'ui-review-view__comments__review-comment__title'}, 'comment': {'content': {'text': 'Considero um dos melhores guardanapos de papél do mercado e o preço foi muito bom.', 'class_name': 'ui-review-view__comments__review-comment', 'see_more': 'Ver mais'}, 'time': {'text': 'Mais de 1 ano', 'class_name': 'ui-review-view__comments__review-comment__date'}, 'denounce': {'text': 'Denunciar', 'url': '/noindex/denounce/?item_id=MLB1478453590&element_id=84872153&element_type=REV', 'track': {'event_data': {'catalog_product_id': 'MLB16199010', 'review_id': 84872153, 'type': 'denounce'}, 'path': '/reviews/actions'}, 'class_name': 'ui-review-view__comments__review-comment-denunce'}}, 'actions': [{'id': 'LIKE', 'type': 'LIKE', 'value': 0, 'track': {'event_data': {'catalog_product_id': 'MLB16199010', 'review_id': 84872153, 'type': 'like'}, 'path': '/reviews/actions'}, 'icon': {'empty_icon': 'ThumbUpOutlined', 'full_icon': 'ThumbUpFillled'}, 'selected': False}, {'id': 'DISLIKE', 'type': 'DISLIKE', 'value': 0, 'track': {'event_data': {'catalog_product_id': 'MLB16199010', 'review_id': 84872153, 'type': 'dislike'}, 'path': '/reviews/actions'}, 'icon': {'empty_icon': 'ThumbUpOutlined', 'full_icon': 'ThumbUpFillled'}, 'selected': False}]}]}\n",
      "***************\n",
      "***************\n",
      "https://www.mercadolivre.com.br/noindex/catalog/reviews/MLB16199014/scroll?siteId=MLB&type=all&isItem=false&offset=0&limit=1\n",
      "200\n",
      "{'reviews': [], 'message': {'type': 'error', 'title': 'Não há nada aqui!', 'subtitle': 'Este produto ainda não tem opiniões negativas.'}}\n",
      "***************\n",
      "***************\n",
      "https://www.mercadolivre.com.br/noindex/catalog/reviews/MLB1885898061/scroll?siteId=MLB&type=all&isItem=false&offset=0&limit=1\n",
      "404\n",
      "***************\n",
      "https://www.mercadolivre.com.br/noindex/catalog/reviews/MLB17919567/scroll?siteId=MLB&type=all&isItem=false&offset=0&limit=1\n",
      "200\n",
      "{'reviews': [{'id': 92079519, 'type': 'REVIEW', 'rating': 5, 'title': {'text': 'ótima para limpeza em geral', 'class_name': 'ui-review-view__comments__review-comment__title'}, 'comment': {'content': {'text': 'A esponja é ótima para lavar louças, super macia, e a parte mais áspera, é boa para retirar alguma parte mais grudada e seca que fica na louça antes da lavagem.', 'class_name': 'ui-review-view__comments__review-comment', 'see_more': 'Ver mais'}, 'time': {'text': 'Mais de 1 ano', 'class_name': 'ui-review-view__comments__review-comment__date'}, 'denounce': {'text': 'Denunciar', 'url': '/noindex/denounce/?item_id=MLB1254392832&element_id=92079519&element_type=REV', 'track': {'event_data': {'catalog_product_id': 'MLB17919567', 'review_id': 92079519, 'type': 'denounce'}, 'path': '/reviews/actions'}, 'class_name': 'ui-review-view__comments__review-comment-denunce'}}, 'actions': [{'id': 'LIKE', 'type': 'LIKE', 'value': 2, 'track': {'event_data': {'catalog_product_id': 'MLB17919567', 'review_id': 92079519, 'type': 'like'}, 'path': '/reviews/actions'}, 'icon': {'empty_icon': 'ThumbUpOutlined', 'full_icon': 'ThumbUpFillled'}, 'selected': False}, {'id': 'DISLIKE', 'type': 'DISLIKE', 'value': 0, 'track': {'event_data': {'catalog_product_id': 'MLB17919567', 'review_id': 92079519, 'type': 'dislike'}, 'path': '/reviews/actions'}, 'icon': {'empty_icon': 'ThumbUpOutlined', 'full_icon': 'ThumbUpFillled'}, 'selected': False}]}]}\n",
      "***************\n",
      "***************\n",
      "https://www.mercadolivre.com.br/noindex/catalog/reviews/MLB1276658158/scroll?siteId=MLB&type=all&isItem=false&offset=0&limit=1\n",
      "404\n",
      "***************\n",
      "https://www.mercadolivre.com.br/noindex/catalog/reviews/MLB19075158/scroll?siteId=MLB&type=all&isItem=false&offset=0&limit=1\n",
      "200\n",
      "{'reviews': [], 'message': {'type': 'error', 'title': 'Não há nada aqui!', 'subtitle': 'Este produto ainda não tem opiniões negativas.'}}\n",
      "***************\n",
      "***************\n",
      "https://www.mercadolivre.com.br/noindex/catalog/reviews/MLB1528352267/scroll?siteId=MLB&type=all&isItem=false&offset=0&limit=1\n",
      "404\n",
      "***************\n",
      "https://www.mercadolivre.com.br/noindex/catalog/reviews/MLB17001048/scroll?siteId=MLB&type=all&isItem=false&offset=0&limit=1\n",
      "200\n",
      "{'reviews': [{'id': 92464570, 'type': 'REVIEW', 'rating': 5, 'title': {'text': 'ótimo produto com preço bom', 'class_name': 'ui-review-view__comments__review-comment__title'}, 'comment': {'content': {'text': 'Omo né !!! despensa comentários. \\nMais barato que nos mercados do meu bairro e eu amo é o unico que deixa as roupas branquinhas, fora o omo so utilizo ariel liquido. Combinação matadora de sujeira.', 'class_name': 'ui-review-view__comments__review-comment', 'see_more': 'Ver mais'}, 'time': {'text': 'Mais de 1 ano', 'class_name': 'ui-review-view__comments__review-comment__date'}, 'denounce': {'text': 'Denunciar', 'url': '/noindex/denounce/?item_id=MLB1397481414&element_id=92464570&element_type=REV', 'track': {'event_data': {'catalog_product_id': 'MLB17001048', 'review_id': 92464570, 'type': 'denounce'}, 'path': '/reviews/actions'}, 'class_name': 'ui-review-view__comments__review-comment-denunce'}}, 'actions': [{'id': 'LIKE', 'type': 'LIKE', 'value': 7, 'track': {'event_data': {'catalog_product_id': 'MLB17001048', 'review_id': 92464570, 'type': 'like'}, 'path': '/reviews/actions'}, 'icon': {'empty_icon': 'ThumbUpOutlined', 'full_icon': 'ThumbUpFillled'}, 'selected': False}, {'id': 'DISLIKE', 'type': 'DISLIKE', 'value': 1, 'track': {'event_data': {'catalog_product_id': 'MLB17001048', 'review_id': 92464570, 'type': 'dislike'}, 'path': '/reviews/actions'}, 'icon': {'empty_icon': 'ThumbUpOutlined', 'full_icon': 'ThumbUpFillled'}, 'selected': False}]}]}\n",
      "***************\n",
      "***************\n",
      "https://www.mercadolivre.com.br/noindex/catalog/reviews/MLB18309780/scroll?siteId=MLB&type=all&isItem=false&offset=0&limit=1\n",
      "200\n",
      "{'reviews': [], 'message': {'type': 'error', 'title': 'Não há nada aqui!', 'subtitle': 'Este produto ainda não tem opiniões negativas.'}}\n",
      "***************\n",
      "***************\n",
      "https://www.mercadolivre.com.br/noindex/catalog/reviews/MLB18309777/scroll?siteId=MLB&type=all&isItem=false&offset=0&limit=1\n",
      "200\n",
      "{'reviews': [], 'message': {'type': 'error', 'title': 'Não há nada aqui!', 'subtitle': 'Este produto ainda não tem opiniões negativas.'}}\n",
      "***************\n",
      "***************\n",
      "https://www.mercadolivre.com.br/noindex/catalog/reviews/MLB15787949/scroll?siteId=MLB&type=all&isItem=false&offset=0&limit=1\n",
      "200\n",
      "{'reviews': [{'id': 134030974, 'type': 'REVIEW', 'rating': 1, 'title': {'text': 'nao gostei!redutor de agua eh danto que sai um fio', 'class_name': 'ui-review-view__comments__review-comment__title'}, 'comment': {'content': {'text': 'Torneira bonita! mas sai tanta, mas tanta pouca agua, q precisei tirar a parte mais bonita da torneira que eh a saida da agua!!!! eu me enganei com as avaliacoes!!! nao devolvi pq tentei de tudo p ver se comseguiria melhorar, acabei danificando a torneira!!! uma pena! bonita mas inutil.', 'class_name': 'ui-review-view__comments__review-comment', 'see_more': 'Ver mais'}, 'time': {'text': 'Há 3 meses', 'class_name': 'ui-review-view__comments__review-comment__date'}, 'denounce': {'text': 'Denunciar', 'url': '/noindex/denounce/?item_id=MLB2020225102&element_id=134030974&element_type=REV', 'track': {'event_data': {'catalog_product_id': 'MLB15787949', 'review_id': 134030974, 'type': 'denounce'}, 'path': '/reviews/actions'}, 'class_name': 'ui-review-view__comments__review-comment-denunce'}}, 'actions': [{'id': 'LIKE', 'type': 'LIKE', 'value': 4, 'track': {'event_data': {'catalog_product_id': 'MLB15787949', 'review_id': 134030974, 'type': 'like'}, 'path': '/reviews/actions'}, 'icon': {'empty_icon': 'ThumbUpOutlined', 'full_icon': 'ThumbUpFillled'}, 'selected': False}, {'id': 'DISLIKE', 'type': 'DISLIKE', 'value': 2, 'track': {'event_data': {'catalog_product_id': 'MLB15787949', 'review_id': 134030974, 'type': 'dislike'}, 'path': '/reviews/actions'}, 'icon': {'empty_icon': 'ThumbUpOutlined', 'full_icon': 'ThumbUpFillled'}, 'selected': False}]}]}\n",
      "***************\n",
      "***************\n",
      "https://www.mercadolivre.com.br/noindex/catalog/reviews/MLB1577856959/scroll?siteId=MLB&type=all&isItem=false&offset=0&limit=1\n",
      "404\n",
      "***************\n",
      "https://www.mercadolivre.com.br/noindex/catalog/reviews/MLB18459783/scroll?siteId=MLB&type=all&isItem=false&offset=0&limit=1\n",
      "200\n",
      "{'reviews': [{'id': 64018776, 'type': 'REVIEW', 'rating': 5, 'title': {'text': 'excelente', 'class_name': 'ui-review-view__comments__review-comment__title'}, 'comment': {'content': {'text': 'Gostei papel é muito bom o papel toalha próximo mês vou comprar de novo.', 'class_name': 'ui-review-view__comments__review-comment', 'see_more': 'Ver mais'}, 'time': {'text': 'Mais de 1 ano', 'class_name': 'ui-review-view__comments__review-comment__date'}, 'denounce': {'text': 'Denunciar', 'url': '/noindex/denounce/?item_id=MLB1420698060&element_id=64018776&element_type=REV', 'track': {'event_data': {'catalog_product_id': 'MLB18459783', 'review_id': 64018776, 'type': 'denounce'}, 'path': '/reviews/actions'}, 'class_name': 'ui-review-view__comments__review-comment-denunce'}}, 'actions': [{'id': 'LIKE', 'type': 'LIKE', 'value': 0, 'track': {'event_data': {'catalog_product_id': 'MLB18459783', 'review_id': 64018776, 'type': 'like'}, 'path': '/reviews/actions'}, 'icon': {'empty_icon': 'ThumbUpOutlined', 'full_icon': 'ThumbUpFillled'}, 'selected': False}, {'id': 'DISLIKE', 'type': 'DISLIKE', 'value': 0, 'track': {'event_data': {'catalog_product_id': 'MLB18459783', 'review_id': 64018776, 'type': 'dislike'}, 'path': '/reviews/actions'}, 'icon': {'empty_icon': 'ThumbUpOutlined', 'full_icon': 'ThumbUpFillled'}, 'selected': False}]}]}\n",
      "***************\n",
      "***************\n",
      "https://www.mercadolivre.com.br/noindex/catalog/reviews/MLB16949068/scroll?siteId=MLB&type=all&isItem=false&offset=0&limit=1\n",
      "200\n",
      "{'reviews': [{'id': 97484347, 'type': 'REVIEW', 'rating': 5, 'title': {'text': 'excelente', 'class_name': 'ui-review-view__comments__review-comment__title'}, 'comment': {'content': {'text': 'Gosto bastante desse produto auxilia bastante na hora de limpar as gorduras de pratos, talheres etc.', 'class_name': 'ui-review-view__comments__review-comment', 'see_more': 'Ver mais'}, 'time': {'text': 'Mais de 1 ano', 'class_name': 'ui-review-view__comments__review-comment__date'}, 'denounce': {'text': 'Denunciar', 'url': '/noindex/denounce/?item_id=MLB1623366754&element_id=97484347&element_type=REV', 'track': {'event_data': {'catalog_product_id': 'MLB16949068', 'review_id': 97484347, 'type': 'denounce'}, 'path': '/reviews/actions'}, 'class_name': 'ui-review-view__comments__review-comment-denunce'}}, 'actions': [{'id': 'LIKE', 'type': 'LIKE', 'value': 0, 'track': {'event_data': {'catalog_product_id': 'MLB16949068', 'review_id': 97484347, 'type': 'like'}, 'path': '/reviews/actions'}, 'icon': {'empty_icon': 'ThumbUpOutlined', 'full_icon': 'ThumbUpFillled'}, 'selected': False}, {'id': 'DISLIKE', 'type': 'DISLIKE', 'value': 0, 'track': {'event_data': {'catalog_product_id': 'MLB16949068', 'review_id': 97484347, 'type': 'dislike'}, 'path': '/reviews/actions'}, 'icon': {'empty_icon': 'ThumbUpOutlined', 'full_icon': 'ThumbUpFillled'}, 'selected': False}]}]}\n",
      "***************\n",
      "***************\n",
      "https://www.mercadolivre.com.br/noindex/catalog/reviews/MLB1952609184/scroll?siteId=MLB&type=all&isItem=false&offset=0&limit=1\n",
      "404\n",
      "***************\n",
      "https://www.mercadolivre.com.br/noindex/catalog/reviews/MLB1919450746/scroll?siteId=MLB&type=all&isItem=false&offset=0&limit=1\n",
      "404\n"
     ]
    }
   ],
   "source": [
    "# filter id product RE: \"/MLB-?(\\d{4,})\"\n",
    "\n",
    "# product_reviews = dict()\n",
    "# page_reviews = 'https://www.mercadolivre.com.br/noindex/catalog/reviews/MLB{}/scroll?siteId=MLB&type=all&isItem=true&offset={}&limit=1'\n",
    "for link in all_links:\n",
    "    counter = 0\n",
    "    try:\n",
    "        # while counter:\n",
    "        courrent_page = 'https://www.mercadolivre.com.br/noindex/catalog/reviews/MLB{}/scroll?siteId=MLB&type=all&isItem=false&offset={}&limit=1'\n",
    "        product_id = re.search(\"/MLB-?(\\d{4,})\", link)\n",
    "        product_reviews = courrent_page.format(product_id.group(1), counter)\n",
    "        print(product_reviews)\n",
    "        \n",
    "        product_request = requests.get(product_reviews)\n",
    "        print(product_request.status_code)\n",
    "        product_content = product_request.content.decode('utf-8')\n",
    "        product_parsed = html.fromstring(product_content)\n",
    "        reviews = product_parsed.xpath('/html/body/p/text()')\n",
    "        reviews_json = json.loads(reviews[0])\n",
    "        print(reviews_json)\n",
    "            \n",
    "    except:\n",
    "        next\n",
    "\n"
   ]
  },
  {
   "cell_type": "code",
   "execution_count": 17,
   "metadata": {},
   "outputs": [],
   "source": [
    "product = requests.get(all_links[1])\n",
    "product = product.content.decode('utf-8')\n",
    "product_parsed = html.fromstring(product)\n",
    "\n",
    "product_name = product_parsed.xpath('//*[@id=\"root-app\"]/div/div/div/div/div/div/div/div/div/div/h1/text()')\n",
    "review_links = product_parsed.xpath('//*[@id=\"root-app\"]/div/div/div/div/div/div/div/div/section/a/@href')"
   ]
  },
  {
   "cell_type": "code",
   "execution_count": 21,
   "metadata": {},
   "outputs": [
    {
     "data": {
      "text/plain": [
       "['/noindex/catalog/reviews/MLB16084355?noIndex=true&access=view_all&modal=true&controlled=true']"
      ]
     },
     "execution_count": 21,
     "metadata": {},
     "output_type": "execute_result"
    }
   ],
   "source": [
    "review_links"
   ]
  },
  {
   "cell_type": "code",
   "execution_count": 23,
   "metadata": {},
   "outputs": [],
   "source": [
    "review_page = 'http://mercadolivre.com.br' + review_links[0]\n",
    "reviews_list = requests.get(review_page)\n",
    "reviews_decode = reviews_list.content.decode('utf-8')\n",
    "reviews_parsed = html.fromstring(reviews_decode)\n",
    "\n",
    "reviews = reviews_parsed.xpath('//*[@id=\"reviews-capability.desktop\"]/section/div/div/div/div/div/article/p/text()')\n",
    "stars = reviews_parsed.xpath('//*[@id=\"reviews-capability.desktop\"]/section/div/div/div/div/div/article/div/label/text()')"
   ]
  },
  {
   "cell_type": "code",
   "execution_count": 26,
   "metadata": {},
   "outputs": [
    {
     "name": "stdout",
     "output_type": "stream",
     "text": [
      "http://mercadolivre.com.br/noindex/catalog/reviews/MLB16084355?noIndex=true&access=view_all&modal=true&controlled=true\n",
      "['Prático e macio. Sou deficiente física e tive que instalar um dispensar de inox no meu banheiro para usar melhor o sanitário. Meu braço esquerdo está paralisado após um avc.', 'Não tem muito oque falar, quem conhece sabe que neve é o melhor.', 'Amei, ótima qualidade e super macio. Além do fato do custo e benefício valer muito a pena.', 'Bom produto. Já sou consumidor deste produto há um bom tempo.', 'Sempre usei neve, mas é tão bom poder receber em casa, a um preço bom, e me sentir segura e bem atendida! obrigada.']\n",
      "['5', '5', '5', '4', '5']\n"
     ]
    }
   ],
   "source": [
    "print(review_page)\n",
    "print(reviews)\n",
    "print(stars)"
   ]
  },
  {
   "cell_type": "code",
   "execution_count": 25,
   "metadata": {},
   "outputs": [
    {
     "data": {
      "text/plain": [
       "5"
      ]
     },
     "execution_count": 25,
     "metadata": {},
     "output_type": "execute_result"
    }
   ],
   "source": [
    "len(reviews)"
   ]
  }
 ],
 "metadata": {
  "interpreter": {
   "hash": "8a943484dfab8b90328155481a92ada47d4456752df98a475034733f7dde3bf7"
  },
  "kernelspec": {
   "display_name": "Python 3.9.7 ('venv': venv)",
   "language": "python",
   "name": "python3"
  },
  "language_info": {
   "codemirror_mode": {
    "name": "ipython",
    "version": 3
   },
   "file_extension": ".py",
   "mimetype": "text/x-python",
   "name": "python",
   "nbconvert_exporter": "python",
   "pygments_lexer": "ipython3",
   "version": "3.9.7"
  },
  "orig_nbformat": 4
 },
 "nbformat": 4,
 "nbformat_minor": 2
}
