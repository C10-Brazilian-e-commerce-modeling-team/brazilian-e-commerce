{
 "cells": [
  {
   "cell_type": "code",
   "execution_count": 35,
   "metadata": {},
   "outputs": [],
   "source": [
    "# ### get link products\n",
    "# //*[@id=\"root-app\"]/div/div/section/ol/li/div/div/a/@href\n",
    "# #### Product name\n",
    "# //*[@id=\"root-app\"]/div/div/div/div/div/div/div/div/div/div/h1/text()\n",
    "# #### get link reviews\n",
    "# //*[@id=\"root-app\"]/div/div/div/div/div/div/div/div/section/a/@href\n",
    "# ##### Stars\n",
    "# //*[@id=\"reviews-capability.desktop\"]/section/div/div/div/div/div/article/div/label/text()\n",
    "# ##### review\n",
    "# //*[@id=\"reviews-capability.desktop\"]/section/div/div/div/div/div/article/p/text()\n",
    "# ### get next page link\n",
    "# //*[@id=\"root-app\"]/div/div/section/div/ul/li/a/@href"
   ]
  },
  {
   "cell_type": "code",
   "execution_count": 36,
   "metadata": {},
   "outputs": [],
   "source": [
    "import re\n",
    "import json\n",
    "import pandas as pd\n",
    "import requests\n",
    "import lxml.html as html"
   ]
  },
  {
   "cell_type": "markdown",
   "metadata": {},
   "source": [
    "### Scrap products from categories"
   ]
  },
  {
   "cell_type": "code",
   "execution_count": 52,
   "metadata": {},
   "outputs": [
    {
     "name": "stdout",
     "output_type": "stream",
     "text": [
      "['https://lista.mercadolivre.com.br/casa-moveis-decoracao/_Desde_49_NoIndex_True']\n",
      "['https://lista.mercadolivre.com.br/casa-moveis-decoracao/_Desde_97_NoIndex_True']\n",
      "['https://lista.mercadolivre.com.br/casa-moveis-decoracao/_Desde_145_NoIndex_True']\n",
      "['https://lista.mercadolivre.com.br/casa-moveis-decoracao/_Desde_193_NoIndex_True']\n",
      "['https://lista.mercadolivre.com.br/casa-moveis-decoracao/_Desde_241_NoIndex_True']\n",
      "['https://lista.mercadolivre.com.br/casa-moveis-decoracao/_Desde_289_NoIndex_True']\n",
      "['https://lista.mercadolivre.com.br/casa-moveis-decoracao/_Desde_337_NoIndex_True']\n",
      "['https://lista.mercadolivre.com.br/casa-moveis-decoracao/_Desde_385_NoIndex_True']\n",
      "['https://lista.mercadolivre.com.br/casa-moveis-decoracao/_Desde_433_NoIndex_True']\n",
      "['https://lista.mercadolivre.com.br/casa-moveis-decoracao/_Desde_481_NoIndex_True']\n",
      "['https://lista.mercadolivre.com.br/casa-moveis-decoracao/_Desde_529_NoIndex_True']\n",
      "['https://lista.mercadolivre.com.br/casa-moveis-decoracao/_Desde_577_NoIndex_True']\n",
      "['https://lista.mercadolivre.com.br/casa-moveis-decoracao/_Desde_625_NoIndex_True']\n",
      "['https://lista.mercadolivre.com.br/casa-moveis-decoracao/_Desde_673_NoIndex_True']\n",
      "['https://lista.mercadolivre.com.br/casa-moveis-decoracao/_Desde_721_NoIndex_True']\n",
      "['https://lista.mercadolivre.com.br/casa-moveis-decoracao/_Desde_769_NoIndex_True']\n",
      "['https://lista.mercadolivre.com.br/casa-moveis-decoracao/_Desde_817_NoIndex_True']\n",
      "['https://lista.mercadolivre.com.br/casa-moveis-decoracao/_Desde_865_NoIndex_True']\n",
      "['https://lista.mercadolivre.com.br/casa-moveis-decoracao/_Desde_913_NoIndex_True']\n",
      "['https://lista.mercadolivre.com.br/casa-moveis-decoracao/_Desde_961_NoIndex_True']\n",
      "['https://lista.mercadolivre.com.br/casa-moveis-decoracao/_Desde_1009_NoIndex_True']\n",
      "['https://lista.mercadolivre.com.br/casa-moveis-decoracao/_Desde_1057_NoIndex_True']\n",
      "['https://lista.mercadolivre.com.br/casa-moveis-decoracao/_Desde_1105_NoIndex_True']\n",
      "['https://lista.mercadolivre.com.br/casa-moveis-decoracao/_Desde_1153_NoIndex_True']\n",
      "['https://lista.mercadolivre.com.br/casa-moveis-decoracao/_Desde_1201_NoIndex_True']\n",
      "['https://lista.mercadolivre.com.br/casa-moveis-decoracao/_Desde_1249_NoIndex_True']\n",
      "['https://lista.mercadolivre.com.br/casa-moveis-decoracao/_Desde_1297_NoIndex_True']\n",
      "['https://lista.mercadolivre.com.br/casa-moveis-decoracao/_Desde_1345_NoIndex_True']\n",
      "['https://lista.mercadolivre.com.br/casa-moveis-decoracao/_Desde_1393_NoIndex_True']\n",
      "['https://lista.mercadolivre.com.br/casa-moveis-decoracao/_Desde_1441_NoIndex_True']\n",
      "['https://lista.mercadolivre.com.br/casa-moveis-decoracao/_Desde_1489_NoIndex_True']\n",
      "['https://lista.mercadolivre.com.br/casa-moveis-decoracao/_Desde_1537_NoIndex_True']\n",
      "['https://lista.mercadolivre.com.br/casa-moveis-decoracao/_Desde_1585_NoIndex_True']\n",
      "['https://lista.mercadolivre.com.br/casa-moveis-decoracao/_Desde_1633_NoIndex_True']\n",
      "['https://lista.mercadolivre.com.br/casa-moveis-decoracao/_Desde_1681_NoIndex_True']\n",
      "['https://lista.mercadolivre.com.br/casa-moveis-decoracao/_Desde_1729_NoIndex_True']\n",
      "['https://lista.mercadolivre.com.br/casa-moveis-decoracao/_Desde_1777_NoIndex_True']\n",
      "['https://lista.mercadolivre.com.br/casa-moveis-decoracao/_Desde_1825_NoIndex_True']\n",
      "['https://lista.mercadolivre.com.br/casa-moveis-decoracao/_Desde_1873_NoIndex_True']\n",
      "['https://lista.mercadolivre.com.br/casa-moveis-decoracao/_Desde_1921_NoIndex_True']\n",
      "['https://lista.mercadolivre.com.br/casa-moveis-decoracao/_Desde_1969_NoIndex_True']\n",
      "[]\n",
      "list index out of range\n"
     ]
    }
   ],
   "source": [
    "\n",
    "category_url = \"https://lista.mercadolivre.com.br/casa-moveis-decoracao/\"\n",
    "try:\n",
    "    all_links = []\n",
    "    while category_url:\n",
    "        response = requests.get(category_url)\n",
    "        if response.status_code == 200:\n",
    "            content = response.content.decode('utf-8')\n",
    "            parsed = html.fromstring(content)\n",
    "            links_products = parsed.xpath('//*[@id=\"root-app\"]/div/div/section/ol/li/div/div/a/@href')\n",
    "            all_links += links_products\n",
    "            next_page = parsed.xpath('//li[@class=\"andes-pagination__button andes-pagination__button--next\"]/a/@href')\n",
    "            print(next_page)\n",
    "            category_url = next_page[0]\n",
    "\n",
    "except Exception as e:\n",
    "    print(e)"
   ]
  },
  {
   "cell_type": "code",
   "execution_count": 53,
   "metadata": {},
   "outputs": [
    {
     "data": {
      "text/plain": [
       "2113"
      ]
     },
     "execution_count": 53,
     "metadata": {},
     "output_type": "execute_result"
    }
   ],
   "source": [
    "len(all_links)"
   ]
  },
  {
   "cell_type": "markdown",
   "metadata": {},
   "source": [
    "### get product reviews "
   ]
  },
  {
   "cell_type": "code",
   "execution_count": 54,
   "metadata": {},
   "outputs": [],
   "source": [
    "def get_reviews(request) -> json:\n",
    "    \n",
    "    product_content = request.content.decode('utf-8')\n",
    "    product_parsed = html.fromstring(product_content)\n",
    "    reviews = product_parsed.xpath('/html/body/p/text()')\n",
    "    reviews_json = json.loads(reviews[0])\n",
    "    \n",
    "    return reviews_json"
   ]
  },
  {
   "cell_type": "code",
   "execution_count": 42,
   "metadata": {},
   "outputs": [
    {
     "name": "stdout",
     "output_type": "stream",
     "text": [
      "200\n",
      "{'reviews': [{'id': 92464570, 'type': 'REVIEW', 'rating': 5, 'title': {'text': 'ótimo produto com preço bom', 'class_name': 'ui-review-view__comments__review-comment__title'}, 'comment': {'content': {'text': 'Omo né !!! despensa comentários. \\nMais barato que nos mercados do meu bairro e eu amo é o unico que deixa as roupas branquinhas, fora o omo so utilizo ariel liquido. Combinação matadora de sujeira.', 'class_name': 'ui-review-view__comments__review-comment', 'see_more': 'Ver mais'}, 'time': {'text': 'Mais de 1 ano', 'class_name': 'ui-review-view__comments__review-comment__date'}, 'denounce': {'text': 'Denunciar', 'url': '/noindex/denounce/?item_id=MLB1397481414&element_id=92464570&element_type=REV', 'track': {'event_data': {'catalog_product_id': 'MLB17001048', 'review_id': 92464570, 'type': 'denounce'}, 'path': '/reviews/actions'}, 'class_name': 'ui-review-view__comments__review-comment-denunce'}}, 'actions': [{'id': 'LIKE', 'type': 'LIKE', 'value': 7, 'track': {'event_data': {'catalog_product_id': 'MLB17001048', 'review_id': 92464570, 'type': 'like'}, 'path': '/reviews/actions'}, 'icon': {'empty_icon': 'ThumbUpOutlined', 'full_icon': 'ThumbUpFillled'}, 'selected': False}, {'id': 'DISLIKE', 'type': 'DISLIKE', 'value': 1, 'track': {'event_data': {'catalog_product_id': 'MLB17001048', 'review_id': 92464570, 'type': 'dislike'}, 'path': '/reviews/actions'}, 'icon': {'empty_icon': 'ThumbUpOutlined', 'full_icon': 'ThumbUpFillled'}, 'selected': False}]}]}\n"
     ]
    }
   ],
   "source": [
    "page_reviews = 'https://www.mercadolivre.com.br/noindex/catalog/reviews/MLB{}/scroll?siteId=MLB&type=all&isItem=false&offset={}&limit=1'\n",
    "\n",
    "product_id = product_id = re.search(\"/MLB-?(\\d{4,})\", all_links[1])\n",
    "\n",
    "product_reviews = page_reviews.format(product_id.group(1), 0)\n",
    "product_request = requests.get(product_reviews)\n",
    "print(product_request.status_code)\n",
    "product_content = product_request.content.decode('utf-8')\n",
    "product_parsed = html.fromstring(product_content)\n",
    "reviews = product_parsed.xpath('/html/body/p/text()')\n",
    "reviews_json = json.loads(reviews[0])\n",
    "print(reviews_json)\n"
   ]
  },
  {
   "cell_type": "code",
   "execution_count": 45,
   "metadata": {},
   "outputs": [
    {
     "name": "stdout",
     "output_type": "stream",
     "text": [
      "\n",
      "Rating:  5\n",
      "\n",
      "Title:   ótimo produto com preço bom\n",
      "\n",
      "Comment: \n",
      "Omo né !!! despensa comentários. \n",
      "Mais barato que nos mercados do meu bairro e eu amo é o unico que deixa as roupas branquinhas, fora o omo so utilizo ariel liquido. Combinação matadora de sujeira.\n",
      "        \n"
     ]
    }
   ],
   "source": [
    "title = reviews_json[\"reviews\"][0][\"title\"][\"text\"]\n",
    "coments = reviews_json[\"reviews\"][0][\"comment\"][\"content\"][\"text\"]\n",
    "rating = reviews_json[\"reviews\"][0][\"rating\"]\n",
    "\n",
    "print(f'''\n",
    "Rating:  {rating}\\n\n",
    "Title:   {title}\\n\n",
    "Comment: \\n{coments}\n",
    "        ''')"
   ]
  },
  {
   "cell_type": "markdown",
   "metadata": {},
   "source": [
    "### Extract reviews"
   ]
  },
  {
   "cell_type": "code",
   "execution_count": 50,
   "metadata": {},
   "outputs": [],
   "source": [
    "def scrap_reviews(url_product):\n",
    "    \n",
    "    page_reviews = 'https://www.mercadolivre.com.br/noindex/catalog/reviews/MLB{}/scroll?siteId=MLB&type=all&isItem=true&offset={}&limit=1'\n",
    "    altern_page_reviews = 'https://www.mercadolivre.com.br/noindex/catalog/reviews/MLB{}/scroll?siteId=MLB&type=all&isItem=false&offset={}&limit=1'\n",
    "    \n",
    "    try:\n",
    "        counter = 0\n",
    "        product = url_product\n",
    "        product_id = re.search(\"/MLB-?(\\d{4,})\", product)\n",
    "        while True:\n",
    "            \n",
    "            product_reviews = page_reviews.format(product_id.group(1), counter)\n",
    "            product_request = requests.get(product_reviews)\n",
    "\n",
    "            if product_request.status_code != 200:\n",
    "                product_reviews = altern_page_reviews.format(product_id.group(1), counter)\n",
    "                product_request = requests.get(product_reviews)\n",
    "                reviews = get_reviews(product_request)\n",
    "                print(reviews)\n",
    "            \n",
    "                if len(reviews[\"reviews\"][0]) == 1:\n",
    "                    break\n",
    "                else:\n",
    "                    return reviews\n",
    "\n",
    "            else:\n",
    "                product_request = requests.get(product_reviews)\n",
    "                reviews = get_reviews(product_request)\n",
    "                print(reviews)\n",
    "                counter += 1\n",
    "                print(counter)\n",
    "\n",
    "                if len(reviews[\"reviews\"][0]) == 1:\n",
    "                    break\n",
    "                else:\n",
    "                    return reviews\n",
    "            \n",
    "        counter += 1\n",
    "        print(counter)\n",
    "        \n",
    "    except:\n",
    "        next\n",
    "        "
   ]
  },
  {
   "cell_type": "code",
   "execution_count": 4,
   "metadata": {},
   "outputs": [],
   "source": [
    "page_reviews = 'https://www.mercadolivre.com.br/noindex/catalog/reviews/MLB{}/scroll?siteId=MLB&type=all&isItem=true&offset={}&limit=1'\n",
    "altern_page_reviews = 'https://www.mercadolivre.com.br/noindex/catalog/reviews/MLB{}/scroll?siteId=MLB&type=all&isItem=false&offset={}&limit=1'"
   ]
  },
  {
   "cell_type": "code",
   "execution_count": 56,
   "metadata": {},
   "outputs": [
    {
     "name": "stdout",
     "output_type": "stream",
     "text": [
      "{'reviews': [{'id': 97458121, 'type': 'REVIEW', 'rating': 3, 'title': {'text': 'bom ', 'class_name': 'ui-review-view__comments__review-comment__title'}, 'comment': {'content': {'text': 'Achei bom detergente ipê mas o valor tá um pouco a cima.', 'class_name': 'ui-review-view__comments__review-comment', 'see_more': 'Ver mais'}, 'time': {'text': 'Mais de 1 ano', 'class_name': 'ui-review-view__comments__review-comment__date'}, 'denounce': {'text': 'Denunciar', 'url': '/noindex/denounce/?item_id=MLB1484186426&element_id=97458121&element_type=REV', 'track': {'event_data': {'catalog_product_id': 'MLB18392113', 'review_id': 97458121, 'type': 'denounce'}, 'path': '/reviews/actions'}, 'class_name': 'ui-review-view__comments__review-comment-denunce'}}, 'actions': [{'id': 'LIKE', 'type': 'LIKE', 'value': 2, 'track': {'event_data': {'catalog_product_id': 'MLB18392113', 'review_id': 97458121, 'type': 'like'}, 'path': '/reviews/actions'}, 'icon': {'empty_icon': 'ThumbUpOutlined', 'full_icon': 'ThumbUpFillled'}, 'selected': False}, {'id': 'DISLIKE', 'type': 'DISLIKE', 'value': 0, 'track': {'event_data': {'catalog_product_id': 'MLB18392113', 'review_id': 97458121, 'type': 'dislike'}, 'path': '/reviews/actions'}, 'icon': {'empty_icon': 'ThumbUpOutlined', 'full_icon': 'ThumbUpFillled'}, 'selected': False}]}]}\n",
      "1\n",
      "{'reviews': [{'id': 90248666, 'type': 'REVIEW', 'rating': 5, 'title': {'text': 'o melhor ', 'class_name': 'ui-review-view__comments__review-comment__title'}, 'comment': {'content': {'text': 'Muito bom, produto original e de qualidade, pra mim é o melhor.', 'class_name': 'ui-review-view__comments__review-comment', 'see_more': 'Ver mais'}, 'time': {'text': 'Mais de 1 ano', 'class_name': 'ui-review-view__comments__review-comment__date'}, 'denounce': {'text': 'Denunciar', 'url': '/noindex/denounce/?item_id=MLB1484186426&element_id=90248666&element_type=REV', 'track': {'event_data': {'catalog_product_id': 'MLB18392113', 'review_id': 90248666, 'type': 'denounce'}, 'path': '/reviews/actions'}, 'class_name': 'ui-review-view__comments__review-comment-denunce'}}, 'actions': [{'id': 'LIKE', 'type': 'LIKE', 'value': 1, 'track': {'event_data': {'catalog_product_id': 'MLB18392113', 'review_id': 90248666, 'type': 'like'}, 'path': '/reviews/actions'}, 'icon': {'empty_icon': 'ThumbUpOutlined', 'full_icon': 'ThumbUpFillled'}, 'selected': False}, {'id': 'DISLIKE', 'type': 'DISLIKE', 'value': 0, 'track': {'event_data': {'catalog_product_id': 'MLB18392113', 'review_id': 90248666, 'type': 'dislike'}, 'path': '/reviews/actions'}, 'icon': {'empty_icon': 'ThumbUpOutlined', 'full_icon': 'ThumbUpFillled'}, 'selected': False}]}]}\n",
      "2\n",
      "{'reviews': [{'id': 84804312, 'type': 'REVIEW', 'rating': 5, 'title': {'text': 'limpa gastando pouco', 'class_name': 'ui-review-view__comments__review-comment__title'}, 'comment': {'content': {'text': 'Este é um dos melhores do mercado.', 'class_name': 'ui-review-view__comments__review-comment', 'see_more': 'Ver mais'}, 'time': {'text': 'Mais de 1 ano', 'class_name': 'ui-review-view__comments__review-comment__date'}, 'denounce': {'text': 'Denunciar', 'url': '/noindex/denounce/?item_id=MLB1484186426&element_id=84804312&element_type=REV', 'track': {'event_data': {'catalog_product_id': 'MLB18392113', 'review_id': 84804312, 'type': 'denounce'}, 'path': '/reviews/actions'}, 'class_name': 'ui-review-view__comments__review-comment-denunce'}}, 'actions': [{'id': 'LIKE', 'type': 'LIKE', 'value': 1, 'track': {'event_data': {'catalog_product_id': 'MLB18392113', 'review_id': 84804312, 'type': 'like'}, 'path': '/reviews/actions'}, 'icon': {'empty_icon': 'ThumbUpOutlined', 'full_icon': 'ThumbUpFillled'}, 'selected': False}, {'id': 'DISLIKE', 'type': 'DISLIKE', 'value': 0, 'track': {'event_data': {'catalog_product_id': 'MLB18392113', 'review_id': 84804312, 'type': 'dislike'}, 'path': '/reviews/actions'}, 'icon': {'empty_icon': 'ThumbUpOutlined', 'full_icon': 'ThumbUpFillled'}, 'selected': False}]}]}\n",
      "3\n",
      "{'reviews': [{'id': 97680170, 'type': 'REVIEW', 'rating': 5, 'title': {'text': 'excelente ', 'class_name': 'ui-review-view__comments__review-comment__title'}, 'comment': {'content': {'text': 'Produto excelente de ótima qualidade.', 'class_name': 'ui-review-view__comments__review-comment', 'see_more': 'Ver mais'}, 'time': {'text': 'Mais de 1 ano', 'class_name': 'ui-review-view__comments__review-comment__date'}, 'denounce': {'text': 'Denunciar', 'url': '/noindex/denounce/?item_id=MLB1761222256&element_id=97680170&element_type=REV', 'track': {'event_data': {'catalog_product_id': 'MLB18392113', 'review_id': 97680170, 'type': 'denounce'}, 'path': '/reviews/actions'}, 'class_name': 'ui-review-view__comments__review-comment-denunce'}}, 'actions': [{'id': 'LIKE', 'type': 'LIKE', 'value': 0, 'track': {'event_data': {'catalog_product_id': 'MLB18392113', 'review_id': 97680170, 'type': 'like'}, 'path': '/reviews/actions'}, 'icon': {'empty_icon': 'ThumbUpOutlined', 'full_icon': 'ThumbUpFillled'}, 'selected': False}, {'id': 'DISLIKE', 'type': 'DISLIKE', 'value': 0, 'track': {'event_data': {'catalog_product_id': 'MLB18392113', 'review_id': 97680170, 'type': 'dislike'}, 'path': '/reviews/actions'}, 'icon': {'empty_icon': 'ThumbUpOutlined', 'full_icon': 'ThumbUpFillled'}, 'selected': False}]}]}\n",
      "4\n",
      "{'reviews': [{'id': 89621603, 'type': 'REVIEW', 'rating': 5, 'title': {'text': 'recomendamos', 'class_name': 'ui-review-view__comments__review-comment__title'}, 'comment': {'content': {'text': 'Produto boa qualidade. Preço interessante.', 'class_name': 'ui-review-view__comments__review-comment', 'see_more': 'Ver mais'}, 'time': {'text': 'Mais de 1 ano', 'class_name': 'ui-review-view__comments__review-comment__date'}, 'denounce': {'text': 'Denunciar', 'url': '/noindex/denounce/?item_id=MLB1484186426&element_id=89621603&element_type=REV', 'track': {'event_data': {'catalog_product_id': 'MLB18392113', 'review_id': 89621603, 'type': 'denounce'}, 'path': '/reviews/actions'}, 'class_name': 'ui-review-view__comments__review-comment-denunce'}}, 'actions': [{'id': 'LIKE', 'type': 'LIKE', 'value': 0, 'track': {'event_data': {'catalog_product_id': 'MLB18392113', 'review_id': 89621603, 'type': 'like'}, 'path': '/reviews/actions'}, 'icon': {'empty_icon': 'ThumbUpOutlined', 'full_icon': 'ThumbUpFillled'}, 'selected': False}, {'id': 'DISLIKE', 'type': 'DISLIKE', 'value': 1, 'track': {'event_data': {'catalog_product_id': 'MLB18392113', 'review_id': 89621603, 'type': 'dislike'}, 'path': '/reviews/actions'}, 'icon': {'empty_icon': 'ThumbUpOutlined', 'full_icon': 'ThumbUpFillled'}, 'selected': False}]}]}\n",
      "5\n",
      "{'reviews': [{'id': 89415030, 'type': 'REVIEW', 'rating': 4, 'title': {'text': 'muito bom', 'class_name': 'ui-review-view__comments__review-comment__title'}, 'comment': {'content': {'text': 'Muito bom produto ja conhecido.', 'class_name': 'ui-review-view__comments__review-comment', 'see_more': 'Ver mais'}, 'time': {'text': 'Mais de 1 ano', 'class_name': 'ui-review-view__comments__review-comment__date'}, 'denounce': {'text': 'Denunciar', 'url': '/noindex/denounce/?item_id=MLB1484186426&element_id=89415030&element_type=REV', 'track': {'event_data': {'catalog_product_id': 'MLB18392113', 'review_id': 89415030, 'type': 'denounce'}, 'path': '/reviews/actions'}, 'class_name': 'ui-review-view__comments__review-comment-denunce'}}, 'actions': [{'id': 'LIKE', 'type': 'LIKE', 'value': 0, 'track': {'event_data': {'catalog_product_id': 'MLB18392113', 'review_id': 89415030, 'type': 'like'}, 'path': '/reviews/actions'}, 'icon': {'empty_icon': 'ThumbUpOutlined', 'full_icon': 'ThumbUpFillled'}, 'selected': False}, {'id': 'DISLIKE', 'type': 'DISLIKE', 'value': 0, 'track': {'event_data': {'catalog_product_id': 'MLB18392113', 'review_id': 89415030, 'type': 'dislike'}, 'path': '/reviews/actions'}, 'icon': {'empty_icon': 'ThumbUpOutlined', 'full_icon': 'ThumbUpFillled'}, 'selected': False}]}]}\n",
      "6\n",
      "{'reviews': []}\n"
     ]
    }
   ],
   "source": [
    "try:\n",
    "    counter = 0\n",
    "    product = all_links[0]\n",
    "    product_id = re.search(\"/MLB-?(\\d{4,})\", all_links[0])\n",
    "    while True:\n",
    "        \n",
    "        product_reviews = page_reviews.format(product_id.group(1), counter)\n",
    "        product_request = requests.get(product_reviews)\n",
    "\n",
    "        if product_request.status_code != 200:\n",
    "            product_reviews = altern_page_reviews.format(product_id.group(1), counter)\n",
    "            product_request = requests.get(product_reviews)\n",
    "            reviews = get_reviews(product_request)\n",
    "            print(reviews)\n",
    "        \n",
    "            if len(reviews[\"reviews\"][0]) == 1:\n",
    "                break\n",
    "\n",
    "        else:\n",
    "            product_request = requests.get(product_reviews)\n",
    "            reviews = get_reviews(product_request)\n",
    "            print(reviews)\n",
    "\n",
    "            if len(reviews[\"reviews\"][0]) == 1:\n",
    "                break\n",
    "        \n",
    "        counter += 1\n",
    "        print(counter)\n",
    "        \n",
    "except:\n",
    "    next\n"
   ]
  },
  {
   "cell_type": "markdown",
   "metadata": {},
   "source": [
    "### Simple Scraper"
   ]
  },
  {
   "cell_type": "code",
   "execution_count": 17,
   "metadata": {},
   "outputs": [],
   "source": [
    "product = requests.get(all_links[1])\n",
    "product = product.content.decode('utf-8')\n",
    "product_parsed = html.fromstring(product)\n",
    "\n",
    "product_name = product_parsed.xpath('//*[@id=\"root-app\"]/div/div/div/div/div/div/div/div/div/div/h1/text()')\n",
    "review_links = product_parsed.xpath('//*[@id=\"root-app\"]/div/div/div/div/div/div/div/div/section/a/@href')"
   ]
  },
  {
   "cell_type": "code",
   "execution_count": 21,
   "metadata": {},
   "outputs": [
    {
     "data": {
      "text/plain": [
       "['/noindex/catalog/reviews/MLB16084355?noIndex=true&access=view_all&modal=true&controlled=true']"
      ]
     },
     "execution_count": 21,
     "metadata": {},
     "output_type": "execute_result"
    }
   ],
   "source": [
    "review_links"
   ]
  },
  {
   "cell_type": "code",
   "execution_count": 23,
   "metadata": {},
   "outputs": [],
   "source": [
    "review_page = 'http://mercadolivre.com.br' + review_links[0]\n",
    "reviews_list = requests.get(review_page)\n",
    "reviews_decode = reviews_list.content.decode('utf-8')\n",
    "reviews_parsed = html.fromstring(reviews_decode)\n",
    "\n",
    "reviews = reviews_parsed.xpath('//*[@id=\"reviews-capability.desktop\"]/section/div/div/div/div/div/article/p/text()')\n",
    "stars = reviews_parsed.xpath('//*[@id=\"reviews-capability.desktop\"]/section/div/div/div/div/div/article/div/label/text()')"
   ]
  },
  {
   "cell_type": "code",
   "execution_count": 26,
   "metadata": {},
   "outputs": [
    {
     "name": "stdout",
     "output_type": "stream",
     "text": [
      "http://mercadolivre.com.br/noindex/catalog/reviews/MLB16084355?noIndex=true&access=view_all&modal=true&controlled=true\n",
      "['Prático e macio. Sou deficiente física e tive que instalar um dispensar de inox no meu banheiro para usar melhor o sanitário. Meu braço esquerdo está paralisado após um avc.', 'Não tem muito oque falar, quem conhece sabe que neve é o melhor.', 'Amei, ótima qualidade e super macio. Além do fato do custo e benefício valer muito a pena.', 'Bom produto. Já sou consumidor deste produto há um bom tempo.', 'Sempre usei neve, mas é tão bom poder receber em casa, a um preço bom, e me sentir segura e bem atendida! obrigada.']\n",
      "['5', '5', '5', '4', '5']\n"
     ]
    }
   ],
   "source": [
    "print(review_page)\n",
    "print(reviews)\n",
    "print(stars)"
   ]
  },
  {
   "cell_type": "code",
   "execution_count": 25,
   "metadata": {},
   "outputs": [
    {
     "data": {
      "text/plain": [
       "5"
      ]
     },
     "execution_count": 25,
     "metadata": {},
     "output_type": "execute_result"
    }
   ],
   "source": [
    "len(reviews)"
   ]
  }
 ],
 "metadata": {
  "interpreter": {
   "hash": "8a943484dfab8b90328155481a92ada47d4456752df98a475034733f7dde3bf7"
  },
  "kernelspec": {
   "display_name": "Python 3.9.7 ('venv': venv)",
   "language": "python",
   "name": "python3"
  },
  "language_info": {
   "codemirror_mode": {
    "name": "ipython",
    "version": 3
   },
   "file_extension": ".py",
   "mimetype": "text/x-python",
   "name": "python",
   "nbconvert_exporter": "python",
   "pygments_lexer": "ipython3",
   "version": "3.9.7"
  },
  "orig_nbformat": 4
 },
 "nbformat": 4,
 "nbformat_minor": 2
}
